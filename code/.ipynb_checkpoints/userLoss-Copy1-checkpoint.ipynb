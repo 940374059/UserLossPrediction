{
 "cells": [
  {
   "cell_type": "markdown",
   "metadata": {},
   "source": [
    "## 数据字段说明\n",
    "<br>\n",
    "\n",
    " | 变量名   | State  | Account Length | Area Code | Phone    | Int'l Plan       | VMail Plan \t   | VMail Message | Day Mins   | Day Calls    | Day Charge   | Eve Mins   | Eve Calls    | Eve Charge \t | Night Mins | Night Calls  | Night Charge | Intl Mins  | Intl Calls   | Intl Charge  | CustServ Calls | Churn?         | \n",
    " | ------   | ------ | ------         | ------    | ------   | ------           | ------           | ------        | ------     | ------       | ------       | ------     | ------       | ------       | ------     | ------       | ------       | ------     | ------       | ------       | ------         | ------         |\n",
    " | 变量解释 | 州     | 未知           | 区号      | 电话号码 | 是否为该计划用户 | 是否为该计划用户 | VMail消息量   | 每天通话量 | 白天通话次数 | 白天通话费用 | 傍晚通话量 | 傍晚通话次数 | 傍晚通话费用 | 夜间通话量 | 夜间通话次数 | 夜间通话费用 | 国际通话量 | 国际通话次数 | 国际通话费用 | 客服通话次数   | 是否为流失客户 | \n",
    "\n",
    "<br>\n",
    " 数据很简单,每行代表一个预订的电话用户。 每列包含客户属性，例如电话号码，在一天中不同时间使用的通话分钟，服务产生的费用，生命周期帐户持续时间以及客户是否仍然是客户。"
   ]
  },
  {
   "cell_type": "markdown",
   "metadata": {},
   "source": [
    "## 改进日志\n",
    "- 0619,GDBT效果最好，未标准化\n",
    "recall score:0.7609 \n",
    "\n",
    "- 0620，基于卡方分布、最大信息系数选择特征，删了一个特征，训练集GDBT精确率提高0.5%，随机森林模型召回率提高了3%，精确率提高了0.5%\n",
    "recall score:0.7609\n",
    "\n",
    "- 0621,使用了好几种方式特征选择，有基于GDBT单变量特征选择、递归特征消除、基于L1正则化筛选特征、基于GDBT特征重要性特征选择，GDBT召回率提高了0.2%,最后对GDBT模型调参，召回率提高了1%\n",
    "    - precision score: 0.8740\n",
    "    - recall score:0.8043\n",
    "- 0625,使用smote算法过采样，召回率提高了2%\n",
    "    - precision score: 0.7808\n",
    "    - recall score:0.8261\n",
    "- 0626,使用聚类划分小簇和离群点得分来检测异常值，效果不好\n",
    "    - precision score: 0.8571\n",
    "    - recall score:0.7826\n",
    "- 0627,构造3个特征，删了9个特征，召回率提高了3%\n",
    "    - precision score: 0.9147\n",
    "    - recall score:0.8551\n",
    "- 0628,采用stacking方式融合模型rf和gdbt,召回率降了0.8%，精确率提高了5%\n",
    "    - precision score: 0.9669\n",
    "    - recall score:0.8478"
   ]
  },
  {
   "cell_type": "code",
   "execution_count": 1,
   "metadata": {},
   "outputs": [],
   "source": [
    "import pandas as pd\n",
    "import numpy as np\n",
    "import matplotlib.pyplot as plt\n",
    "\n",
    "from sklearn.preprocessing import StandardScaler\n",
    "from sklearn.model_selection import train_test_split\n",
    "from sklearn.model_selection import cross_val_score\n",
    "from sklearn import metrics\n",
    "\n",
    "from sklearn.svm import SVC\n",
    "from sklearn.ensemble import RandomForestClassifier as RF\n",
    "from sklearn.neighbors import KNeighborsClassifier as KNN\n",
    "from sklearn.linear_model import LogisticRegression as LR\n",
    "from sklearn.ensemble import GradientBoostingClassifier as GBC\n",
    "from sklearn.model_selection import KFold\n"
   ]
  },
  {
   "cell_type": "code",
   "execution_count": 2,
   "metadata": {
    "scrolled": true
   },
   "outputs": [
    {
     "name": "stdout",
     "output_type": "stream",
     "text": [
      "(3333, 21)\n"
     ]
    },
    {
     "data": {
      "text/html": [
       "<div>\n",
       "<style scoped>\n",
       "    .dataframe tbody tr th:only-of-type {\n",
       "        vertical-align: middle;\n",
       "    }\n",
       "\n",
       "    .dataframe tbody tr th {\n",
       "        vertical-align: top;\n",
       "    }\n",
       "\n",
       "    .dataframe thead th {\n",
       "        text-align: right;\n",
       "    }\n",
       "</style>\n",
       "<table border=\"1\" class=\"dataframe\">\n",
       "  <thead>\n",
       "    <tr style=\"text-align: right;\">\n",
       "      <th></th>\n",
       "      <th>State</th>\n",
       "      <th>Account Length</th>\n",
       "      <th>Area Code</th>\n",
       "      <th>Phone</th>\n",
       "      <th>Int'l Plan</th>\n",
       "      <th>VMail Plan</th>\n",
       "      <th>VMail Message</th>\n",
       "      <th>Day Mins</th>\n",
       "      <th>Day Calls</th>\n",
       "      <th>Day Charge</th>\n",
       "      <th>...</th>\n",
       "      <th>Eve Calls</th>\n",
       "      <th>Eve Charge</th>\n",
       "      <th>Night Mins</th>\n",
       "      <th>Night Calls</th>\n",
       "      <th>Night Charge</th>\n",
       "      <th>Intl Mins</th>\n",
       "      <th>Intl Calls</th>\n",
       "      <th>Intl Charge</th>\n",
       "      <th>CustServ Calls</th>\n",
       "      <th>Churn?</th>\n",
       "    </tr>\n",
       "  </thead>\n",
       "  <tbody>\n",
       "    <tr>\n",
       "      <th>0</th>\n",
       "      <td>KS</td>\n",
       "      <td>128</td>\n",
       "      <td>415</td>\n",
       "      <td>382-4657</td>\n",
       "      <td>no</td>\n",
       "      <td>yes</td>\n",
       "      <td>25</td>\n",
       "      <td>265.1</td>\n",
       "      <td>110</td>\n",
       "      <td>45.07</td>\n",
       "      <td>...</td>\n",
       "      <td>99</td>\n",
       "      <td>16.78</td>\n",
       "      <td>244.7</td>\n",
       "      <td>91</td>\n",
       "      <td>11.01</td>\n",
       "      <td>10.0</td>\n",
       "      <td>3</td>\n",
       "      <td>2.70</td>\n",
       "      <td>1</td>\n",
       "      <td>False.</td>\n",
       "    </tr>\n",
       "    <tr>\n",
       "      <th>1</th>\n",
       "      <td>OH</td>\n",
       "      <td>107</td>\n",
       "      <td>415</td>\n",
       "      <td>371-7191</td>\n",
       "      <td>no</td>\n",
       "      <td>yes</td>\n",
       "      <td>26</td>\n",
       "      <td>161.6</td>\n",
       "      <td>123</td>\n",
       "      <td>27.47</td>\n",
       "      <td>...</td>\n",
       "      <td>103</td>\n",
       "      <td>16.62</td>\n",
       "      <td>254.4</td>\n",
       "      <td>103</td>\n",
       "      <td>11.45</td>\n",
       "      <td>13.7</td>\n",
       "      <td>3</td>\n",
       "      <td>3.70</td>\n",
       "      <td>1</td>\n",
       "      <td>False.</td>\n",
       "    </tr>\n",
       "    <tr>\n",
       "      <th>2</th>\n",
       "      <td>NJ</td>\n",
       "      <td>137</td>\n",
       "      <td>415</td>\n",
       "      <td>358-1921</td>\n",
       "      <td>no</td>\n",
       "      <td>no</td>\n",
       "      <td>0</td>\n",
       "      <td>243.4</td>\n",
       "      <td>114</td>\n",
       "      <td>41.38</td>\n",
       "      <td>...</td>\n",
       "      <td>110</td>\n",
       "      <td>10.30</td>\n",
       "      <td>162.6</td>\n",
       "      <td>104</td>\n",
       "      <td>7.32</td>\n",
       "      <td>12.2</td>\n",
       "      <td>5</td>\n",
       "      <td>3.29</td>\n",
       "      <td>0</td>\n",
       "      <td>False.</td>\n",
       "    </tr>\n",
       "    <tr>\n",
       "      <th>3</th>\n",
       "      <td>OH</td>\n",
       "      <td>84</td>\n",
       "      <td>408</td>\n",
       "      <td>375-9999</td>\n",
       "      <td>yes</td>\n",
       "      <td>no</td>\n",
       "      <td>0</td>\n",
       "      <td>299.4</td>\n",
       "      <td>71</td>\n",
       "      <td>50.90</td>\n",
       "      <td>...</td>\n",
       "      <td>88</td>\n",
       "      <td>5.26</td>\n",
       "      <td>196.9</td>\n",
       "      <td>89</td>\n",
       "      <td>8.86</td>\n",
       "      <td>6.6</td>\n",
       "      <td>7</td>\n",
       "      <td>1.78</td>\n",
       "      <td>2</td>\n",
       "      <td>False.</td>\n",
       "    </tr>\n",
       "    <tr>\n",
       "      <th>4</th>\n",
       "      <td>OK</td>\n",
       "      <td>75</td>\n",
       "      <td>415</td>\n",
       "      <td>330-6626</td>\n",
       "      <td>yes</td>\n",
       "      <td>no</td>\n",
       "      <td>0</td>\n",
       "      <td>166.7</td>\n",
       "      <td>113</td>\n",
       "      <td>28.34</td>\n",
       "      <td>...</td>\n",
       "      <td>122</td>\n",
       "      <td>12.61</td>\n",
       "      <td>186.9</td>\n",
       "      <td>121</td>\n",
       "      <td>8.41</td>\n",
       "      <td>10.1</td>\n",
       "      <td>3</td>\n",
       "      <td>2.73</td>\n",
       "      <td>3</td>\n",
       "      <td>False.</td>\n",
       "    </tr>\n",
       "  </tbody>\n",
       "</table>\n",
       "<p>5 rows × 21 columns</p>\n",
       "</div>"
      ],
      "text/plain": [
       "  State  Account Length  Area Code     Phone Int'l Plan VMail Plan  \\\n",
       "0    KS             128        415  382-4657         no        yes   \n",
       "1    OH             107        415  371-7191         no        yes   \n",
       "2    NJ             137        415  358-1921         no         no   \n",
       "3    OH              84        408  375-9999        yes         no   \n",
       "4    OK              75        415  330-6626        yes         no   \n",
       "\n",
       "   VMail Message  Day Mins  Day Calls  Day Charge   ...    Eve Calls  \\\n",
       "0             25     265.1        110       45.07   ...           99   \n",
       "1             26     161.6        123       27.47   ...          103   \n",
       "2              0     243.4        114       41.38   ...          110   \n",
       "3              0     299.4         71       50.90   ...           88   \n",
       "4              0     166.7        113       28.34   ...          122   \n",
       "\n",
       "   Eve Charge  Night Mins  Night Calls  Night Charge  Intl Mins  Intl Calls  \\\n",
       "0       16.78       244.7           91         11.01       10.0           3   \n",
       "1       16.62       254.4          103         11.45       13.7           3   \n",
       "2       10.30       162.6          104          7.32       12.2           5   \n",
       "3        5.26       196.9           89          8.86        6.6           7   \n",
       "4       12.61       186.9          121          8.41       10.1           3   \n",
       "\n",
       "   Intl Charge  CustServ Calls  Churn?  \n",
       "0         2.70               1  False.  \n",
       "1         3.70               1  False.  \n",
       "2         3.29               0  False.  \n",
       "3         1.78               2  False.  \n",
       "4         2.73               3  False.  \n",
       "\n",
       "[5 rows x 21 columns]"
      ]
     },
     "execution_count": 2,
     "metadata": {},
     "output_type": "execute_result"
    }
   ],
   "source": [
    "data=pd.read_csv(\"../input/churn.csv\")\n",
    "print data.shape\n",
    "data.head()"
   ]
  },
  {
   "cell_type": "code",
   "execution_count": 3,
   "metadata": {},
   "outputs": [
    {
     "data": {
      "text/plain": [
       "float64    8\n",
       "int64      8\n",
       "object     5\n",
       "dtype: int64"
      ]
     },
     "execution_count": 3,
     "metadata": {},
     "output_type": "execute_result"
    }
   ],
   "source": [
    "# 查看特征列类型分布\n",
    "data.dtypes.value_counts()"
   ]
  },
  {
   "cell_type": "code",
   "execution_count": 4,
   "metadata": {},
   "outputs": [
    {
     "data": {
      "text/plain": [
       "State         object\n",
       "Phone         object\n",
       "Int'l Plan    object\n",
       "VMail Plan    object\n",
       "Churn?        object\n",
       "dtype: object"
      ]
     },
     "execution_count": 4,
     "metadata": {},
     "output_type": "execute_result"
    }
   ],
   "source": [
    "# 查看具体哪些特征列是object类型\n",
    "data.dtypes[data.dtypes=='object']"
   ]
  },
  {
   "cell_type": "code",
   "execution_count": 5,
   "metadata": {},
   "outputs": [],
   "source": [
    "# 删除无关特征\n",
    "data=data.drop(['State','Area Code','Phone'],axis=1)"
   ]
  },
  {
   "cell_type": "code",
   "execution_count": 6,
   "metadata": {},
   "outputs": [],
   "source": [
    "# 类型转换\n",
    "data['Churn?']=data['Churn?'].map(lambda x: 1 if x=='True.' else 0)\n",
    "cols = [\"Int'l Plan\",\"VMail Plan\"]\n",
    "for col in cols:\n",
    "    data[col]=data[col].map(lambda x: 1 if x=='yes' else 0)"
   ]
  },
  {
   "cell_type": "code",
   "execution_count": 7,
   "metadata": {},
   "outputs": [
    {
     "data": {
      "text/plain": [
       "Account Length    0\n",
       "Intl Charge       0\n",
       "Intl Calls        0\n",
       "Intl Mins         0\n",
       "Night Charge      0\n",
       "Night Calls       0\n",
       "Night Mins        0\n",
       "Eve Charge        0\n",
       "Eve Calls         0\n",
       "Eve Mins          0\n",
       "Day Charge        0\n",
       "Day Calls         0\n",
       "Day Mins          0\n",
       "VMail Message     0\n",
       "VMail Plan        0\n",
       "Int'l Plan        0\n",
       "CustServ Calls    0\n",
       "Churn?            0\n",
       "dtype: int64"
      ]
     },
     "execution_count": 7,
     "metadata": {},
     "output_type": "execute_result"
    }
   ],
   "source": [
    "# 检查缺失值\n",
    "data.isnull().sum().sort_values()"
   ]
  },
  {
   "cell_type": "code",
   "execution_count": 8,
   "metadata": {},
   "outputs": [],
   "source": [
    "#划分训练集和测试集\n",
    "y=data.pop('Churn?')\n",
    "train,test,train_y,test_y=train_test_split(data,y,test_size=0.3,random_state=0)"
   ]
  },
  {
   "cell_type": "code",
   "execution_count": 9,
   "metadata": {},
   "outputs": [],
   "source": [
    "# 评价函数\n",
    "from sklearn.model_selection import StratifiedKFold\n",
    "cv=StratifiedKFold(n_splits=5, random_state=0, shuffle=False)\n",
    "def train_cv(X,y,clf):\n",
    "    print(\"precision score: %.4f\"%cross_val_score(clf, X, y, cv=cv, scoring='precision').mean())\n",
    "    print(\"recall score:%.4f \"%cross_val_score(clf, X, y, cv=cv,scoring='recall').mean())"
   ]
  },
  {
   "cell_type": "code",
   "execution_count": 10,
   "metadata": {},
   "outputs": [
    {
     "name": "stdout",
     "output_type": "stream",
     "text": [
      "precision score: 0.5336\n",
      "recall score:0.1594 \n",
      "\n"
     ]
    },
    {
     "name": "stderr",
     "output_type": "stream",
     "text": [
      "C:\\Users\\starcor\\AppData\\Local\\Continuum\\anaconda2\\lib\\site-packages\\sklearn\\metrics\\classification.py:1135: UndefinedMetricWarning: Precision is ill-defined and being set to 0.0 due to no predicted samples.\n",
      "  'precision', 'predicted', average, warn_for)\n"
     ]
    },
    {
     "name": "stdout",
     "output_type": "stream",
     "text": [
      "precision score: 0.0000\n",
      "recall score:0.0000 \n",
      "\n",
      "precision score: 0.6611\n",
      "recall score:0.2957 \n",
      "\n",
      "precision score: 0.8932\n",
      "recall score:0.6261 \n",
      "\n",
      "precision score: 0.9094\n",
      "recall score:0.7362 \n",
      "\n"
     ]
    }
   ],
   "source": [
    "train_cv(train,train_y,LR())\n",
    "print\n",
    "train_cv(train,train_y,SVC(random_state=0))\n",
    "print\n",
    "train_cv(train,train_y,KNN())\n",
    "print\n",
    "train_cv(train,train_y,RF(random_state=0))\n",
    "print\n",
    "train_cv(train,train_y,GBC(random_state=0))\n",
    "print"
   ]
  },
  {
   "cell_type": "code",
   "execution_count": 11,
   "metadata": {},
   "outputs": [
    {
     "data": {
      "text/plain": [
       "0.7608695652173914"
      ]
     },
     "execution_count": 11,
     "metadata": {},
     "output_type": "execute_result"
    }
   ],
   "source": [
    "clf=GBC(random_state=0).fit(train,train_y)\n",
    "pred=clf.predict(test)\n",
    "metrics.recall_score(test_y,pred)"
   ]
  },
  {
   "cell_type": "markdown",
   "metadata": {},
   "source": [
    "### 递归特征消除"
   ]
  },
  {
   "cell_type": "code",
   "execution_count": 12,
   "metadata": {},
   "outputs": [
    {
     "name": "stdout",
     "output_type": "stream",
     "text": [
      "Index([u'Account Length', u'Night Calls'], dtype='object') 0.744927536231884\n"
     ]
    }
   ],
   "source": [
    "# 通过交叉验证自动确定消除特征数目\n",
    "from sklearn.feature_selection import RFECV\n",
    "\n",
    "clf=RFECV(estimator=GBC(random_state=0),step=1,cv=cv,scoring='recall')\n",
    "clf.fit(train,train_y)\n",
    "# 被消除的特征\n",
    "print train.columns[~clf.support_],np.max(clf.grid_scores_)\n",
    "# 消除特征剩余个数对应得分\n",
    "#clf.grid_scores_"
   ]
  },
  {
   "cell_type": "code",
   "execution_count": 13,
   "metadata": {},
   "outputs": [
    {
     "data": {
      "text/plain": [
       "(0.8948, 0.7478)"
      ]
     },
     "execution_count": 13,
     "metadata": {},
     "output_type": "execute_result"
    }
   ],
   "source": [
    "# 综合前面的选择，删除两个特征\n",
    "train1=train.drop(['Night Calls','Account Length'],axis=1)\n",
    "clf =GBC(random_state=0)\n",
    "round(cross_val_score(clf, train1, train_y, cv=cv, scoring='precision').mean(),4),round(cross_val_score(clf, train1, train_y, cv=cv, scoring='recall').mean(),4)"
   ]
  },
  {
   "cell_type": "markdown",
   "metadata": {},
   "source": [
    "### 基于GDBT的特征选择"
   ]
  },
  {
   "cell_type": "code",
   "execution_count": 14,
   "metadata": {},
   "outputs": [
    {
     "name": "stderr",
     "output_type": "stream",
     "text": [
      "C:\\Users\\starcor\\AppData\\Local\\Continuum\\anaconda2\\lib\\site-packages\\sklearn\\utils\\validation.py:578: DataConversionWarning: A column-vector y was passed when a 1d array was expected. Please change the shape of y to (n_samples, ), for example using ravel().\n",
      "  y = column_or_1d(y, warn=True)\n"
     ]
    },
    {
     "name": "stdout",
     "output_type": "stream",
     "text": [
      "0.025 0.7391304347826088\n",
      "0.026 0.7391304347826088\n",
      "0.027 0.7391304347826088\n",
      "0.028 0.744927536231884\n",
      "0.029 0.7507246376811596\n",
      "0.03 0.7507246376811596\n",
      "0.031 0.7391304347826088\n",
      "0.032 0.7391304347826088\n",
      "0.033 0.7391304347826088\n",
      "0.034 0.7391304347826088\n",
      "\n",
      "0.029 0.7507246376811596\n"
     ]
    }
   ],
   "source": [
    "from sklearn.feature_selection import SelectFromModel\n",
    "\n",
    "score=0\n",
    "index=0\n",
    "clf1=GBC(random_state=0).fit(train.values, train_y.values.reshape(-1,1))\n",
    "for i in range(250,350,10):\n",
    "    model = SelectFromModel(clf1,threshold=i/10000.0)\n",
    "    model.fit(train,train_y)\n",
    "    train1=model.transform(train)\n",
    "    clf =GBC(random_state=0)\n",
    "    cv_score=cross_val_score(clf, train1, train_y, cv=cv, scoring='recall').mean()\n",
    "    if score<cv_score:\n",
    "        score=cv_score\n",
    "        index=i/10000.0\n",
    "    print i/10000.0,cv_score\n",
    "print\n",
    "print index,score"
   ]
  },
  {
   "cell_type": "code",
   "execution_count": 15,
   "metadata": {},
   "outputs": [
    {
     "name": "stdout",
     "output_type": "stream",
     "text": [
      "Index([u'Account Length', u'VMail Plan', u'Day Calls', u'Eve Calls'], dtype='object')\n"
     ]
    },
    {
     "data": {
      "text/plain": [
       "(0.9069, 0.7507)"
      ]
     },
     "execution_count": 15,
     "metadata": {},
     "output_type": "execute_result"
    }
   ],
   "source": [
    "model = SelectFromModel(clf1,threshold=index)\n",
    "model.fit(train,train_y)\n",
    "train1=model.transform(train)\n",
    "\n",
    "clf =GBC(random_state=0)\n",
    "print train.columns[~model.get_support()]\n",
    "round(cross_val_score(clf, train1, train_y, cv=cv, scoring='precision').mean(),4),round(cross_val_score(clf, train1, train_y, cv=cv, scoring='recall').mean(),4)"
   ]
  },
  {
   "cell_type": "markdown",
   "metadata": {},
   "source": [
    "#### 小结\n",
    "- 方差筛选\n",
    "    - discarded feature: None\n",
    "    - recall score:0.7362 \n",
    "- 卡方检验\n",
    "    - discarded feature: 'Eve Calls'\n",
    "    - recall score:0.7536231884057971\n",
    "- 互信息法\n",
    "    - discarded feature: 'Account Length', 'VMail Message', 'Eve Mins'\n",
    "    - recall score:0.7507246376811594\n",
    "- 基于相关系数的假设检验\n",
    "    - discarded feature: 'Eve Calls'\n",
    "    - recall score:0.7536231884057971\n",
    "- 基于GDBT的单变量特征选择\n",
    "    - discarded feature: 'VMail Plan'\n",
    "    - recall score:0.7391\n",
    "- 递归特征消除\n",
    "    - discarded feature: 'Night Calls','Account Length'\n",
    "    - recall score:0.7478\n",
    "- 基于L1的LR特征选择\n",
    "    - discarded feature: 'Account Length', 'Night Calls', 'Night Charge', 'Intl Charge'\n",
    "    - recall score:0.7507\n",
    "- 基于GDBT的特征选择\n",
    "    - discarded feature: 'Account Length', 'VMail Plan', 'Day Calls', 'Eve Calls'\n",
    "    - recall score:0.7507"
   ]
  },
  {
   "cell_type": "code",
   "execution_count": 16,
   "metadata": {},
   "outputs": [
    {
     "data": {
      "text/plain": [
       "(0.9204, 0.7536)"
      ]
     },
     "execution_count": 16,
     "metadata": {},
     "output_type": "execute_result"
    }
   ],
   "source": [
    "# 去除特征Eve Calls\n",
    "train1=train.drop(['Eve Calls'],axis=1)\n",
    "clf =GBC(random_state=0)\n",
    "round(cross_val_score(clf, train1, train_y, cv=cv, scoring='precision').mean(),4),round(cross_val_score(clf, train1, train_y, cv=cv, scoring='recall').mean(),4)"
   ]
  },
  {
   "cell_type": "code",
   "execution_count": 17,
   "metadata": {},
   "outputs": [
    {
     "data": {
      "text/plain": [
       "(0.7753623188405797, 0.8492063492063492)"
      ]
     },
     "execution_count": 17,
     "metadata": {},
     "output_type": "execute_result"
    }
   ],
   "source": [
    "clf.fit(train1,train_y)\n",
    "test1=test.drop('Eve Calls',axis=1)\n",
    "pred=clf.predict(test1)\n",
    "metrics.recall_score(test_y,pred),metrics.precision_score(test_y,pred)"
   ]
  },
  {
   "cell_type": "markdown",
   "metadata": {},
   "source": [
    "### GDBT调参"
   ]
  },
  {
   "cell_type": "code",
   "execution_count": 18,
   "metadata": {},
   "outputs": [
    {
     "data": {
      "text/plain": [
       "(0.8711, 0.7565)"
      ]
     },
     "execution_count": 18,
     "metadata": {},
     "output_type": "execute_result"
    }
   ],
   "source": [
    "clf = GBC(learning_rate=0.1, n_estimators=78,\n",
    "                            max_depth=5, \n",
    "                            min_samples_leaf =1,\n",
    "                            min_samples_split =52,\n",
    "                        random_state=0)\n",
    "round(cross_val_score(clf, train1, train_y, cv=cv, scoring='precision').mean(),4),round(cross_val_score(clf, train1, train_y, cv=cv, scoring='recall').mean(),4)"
   ]
  },
  {
   "cell_type": "code",
   "execution_count": 19,
   "metadata": {},
   "outputs": [
    {
     "data": {
      "text/plain": [
       "(0.8043478260869565, 0.8740157480314961)"
      ]
     },
     "execution_count": 19,
     "metadata": {},
     "output_type": "execute_result"
    }
   ],
   "source": [
    "clf.fit(train1,train_y)\n",
    "pred=clf.predict(test1)\n",
    "metrics.recall_score(test_y,pred),metrics.precision_score(test_y,pred)"
   ]
  },
  {
   "cell_type": "markdown",
   "metadata": {},
   "source": [
    "#### smote算法过采样"
   ]
  },
  {
   "cell_type": "code",
   "execution_count": 20,
   "metadata": {},
   "outputs": [],
   "source": [
    "# 过抽样处理库SMOTE\n",
    "from imblearn.over_sampling import SMOTE \n",
    "\n",
    "# 建立SMOTE模型对象\n",
    "model_smote = SMOTE(random_state=2) \n",
    "# 输入数据并作过抽样处理\n",
    "x_smote_resampled, y_smote_resampled = model_smote.fit_sample(train,train_y) \n",
    "x_smote_resampled = pd.DataFrame(x_smote_resampled, columns=train.columns)\n",
    "y_smote_resampled = pd.DataFrame(y_smote_resampled,columns=['Churn?']) "
   ]
  },
  {
   "cell_type": "code",
   "execution_count": 21,
   "metadata": {},
   "outputs": [
    {
     "data": {
      "text/plain": [
       "(0.8260869565217391, 0.7808219178082192)"
      ]
     },
     "execution_count": 21,
     "metadata": {},
     "output_type": "execute_result"
    }
   ],
   "source": [
    "# 去除特征Eve Calls\n",
    "train1=x_smote_resampled.drop(['Eve Calls'],axis=1)\n",
    "clf = GBC(learning_rate=0.1, n_estimators=78,\n",
    "                            max_depth=5, \n",
    "                            min_samples_leaf =1,\n",
    "                            min_samples_split =52,\n",
    "                        random_state=0)\n",
    "clf.fit(train1,y_smote_resampled)\n",
    "test1=test.drop(['Eve Calls'],axis=1)\n",
    "pred=clf.predict(test1)\n",
    "metrics.recall_score(test_y,pred),metrics.precision_score(test_y,pred)"
   ]
  },
  {
   "cell_type": "markdown",
   "metadata": {},
   "source": [
    "####  异常值检测"
   ]
  },
  {
   "cell_type": "markdown",
   "metadata": {},
   "source": [
    "#### 基于聚类的小簇划分法及离群点划分法"
   ]
  },
  {
   "cell_type": "code",
   "execution_count": 22,
   "metadata": {},
   "outputs": [],
   "source": [
    "df=pd.concat([train,train_y],axis=1)\n",
    "df=df.reset_index()\n",
    "df=df.drop('index',axis=1)"
   ]
  },
  {
   "cell_type": "code",
   "execution_count": 23,
   "metadata": {},
   "outputs": [
    {
     "data": {
      "image/png": "[encoded data removed]",
      "text/plain": [
       "<matplotlib.figure.Figure at 0xb73f898>"
      ]
     },
     "metadata": {},
     "output_type": "display_data"
    }
   ],
   "source": [
    "# 首先确定最佳簇的个数\n",
    "#聚类+手肘法\n",
    "from sklearn.cluster import KMeans  \n",
    "  \n",
    "# 存放每次结果的误差平方和  \n",
    "SSE = []  \n",
    "for k in range(1,10):  \n",
    "    estimator = KMeans(n_clusters=k)  # 构造聚类器  \n",
    "    estimator.fit(df)  \n",
    "    SSE.append(estimator.inertia_)  \n",
    "X = range(1,10)  \n",
    "plt.xlabel('k')  \n",
    "plt.ylabel('SSE')  \n",
    "plt.plot(X,SSE,'o-')  \n",
    "plt.show()  "
   ]
  },
  {
   "cell_type": "code",
   "execution_count": 24,
   "metadata": {},
   "outputs": [
    {
     "data": {
      "image/png": "[encoded data removed]",
      "text/plain": [
       "<matplotlib.figure.Figure at 0xced9a58>"
      ]
     },
     "metadata": {},
     "output_type": "display_data"
    }
   ],
   "source": [
    "# 聚类+轮廓系数\n",
    "from sklearn.metrics import silhouette_score\n",
    "plt.rcParams['font.sans-serif']=['SimHei'] #用来正常显示中文标签\n",
    "plt.rcParams['axes.unicode_minus']=False #用来正常显示负号\n",
    "\n",
    "# 存放轮廓系数  \n",
    "Scores = []  \n",
    "for k in range(2,10):  \n",
    "    estimator = KMeans(n_clusters=k)  # 构造聚类器  \n",
    "    estimator.fit(df)  \n",
    "    Scores.append(silhouette_score(df,estimator.labels_,metric='euclidean'))  \n",
    "X = range(2,10)  \n",
    "plt.xlabel('k')  \n",
    "plt.ylabel(u'轮廓系数')  \n",
    "plt.plot(X,Scores,'o-')  \n",
    "plt.show()  "
   ]
  },
  {
   "cell_type": "code",
   "execution_count": 25,
   "metadata": {},
   "outputs": [
    {
     "name": "stdout",
     "output_type": "stream",
     "text": [
      "3    620\n",
      "2    596\n",
      "1    587\n",
      "0    530\n",
      "dtype: int64\n"
     ]
    },
    {
     "data": {
      "text/html": [
       "<div>\n",
       "<style scoped>\n",
       "    .dataframe tbody tr th:only-of-type {\n",
       "        vertical-align: middle;\n",
       "    }\n",
       "\n",
       "    .dataframe tbody tr th {\n",
       "        vertical-align: top;\n",
       "    }\n",
       "\n",
       "    .dataframe thead th {\n",
       "        text-align: right;\n",
       "    }\n",
       "</style>\n",
       "<table border=\"1\" class=\"dataframe\">\n",
       "  <thead>\n",
       "    <tr style=\"text-align: right;\">\n",
       "      <th></th>\n",
       "      <th>0</th>\n",
       "      <th>1</th>\n",
       "      <th>2</th>\n",
       "      <th>3</th>\n",
       "      <th>4</th>\n",
       "      <th>5</th>\n",
       "      <th>6</th>\n",
       "      <th>7</th>\n",
       "      <th>8</th>\n",
       "      <th>9</th>\n",
       "      <th>10</th>\n",
       "      <th>11</th>\n",
       "      <th>12</th>\n",
       "      <th>13</th>\n",
       "      <th>14</th>\n",
       "      <th>15</th>\n",
       "      <th>16</th>\n",
       "      <th>17</th>\n",
       "    </tr>\n",
       "  </thead>\n",
       "  <tbody>\n",
       "    <tr>\n",
       "      <th>0</th>\n",
       "      <td>102.764151</td>\n",
       "      <td>0.098113</td>\n",
       "      <td>0.273585</td>\n",
       "      <td>7.913208</td>\n",
       "      <td>188.433208</td>\n",
       "      <td>101.524528</td>\n",
       "      <td>32.034113</td>\n",
       "      <td>152.761321</td>\n",
       "      <td>101.267925</td>\n",
       "      <td>12.984906</td>\n",
       "      <td>162.216038</td>\n",
       "      <td>100.754717</td>\n",
       "      <td>7.299717</td>\n",
       "      <td>10.241321</td>\n",
       "      <td>4.507547</td>\n",
       "      <td>2.765736</td>\n",
       "      <td>1.592453</td>\n",
       "      <td>0.113208</td>\n",
       "    </tr>\n",
       "    <tr>\n",
       "      <th>1</th>\n",
       "      <td>101.935264</td>\n",
       "      <td>0.090290</td>\n",
       "      <td>0.267462</td>\n",
       "      <td>7.611584</td>\n",
       "      <td>123.300170</td>\n",
       "      <td>100.604770</td>\n",
       "      <td>20.961652</td>\n",
       "      <td>228.920613</td>\n",
       "      <td>99.925043</td>\n",
       "      <td>19.458484</td>\n",
       "      <td>185.287564</td>\n",
       "      <td>99.768313</td>\n",
       "      <td>8.338092</td>\n",
       "      <td>10.333049</td>\n",
       "      <td>4.442930</td>\n",
       "      <td>2.790307</td>\n",
       "      <td>1.543441</td>\n",
       "      <td>0.110733</td>\n",
       "    </tr>\n",
       "    <tr>\n",
       "      <th>2</th>\n",
       "      <td>99.305369</td>\n",
       "      <td>0.080537</td>\n",
       "      <td>0.283557</td>\n",
       "      <td>8.142617</td>\n",
       "      <td>175.772315</td>\n",
       "      <td>100.958054</td>\n",
       "      <td>29.881930</td>\n",
       "      <td>181.332383</td>\n",
       "      <td>100.201342</td>\n",
       "      <td>15.413423</td>\n",
       "      <td>257.588591</td>\n",
       "      <td>99.216443</td>\n",
       "      <td>11.591695</td>\n",
       "      <td>10.280705</td>\n",
       "      <td>4.466443</td>\n",
       "      <td>2.776309</td>\n",
       "      <td>1.546980</td>\n",
       "      <td>0.098993</td>\n",
       "    </tr>\n",
       "    <tr>\n",
       "      <th>3</th>\n",
       "      <td>99.083871</td>\n",
       "      <td>0.103226</td>\n",
       "      <td>0.296774</td>\n",
       "      <td>8.890323</td>\n",
       "      <td>230.784194</td>\n",
       "      <td>98.685484</td>\n",
       "      <td>39.233774</td>\n",
       "      <td>236.720161</td>\n",
       "      <td>99.420968</td>\n",
       "      <td>20.121355</td>\n",
       "      <td>192.960484</td>\n",
       "      <td>99.985484</td>\n",
       "      <td>8.683242</td>\n",
       "      <td>10.206290</td>\n",
       "      <td>4.530645</td>\n",
       "      <td>2.756258</td>\n",
       "      <td>1.595161</td>\n",
       "      <td>0.259677</td>\n",
       "    </tr>\n",
       "  </tbody>\n",
       "</table>\n",
       "</div>"
      ],
      "text/plain": [
       "           0         1         2         3           4           5   \\\n",
       "0  102.764151  0.098113  0.273585  7.913208  188.433208  101.524528   \n",
       "1  101.935264  0.090290  0.267462  7.611584  123.300170  100.604770   \n",
       "2   99.305369  0.080537  0.283557  8.142617  175.772315  100.958054   \n",
       "3   99.083871  0.103226  0.296774  8.890323  230.784194   98.685484   \n",
       "\n",
       "          6           7           8          9           10          11  \\\n",
       "0  32.034113  152.761321  101.267925  12.984906  162.216038  100.754717   \n",
       "1  20.961652  228.920613   99.925043  19.458484  185.287564   99.768313   \n",
       "2  29.881930  181.332383  100.201342  15.413423  257.588591   99.216443   \n",
       "3  39.233774  236.720161   99.420968  20.121355  192.960484   99.985484   \n",
       "\n",
       "          12         13        14        15        16        17  \n",
       "0   7.299717  10.241321  4.507547  2.765736  1.592453  0.113208  \n",
       "1   8.338092  10.333049  4.442930  2.790307  1.543441  0.110733  \n",
       "2  11.591695  10.280705  4.466443  2.776309  1.546980  0.098993  \n",
       "3   8.683242  10.206290  4.530645  2.756258  1.595161  0.259677  "
      ]
     },
     "execution_count": 25,
     "metadata": {},
     "output_type": "execute_result"
    }
   ],
   "source": [
    "k=4\n",
    "iteration=500\n",
    "model=KMeans(n_clusters=k,max_iter=iteration)\n",
    "model.fit(df)\n",
    "# 丢离远离其他簇的小簇\n",
    "print pd.Series(model.labels_).value_counts()\n",
    "pd.DataFrame(model.cluster_centers_)"
   ]
  },
  {
   "cell_type": "code",
   "execution_count": 26,
   "metadata": {},
   "outputs": [],
   "source": [
    "# 基于离群点得分检测异常点\n",
    "threshold=2\n",
    "df1=pd.concat([df,pd.Series(model.labels_,index=df.index)],axis=1)\n",
    "df1.columns=list(df.columns)+['cluster']\n",
    "\n",
    "norm=[]\n",
    "for i in range(k):\n",
    "    norm_tmp=df1[[x for x in df1.columns if x not in 'cluster']][df1.cluster==i]-model.cluster_centers_[i]\n",
    "    # 求出相对距离\n",
    "    norm_tmp=norm_tmp.apply(np.linalg.norm,axis=1)\n",
    "    # 求出绝对距离，相对距离/所以样本点到质心的相对距离的中位数\n",
    "    norm.append(norm_tmp/norm_tmp.median())\n",
    "norm=pd.concat(norm)"
   ]
  },
  {
   "cell_type": "code",
   "execution_count": 27,
   "metadata": {},
   "outputs": [],
   "source": [
    "# 删除异常点\n",
    "outlier_index=norm[norm>threshold].index\n",
    "normal_index=[x for x in list(df.index) if x not in list(outlier_index)]\n",
    "df2=df.loc[normal_index,:]\n",
    "train_y1=df2.pop(\"Churn?\")"
   ]
  },
  {
   "cell_type": "code",
   "execution_count": 28,
   "metadata": {},
   "outputs": [
    {
     "data": {
      "text/plain": [
       "(0.7898550724637681, 0.8790322580645161)"
      ]
     },
     "execution_count": 28,
     "metadata": {},
     "output_type": "execute_result"
    }
   ],
   "source": [
    "clf = GBC(learning_rate=0.1, n_estimators=78,\n",
    "                            max_depth=5, \n",
    "                            min_samples_leaf =1,\n",
    "                            min_samples_split =52,\n",
    "                        random_state=0)\n",
    "train1=df2.drop(['Eve Calls'],axis=1)\n",
    "clf.fit(train1,train_y1)\n",
    "test1=test.drop(['Eve Calls'],axis=1)\n",
    "pred=clf.predict(test1)\n",
    "metrics.recall_score(test_y,pred),metrics.precision_score(test_y,pred)"
   ]
  },
  {
   "cell_type": "markdown",
   "metadata": {},
   "source": [
    "#### 特征组合"
   ]
  },
  {
   "cell_type": "code",
   "execution_count": 29,
   "metadata": {},
   "outputs": [
    {
     "data": {
      "text/plain": [
       "(0.8043478260869565, 0.8740157480314961)"
      ]
     },
     "execution_count": 29,
     "metadata": {},
     "output_type": "execute_result"
    }
   ],
   "source": [
    "clf = GBC(learning_rate=0.1, n_estimators=78,\n",
    "                            max_depth=5, \n",
    "                            min_samples_leaf =1,\n",
    "                            min_samples_split =52,\n",
    "                        random_state=0)\n",
    "train1=train.drop(['Eve Calls'],axis=1)\n",
    "clf.fit(train1,train_y)\n",
    "test1=test.drop(['Eve Calls'],axis=1)\n",
    "pred=clf.predict(test1)\n",
    "metrics.recall_score(test_y,pred),metrics.precision_score(test_y,pred)"
   ]
  },
  {
   "cell_type": "code",
   "execution_count": 30,
   "metadata": {},
   "outputs": [
    {
     "data": {
      "text/html": [
       "<div>\n",
       "<style scoped>\n",
       "    .dataframe tbody tr th:only-of-type {\n",
       "        vertical-align: middle;\n",
       "    }\n",
       "\n",
       "    .dataframe tbody tr th {\n",
       "        vertical-align: top;\n",
       "    }\n",
       "\n",
       "    .dataframe thead th {\n",
       "        text-align: right;\n",
       "    }\n",
       "</style>\n",
       "<table border=\"1\" class=\"dataframe\">\n",
       "  <thead>\n",
       "    <tr style=\"text-align: right;\">\n",
       "      <th></th>\n",
       "      <th>0</th>\n",
       "    </tr>\n",
       "  </thead>\n",
       "  <tbody>\n",
       "    <tr>\n",
       "      <th>Eve Mins</th>\n",
       "      <td>0.111695</td>\n",
       "    </tr>\n",
       "    <tr>\n",
       "      <th>Day Charge</th>\n",
       "      <td>0.094872</td>\n",
       "    </tr>\n",
       "    <tr>\n",
       "      <th>Night Mins</th>\n",
       "      <td>0.092004</td>\n",
       "    </tr>\n",
       "    <tr>\n",
       "      <th>Day Mins</th>\n",
       "      <td>0.091069</td>\n",
       "    </tr>\n",
       "    <tr>\n",
       "      <th>Eve Charge</th>\n",
       "      <td>0.090873</td>\n",
       "    </tr>\n",
       "    <tr>\n",
       "      <th>VMail Message</th>\n",
       "      <td>0.063791</td>\n",
       "    </tr>\n",
       "    <tr>\n",
       "      <th>CustServ Calls</th>\n",
       "      <td>0.063249</td>\n",
       "    </tr>\n",
       "    <tr>\n",
       "      <th>Intl Calls</th>\n",
       "      <td>0.061989</td>\n",
       "    </tr>\n",
       "    <tr>\n",
       "      <th>Night Charge</th>\n",
       "      <td>0.057310</td>\n",
       "    </tr>\n",
       "    <tr>\n",
       "      <th>Account Length</th>\n",
       "      <td>0.048341</td>\n",
       "    </tr>\n",
       "    <tr>\n",
       "      <th>Day Calls</th>\n",
       "      <td>0.045332</td>\n",
       "    </tr>\n",
       "    <tr>\n",
       "      <th>Night Calls</th>\n",
       "      <td>0.044551</td>\n",
       "    </tr>\n",
       "    <tr>\n",
       "      <th>Intl Charge</th>\n",
       "      <td>0.038173</td>\n",
       "    </tr>\n",
       "    <tr>\n",
       "      <th>Intl Mins</th>\n",
       "      <td>0.037274</td>\n",
       "    </tr>\n",
       "    <tr>\n",
       "      <th>Int'l Plan</th>\n",
       "      <td>0.036544</td>\n",
       "    </tr>\n",
       "    <tr>\n",
       "      <th>VMail Plan</th>\n",
       "      <td>0.022934</td>\n",
       "    </tr>\n",
       "  </tbody>\n",
       "</table>\n",
       "</div>"
      ],
      "text/plain": [
       "                       0\n",
       "Eve Mins        0.111695\n",
       "Day Charge      0.094872\n",
       "Night Mins      0.092004\n",
       "Day Mins        0.091069\n",
       "Eve Charge      0.090873\n",
       "VMail Message   0.063791\n",
       "CustServ Calls  0.063249\n",
       "Intl Calls      0.061989\n",
       "Night Charge    0.057310\n",
       "Account Length  0.048341\n",
       "Day Calls       0.045332\n",
       "Night Calls     0.044551\n",
       "Intl Charge     0.038173\n",
       "Intl Mins       0.037274\n",
       "Int'l Plan      0.036544\n",
       "VMail Plan      0.022934"
      ]
     },
     "execution_count": 30,
     "metadata": {},
     "output_type": "execute_result"
    }
   ],
   "source": [
    "pd.DataFrame(clf.feature_importances_,index=train1.columns).sort_values(by=0,ascending=False)"
   ]
  },
  {
   "cell_type": "code",
   "execution_count": 31,
   "metadata": {},
   "outputs": [],
   "source": [
    "data_tmp=pd.concat([data,y],axis=1)"
   ]
  },
  {
   "cell_type": "code",
   "execution_count": 32,
   "metadata": {},
   "outputs": [],
   "source": [
    "# 交叉特征\n",
    "data_tmp['Charge']=data_tmp['Day Charge']+data_tmp['Eve Charge']+data_tmp['Night Charge']\n",
    "data_tmp['Mins']=data_tmp['Day Mins']+data_tmp['Eve Mins']+data_tmp['Night Mins']\n",
    "data_tmp['Calls']=data_tmp['Day Calls']+data_tmp['Eve Calls']+data_tmp['Night Calls']-data_tmp['CustServ Calls']\n",
    "\n",
    "cols=['Day Charge','Eve Charge','Night Charge','Day Mins','Eve Mins','Night Mins','Day Calls','Eve Calls','Night Calls']\n",
    "for col in cols:\n",
    "    del data_tmp[col]"
   ]
  },
  {
   "cell_type": "code",
   "execution_count": 33,
   "metadata": {},
   "outputs": [
    {
     "data": {
      "text/plain": [
       "(0.855072463768116, 0.9147286821705426)"
      ]
     },
     "execution_count": 33,
     "metadata": {},
     "output_type": "execute_result"
    }
   ],
   "source": [
    "#划分训练集和测试集\n",
    "y=data_tmp.pop('Churn?')\n",
    "train,test,train_y,test_y=train_test_split(data_tmp,y,test_size=0.3,random_state=0)\n",
    "\n",
    "clf = GBC(learning_rate=0.1, n_estimators=78,\n",
    "                            max_depth=5, \n",
    "                            min_samples_leaf =1,\n",
    "                            min_samples_split =52,\n",
    "                        random_state=0)\n",
    "clf.fit(train,train_y)\n",
    "pred=clf.predict(test)\n",
    "metrics.recall_score(test_y,pred),metrics.precision_score(test_y,pred)"
   ]
  },
  {
   "cell_type": "markdown",
   "metadata": {},
   "source": [
    "#### 随机森林调参"
   ]
  },
  {
   "cell_type": "code",
   "execution_count": 34,
   "metadata": {},
   "outputs": [
    {
     "data": {
      "text/plain": [
       "0.8478260869565217"
      ]
     },
     "execution_count": 34,
     "metadata": {},
     "output_type": "execute_result"
    }
   ],
   "source": [
    "# 调参后的Random Forest\n",
    "clf=RF(n_estimators=75,max_depth=7,min_samples_leaf =1, min_samples_split =2, max_features=5,random_state=0)\n",
    "clf.fit(train,train_y)\n",
    "pred=clf.predict(test)\n",
    "metrics.recall_score(test_y,pred)"
   ]
  },
  {
   "cell_type": "markdown",
   "metadata": {},
   "source": [
    "#### 模型融合"
   ]
  },
  {
   "cell_type": "code",
   "execution_count": 35,
   "metadata": {},
   "outputs": [],
   "source": [
    "def ensemble_model(model,train,train_y,test,n_folds=5,random_state=0):\n",
    "    \n",
    "    num_train, num_test = train.shape[0], test.shape[0]\n",
    "    L1_train = np.zeros((num_train,)) \n",
    "    L1_test = np.zeros((num_test,))\n",
    "    L1_test_all = np.zeros((num_test, n_folds))\n",
    "    KF = KFold(n_splits = n_folds, random_state=random_state)\n",
    "    \n",
    "    for i, (train_index, val_index) in enumerate(KF.split(train)):\n",
    "        x_train, y_train = train[train_index], train_y[train_index]\n",
    "        x_val, y_val = train[val_index], train_y[val_index]\n",
    "        model.fit(x_train,y_train)\n",
    "        L1_train[val_index] = model.predict(x_val)\n",
    "        L1_test_all[:, i] = model.predict(test)\n",
    "    L1_test = np.mean(L1_test_all, axis=1)\n",
    "    \n",
    "    return L1_train,L1_test"
   ]
  },
  {
   "cell_type": "code",
   "execution_count": 36,
   "metadata": {},
   "outputs": [],
   "source": [
    "model=GBC(learning_rate=0.1, n_estimators=78,max_depth=5, min_samples_leaf =1,min_samples_split =52,random_state=0)\n",
    "gbc_train,gbc_test=ensemble_model(model,train.values,train_y.values,test.values)\n",
    "\n",
    "model=RF(n_estimators=75,max_depth=7,min_samples_leaf =1, min_samples_split =2, max_features=5,random_state=0)\n",
    "rf_train,rf_test=ensemble_model(model,train.values,train_y.values,test.values)"
   ]
  },
  {
   "cell_type": "code",
   "execution_count": 37,
   "metadata": {},
   "outputs": [],
   "source": [
    "input_train=[gbc_train,rf_train] \n",
    "input_test=[gbc_test,rf_test]\n",
    "\n",
    "stacked_train = np.concatenate([f.reshape(-1, 1) for f in input_train], axis=1)\n",
    "stacked_test = np.concatenate([f.reshape(-1, 1) for f in input_test], axis=1)"
   ]
  },
  {
   "cell_type": "markdown",
   "metadata": {},
   "source": [
    "#### tuning"
   ]
  },
  {
   "cell_type": "code",
   "execution_count": 38,
   "metadata": {},
   "outputs": [
    {
     "data": {
      "text/plain": [
       "(0.8478260869565217, 0.9669421487603306)"
      ]
     },
     "execution_count": 38,
     "metadata": {},
     "output_type": "execute_result"
    }
   ],
   "source": [
    "clf=GBC(learning_rate=0.1, n_estimators=21,max_depth=3, min_samples_leaf =1,min_samples_split =260,random_state=0)\n",
    "clf.fit(stacked_train, train_y)\n",
    "pred=clf.predict(stacked_test)\n",
    "metrics.recall_score(test_y,pred),metrics.precision_score(test_y,pred)"
   ]
  }
 ],
 "metadata": {
  "kernelspec": {
   "display_name": "Python 2",
   "language": "python",
   "name": "python2"
  },
  "language_info": {
   "codemirror_mode": {
    "name": "ipython",
    "version": 2
   },
   "file_extension": ".py",
   "mimetype": "text/x-python",
   "name": "python",
   "nbconvert_exporter": "python",
   "pygments_lexer": "ipython2",
   "version": "2.7.14"
  }
 },
 "nbformat": 4,
 "nbformat_minor": 2
}
