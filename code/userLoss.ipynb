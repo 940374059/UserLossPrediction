{
 "cells": [
  {
   "cell_type": "markdown",
   "metadata": {},
   "source": [
    "## 数据字段说明\n",
    "<br>\n",
    "\n",
    " | 变量名   | State  | Account Length | Area Code | Phone    | Int'l Plan       | VMail Plan \t   | VMail Message | Day Mins   | Day Calls    | Day Charge   | Eve Mins   | Eve Calls    | Eve Charge \t | Night Mins | Night Calls  | Night Charge | Intl Mins  | Intl Calls   | Intl Charge  | CustServ Calls | Churn?         | \n",
    " | ------   | ------ | ------         | ------    | ------   | ------           | ------           | ------        | ------     | ------       | ------       | ------     | ------       | ------       | ------     | ------       | ------       | ------     | ------       | ------       | ------         | ------         |\n",
    " | 变量解释 | 州     | 未知           | 区号      | 电话号码 | 是否为该计划用户 | 是否为该计划用户 | VMail消息量   | 每天通话量 | 白天通话次数 | 白天通话费用 | 傍晚通话量 | 傍晚通话次数 | 傍晚通话费用 | 夜间通话量 | 夜间通话次数 | 夜间通话费用 | 国际通话量 | 国际通话次数 | 国际通话费用 | 客服通话次数   | 是否为流失客户 | \n",
    "\n",
    "<br>\n",
    " 数据很简单,每行代表一个预订的电话用户。 每列包含客户属性，例如电话号码，在一天中不同时间使用的通话分钟，服务产生的费用，生命周期帐户持续时间以及客户是否仍然是客户。"
   ]
  },
  {
   "cell_type": "markdown",
   "metadata": {},
   "source": [
    "## 改进日志\n",
    "- 0619,GDBT效果最好，未标准化\n",
    "recall score:0.7609 \n",
    "\n",
    "- 0620，基于卡方分布、最大信息系数选择特征，删了一个特征，训练集GDBT精确率提高0.5%，随机森林模型召回率提高了3%，精确率提高了0.5%\n",
    "recall score:0.7609\n",
    "\n",
    "- 0621,使用了好几种方式特征选择，有基于GDBT单变量特征选择、递归特征消除、基于L1正则化筛选特征、基于GDBT特征重要性特征选择，GDBT召回率提高了0.2%,最后对GDBT模型调参，召回率提高了1%\n",
    "    - precision score: 0.8740\n",
    "    - recall score:0.8043\n",
    "- 0625,使用smote算法过采样，召回率提高了2%\n",
    "    - precision score: 0.7808\n",
    "    - recall score:0.8261\n",
    "- 0626,使用聚类划分小簇和离群点得分来检测异常值，效果不好\n",
    "    - precision score: 0.8571\n",
    "    - recall score:0.7826\n",
    "- 0627,构造3个特征，删了9个特征，召回率提高了3%\n",
    "    - precision score: 0.9147\n",
    "    - recall score:0.8551\n",
    "- 0628,采用stacking方式融合模型rf和gdbt,召回率降了0.8%，精确率提高了5%\n",
    "    - precision score: 0.9669\n",
    "    - recall score:0.8478"
   ]
  },
  {
   "cell_type": "code",
   "execution_count": 1,
   "metadata": {},
   "outputs": [],
   "source": [
    "import pandas as pd\n",
    "import numpy as np\n",
    "import matplotlib.pyplot as plt\n",
    "\n",
    "from sklearn.preprocessing import StandardScaler\n",
    "from sklearn.model_selection import train_test_split\n",
    "from sklearn.model_selection import cross_val_score\n",
    "from sklearn import metrics\n",
    "\n",
    "from sklearn.svm import SVC\n",
    "from sklearn.ensemble import RandomForestClassifier as RF\n",
    "from sklearn.neighbors import KNeighborsClassifier as KNN\n",
    "from sklearn.linear_model import LogisticRegression as LR\n",
    "from sklearn.ensemble import GradientBoostingClassifier as GBC"
   ]
  },
  {
   "cell_type": "code",
   "execution_count": 113,
   "metadata": {
    "scrolled": true
   },
   "outputs": [
    {
     "name": "stdout",
     "output_type": "stream",
     "text": [
      "(3333, 21)\n"
     ]
    },
    {
     "data": {
      "text/html": [
       "<div>\n",
       "<style scoped>\n",
       "    .dataframe tbody tr th:only-of-type {\n",
       "        vertical-align: middle;\n",
       "    }\n",
       "\n",
       "    .dataframe tbody tr th {\n",
       "        vertical-align: top;\n",
       "    }\n",
       "\n",
       "    .dataframe thead th {\n",
       "        text-align: right;\n",
       "    }\n",
       "</style>\n",
       "<table border=\"1\" class=\"dataframe\">\n",
       "  <thead>\n",
       "    <tr style=\"text-align: right;\">\n",
       "      <th></th>\n",
       "      <th>State</th>\n",
       "      <th>Account Length</th>\n",
       "      <th>Area Code</th>\n",
       "      <th>Phone</th>\n",
       "      <th>Int'l Plan</th>\n",
       "      <th>VMail Plan</th>\n",
       "      <th>VMail Message</th>\n",
       "      <th>Day Mins</th>\n",
       "      <th>Day Calls</th>\n",
       "      <th>Day Charge</th>\n",
       "      <th>...</th>\n",
       "      <th>Eve Calls</th>\n",
       "      <th>Eve Charge</th>\n",
       "      <th>Night Mins</th>\n",
       "      <th>Night Calls</th>\n",
       "      <th>Night Charge</th>\n",
       "      <th>Intl Mins</th>\n",
       "      <th>Intl Calls</th>\n",
       "      <th>Intl Charge</th>\n",
       "      <th>CustServ Calls</th>\n",
       "      <th>Churn?</th>\n",
       "    </tr>\n",
       "  </thead>\n",
       "  <tbody>\n",
       "    <tr>\n",
       "      <th>0</th>\n",
       "      <td>KS</td>\n",
       "      <td>128</td>\n",
       "      <td>415</td>\n",
       "      <td>382-4657</td>\n",
       "      <td>no</td>\n",
       "      <td>yes</td>\n",
       "      <td>25</td>\n",
       "      <td>265.1</td>\n",
       "      <td>110</td>\n",
       "      <td>45.07</td>\n",
       "      <td>...</td>\n",
       "      <td>99</td>\n",
       "      <td>16.78</td>\n",
       "      <td>244.7</td>\n",
       "      <td>91</td>\n",
       "      <td>11.01</td>\n",
       "      <td>10.0</td>\n",
       "      <td>3</td>\n",
       "      <td>2.70</td>\n",
       "      <td>1</td>\n",
       "      <td>False.</td>\n",
       "    </tr>\n",
       "    <tr>\n",
       "      <th>1</th>\n",
       "      <td>OH</td>\n",
       "      <td>107</td>\n",
       "      <td>415</td>\n",
       "      <td>371-7191</td>\n",
       "      <td>no</td>\n",
       "      <td>yes</td>\n",
       "      <td>26</td>\n",
       "      <td>161.6</td>\n",
       "      <td>123</td>\n",
       "      <td>27.47</td>\n",
       "      <td>...</td>\n",
       "      <td>103</td>\n",
       "      <td>16.62</td>\n",
       "      <td>254.4</td>\n",
       "      <td>103</td>\n",
       "      <td>11.45</td>\n",
       "      <td>13.7</td>\n",
       "      <td>3</td>\n",
       "      <td>3.70</td>\n",
       "      <td>1</td>\n",
       "      <td>False.</td>\n",
       "    </tr>\n",
       "    <tr>\n",
       "      <th>2</th>\n",
       "      <td>NJ</td>\n",
       "      <td>137</td>\n",
       "      <td>415</td>\n",
       "      <td>358-1921</td>\n",
       "      <td>no</td>\n",
       "      <td>no</td>\n",
       "      <td>0</td>\n",
       "      <td>243.4</td>\n",
       "      <td>114</td>\n",
       "      <td>41.38</td>\n",
       "      <td>...</td>\n",
       "      <td>110</td>\n",
       "      <td>10.30</td>\n",
       "      <td>162.6</td>\n",
       "      <td>104</td>\n",
       "      <td>7.32</td>\n",
       "      <td>12.2</td>\n",
       "      <td>5</td>\n",
       "      <td>3.29</td>\n",
       "      <td>0</td>\n",
       "      <td>False.</td>\n",
       "    </tr>\n",
       "    <tr>\n",
       "      <th>3</th>\n",
       "      <td>OH</td>\n",
       "      <td>84</td>\n",
       "      <td>408</td>\n",
       "      <td>375-9999</td>\n",
       "      <td>yes</td>\n",
       "      <td>no</td>\n",
       "      <td>0</td>\n",
       "      <td>299.4</td>\n",
       "      <td>71</td>\n",
       "      <td>50.90</td>\n",
       "      <td>...</td>\n",
       "      <td>88</td>\n",
       "      <td>5.26</td>\n",
       "      <td>196.9</td>\n",
       "      <td>89</td>\n",
       "      <td>8.86</td>\n",
       "      <td>6.6</td>\n",
       "      <td>7</td>\n",
       "      <td>1.78</td>\n",
       "      <td>2</td>\n",
       "      <td>False.</td>\n",
       "    </tr>\n",
       "    <tr>\n",
       "      <th>4</th>\n",
       "      <td>OK</td>\n",
       "      <td>75</td>\n",
       "      <td>415</td>\n",
       "      <td>330-6626</td>\n",
       "      <td>yes</td>\n",
       "      <td>no</td>\n",
       "      <td>0</td>\n",
       "      <td>166.7</td>\n",
       "      <td>113</td>\n",
       "      <td>28.34</td>\n",
       "      <td>...</td>\n",
       "      <td>122</td>\n",
       "      <td>12.61</td>\n",
       "      <td>186.9</td>\n",
       "      <td>121</td>\n",
       "      <td>8.41</td>\n",
       "      <td>10.1</td>\n",
       "      <td>3</td>\n",
       "      <td>2.73</td>\n",
       "      <td>3</td>\n",
       "      <td>False.</td>\n",
       "    </tr>\n",
       "  </tbody>\n",
       "</table>\n",
       "<p>5 rows × 21 columns</p>\n",
       "</div>"
      ],
      "text/plain": [
       "  State  Account Length  Area Code     Phone Int'l Plan VMail Plan  \\\n",
       "0    KS             128        415  382-4657         no        yes   \n",
       "1    OH             107        415  371-7191         no        yes   \n",
       "2    NJ             137        415  358-1921         no         no   \n",
       "3    OH              84        408  375-9999        yes         no   \n",
       "4    OK              75        415  330-6626        yes         no   \n",
       "\n",
       "   VMail Message  Day Mins  Day Calls  Day Charge   ...    Eve Calls  \\\n",
       "0             25     265.1        110       45.07   ...           99   \n",
       "1             26     161.6        123       27.47   ...          103   \n",
       "2              0     243.4        114       41.38   ...          110   \n",
       "3              0     299.4         71       50.90   ...           88   \n",
       "4              0     166.7        113       28.34   ...          122   \n",
       "\n",
       "   Eve Charge  Night Mins  Night Calls  Night Charge  Intl Mins  Intl Calls  \\\n",
       "0       16.78       244.7           91         11.01       10.0           3   \n",
       "1       16.62       254.4          103         11.45       13.7           3   \n",
       "2       10.30       162.6          104          7.32       12.2           5   \n",
       "3        5.26       196.9           89          8.86        6.6           7   \n",
       "4       12.61       186.9          121          8.41       10.1           3   \n",
       "\n",
       "   Intl Charge  CustServ Calls  Churn?  \n",
       "0         2.70               1  False.  \n",
       "1         3.70               1  False.  \n",
       "2         3.29               0  False.  \n",
       "3         1.78               2  False.  \n",
       "4         2.73               3  False.  \n",
       "\n",
       "[5 rows x 21 columns]"
      ]
     },
     "execution_count": 113,
     "metadata": {},
     "output_type": "execute_result"
    }
   ],
   "source": [
    "data=pd.read_csv(\"../input/churn.csv\")\n",
    "print data.shape\n",
    "data.head()"
   ]
  },
  {
   "cell_type": "code",
   "execution_count": 114,
   "metadata": {},
   "outputs": [
    {
     "data": {
      "text/plain": [
       "float64    8\n",
       "int64      8\n",
       "object     5\n",
       "dtype: int64"
      ]
     },
     "execution_count": 114,
     "metadata": {},
     "output_type": "execute_result"
    }
   ],
   "source": [
    "# 查看特征列类型分布\n",
    "data.dtypes.value_counts()"
   ]
  },
  {
   "cell_type": "code",
   "execution_count": 115,
   "metadata": {},
   "outputs": [
    {
     "data": {
      "text/plain": [
       "State         object\n",
       "Phone         object\n",
       "Int'l Plan    object\n",
       "VMail Plan    object\n",
       "Churn?        object\n",
       "dtype: object"
      ]
     },
     "execution_count": 115,
     "metadata": {},
     "output_type": "execute_result"
    }
   ],
   "source": [
    "# 查看具体哪些特征列是object类型\n",
    "data.dtypes[data.dtypes=='object']"
   ]
  },
  {
   "cell_type": "code",
   "execution_count": 116,
   "metadata": {},
   "outputs": [],
   "source": [
    "# 删除无关特征\n",
    "# data=data.drop(['State','Phone'],axis=1)\n",
    "data=data.drop(['State','Area Code','Phone'],axis=1)"
   ]
  },
  {
   "cell_type": "code",
   "execution_count": 117,
   "metadata": {},
   "outputs": [],
   "source": [
    "# 类型转换\n",
    "data['Churn?']=data['Churn?'].map(lambda x: 1 if x=='True.' else 0)\n",
    "cols = [\"Int'l Plan\",\"VMail Plan\"]\n",
    "for col in cols:\n",
    "    data[col]=data[col].map(lambda x: 1 if x=='yes' else 0)"
   ]
  },
  {
   "cell_type": "code",
   "execution_count": 118,
   "metadata": {},
   "outputs": [
    {
     "data": {
      "text/plain": [
       "Account Length    0\n",
       "Intl Charge       0\n",
       "Intl Calls        0\n",
       "Intl Mins         0\n",
       "Night Charge      0\n",
       "Night Calls       0\n",
       "Night Mins        0\n",
       "Eve Charge        0\n",
       "Eve Calls         0\n",
       "Eve Mins          0\n",
       "Day Charge        0\n",
       "Day Calls         0\n",
       "Day Mins          0\n",
       "VMail Message     0\n",
       "VMail Plan        0\n",
       "Int'l Plan        0\n",
       "CustServ Calls    0\n",
       "Churn?            0\n",
       "dtype: int64"
      ]
     },
     "execution_count": 118,
     "metadata": {},
     "output_type": "execute_result"
    }
   ],
   "source": [
    "# 检查缺失值\n",
    "data.isnull().sum().sort_values()"
   ]
  },
  {
   "cell_type": "code",
   "execution_count": 119,
   "metadata": {},
   "outputs": [],
   "source": [
    "#划分训练集和测试集\n",
    "y=data.pop('Churn?')\n",
    "train,test,train_y,test_y=train_test_split(data,y,test_size=0.3,random_state=0)"
   ]
  },
  {
   "cell_type": "code",
   "execution_count": 120,
   "metadata": {},
   "outputs": [],
   "source": [
    "# 评价函数\n",
    "from sklearn.model_selection import StratifiedKFold\n",
    "cv=StratifiedKFold(n_splits=5, random_state=0, shuffle=False)\n",
    "def train_cv(X,y,clf):\n",
    "    print(\"precision score: %.4f\"%cross_val_score(clf, X, y, cv=cv, scoring='precision').mean())\n",
    "    print(\"recall score:%.4f \"%cross_val_score(clf, X, y, cv=cv,scoring='recall').mean())"
   ]
  },
  {
   "cell_type": "code",
   "execution_count": 10,
   "metadata": {},
   "outputs": [
    {
     "name": "stdout",
     "output_type": "stream",
     "text": [
      "precision score: 0.5336\n",
      "recall score:0.1594 \n",
      "\n"
     ]
    },
    {
     "name": "stderr",
     "output_type": "stream",
     "text": [
      "C:\\Users\\starcor\\AppData\\Local\\Continuum\\anaconda2\\lib\\site-packages\\sklearn\\metrics\\classification.py:1135: UndefinedMetricWarning: Precision is ill-defined and being set to 0.0 due to no predicted samples.\n",
      "  'precision', 'predicted', average, warn_for)\n"
     ]
    },
    {
     "name": "stdout",
     "output_type": "stream",
     "text": [
      "precision score: 0.0000\n",
      "recall score:0.0000 \n",
      "\n",
      "precision score: 0.6611\n",
      "recall score:0.2957 \n",
      "\n",
      "precision score: 0.8932\n",
      "recall score:0.6261 \n",
      "\n",
      "precision score: 0.9094\n",
      "recall score:0.7362 \n",
      "\n"
     ]
    }
   ],
   "source": [
    "train_cv(train,train_y,LR())\n",
    "print\n",
    "train_cv(train,train_y,SVC(random_state=0))\n",
    "print\n",
    "train_cv(train,train_y,KNN())\n",
    "print\n",
    "train_cv(train,train_y,RF(random_state=0))\n",
    "print\n",
    "train_cv(train,train_y,GBC(random_state=0))\n",
    "print"
   ]
  },
  {
   "cell_type": "code",
   "execution_count": 11,
   "metadata": {},
   "outputs": [
    {
     "data": {
      "text/plain": [
       "0.7608695652173914"
      ]
     },
     "execution_count": 11,
     "metadata": {},
     "output_type": "execute_result"
    }
   ],
   "source": [
    "clf=GBC(random_state=0).fit(train,train_y)\n",
    "pred=clf.predict(test)\n",
    "metrics.recall_score(test_y,pred)"
   ]
  },
  {
   "cell_type": "markdown",
   "metadata": {},
   "source": [
    "### 方差筛选"
   ]
  },
  {
   "cell_type": "code",
   "execution_count": 12,
   "metadata": {},
   "outputs": [
    {
     "data": {
      "text/plain": [
       "array([8.43618159e-02, 2.01931364e-01, 5.73576300e-01, 1.74627960e+00,\n",
       "       5.25428868e+00, 6.09123500e+00, 7.86880277e+00, 1.88390007e+01,\n",
       "       8.53937717e+01, 1.86393707e+02, 3.92249779e+02, 4.02504989e+02,\n",
       "       4.04660520e+02, 1.60401178e+03, 2.59458766e+03, 2.60742285e+03,\n",
       "       2.95479183e+03])"
      ]
     },
     "execution_count": 12,
     "metadata": {},
     "output_type": "execute_result"
    }
   ],
   "source": [
    "from sklearn.feature_selection import VarianceThreshold\n",
    "selector = VarianceThreshold()\n",
    "selector.fit(train)\n",
    "np.sort(selector.variances_)"
   ]
  },
  {
   "cell_type": "code",
   "execution_count": 13,
   "metadata": {},
   "outputs": [
    {
     "name": "stdout",
     "output_type": "stream",
     "text": [
      "precision score: 0.9094\n",
      "recall score:0.7362 \n",
      "\n",
      "precision score: 0.8932\n",
      "recall score:0.6261 \n",
      "____________________\n",
      "precision score: 0.9094\n",
      "recall score:0.7362 \n",
      "\n",
      "precision score: 0.8932\n",
      "recall score:0.6261 \n",
      "____________________\n",
      "precision score: 0.9094\n",
      "recall score:0.7362 \n",
      "\n",
      "precision score: 0.8932\n",
      "recall score:0.6261 \n",
      "____________________\n"
     ]
    }
   ],
   "source": [
    "for i in range(10,61,20):\n",
    "    selector = VarianceThreshold(threshold=i/100)\n",
    "    selector.fit(train)\n",
    "    train1=selector.transform(train)\n",
    "\n",
    "    train_cv(train1,train_y,GBC(random_state=0))\n",
    "    print\n",
    "    train_cv(train1,train_y,RF(random_state=0))\n",
    "    print \"____________________\""
   ]
  },
  {
   "cell_type": "markdown",
   "metadata": {},
   "source": [
    "### 卡方检验"
   ]
  },
  {
   "cell_type": "code",
   "execution_count": 14,
   "metadata": {},
   "outputs": [
    {
     "data": {
      "text/html": [
       "<div>\n",
       "<style scoped>\n",
       "    .dataframe tbody tr th:only-of-type {\n",
       "        vertical-align: middle;\n",
       "    }\n",
       "\n",
       "    .dataframe tbody tr th {\n",
       "        vertical-align: top;\n",
       "    }\n",
       "\n",
       "    .dataframe thead th {\n",
       "        text-align: right;\n",
       "    }\n",
       "</style>\n",
       "<table border=\"1\" class=\"dataframe\">\n",
       "  <thead>\n",
       "    <tr style=\"text-align: right;\">\n",
       "      <th></th>\n",
       "      <th>0</th>\n",
       "    </tr>\n",
       "  </thead>\n",
       "  <tbody>\n",
       "    <tr>\n",
       "      <th>Day Mins</th>\n",
       "      <td>1705.004986</td>\n",
       "    </tr>\n",
       "    <tr>\n",
       "      <th>VMail Message</th>\n",
       "      <td>396.230247</td>\n",
       "    </tr>\n",
       "    <tr>\n",
       "      <th>Day Charge</th>\n",
       "      <td>289.853145</td>\n",
       "    </tr>\n",
       "    <tr>\n",
       "      <th>Eve Mins</th>\n",
       "      <td>180.204816</td>\n",
       "    </tr>\n",
       "    <tr>\n",
       "      <th>Int'l Plan</th>\n",
       "      <td>144.736938</td>\n",
       "    </tr>\n",
       "    <tr>\n",
       "      <th>CustServ Calls</th>\n",
       "      <td>141.636760</td>\n",
       "    </tr>\n",
       "    <tr>\n",
       "      <th>Night Mins</th>\n",
       "      <td>33.851782</td>\n",
       "    </tr>\n",
       "    <tr>\n",
       "      <th>Account Length</th>\n",
       "      <td>16.865716</td>\n",
       "    </tr>\n",
       "    <tr>\n",
       "      <th>VMail Plan</th>\n",
       "      <td>16.461508</td>\n",
       "    </tr>\n",
       "    <tr>\n",
       "      <th>Eve Charge</th>\n",
       "      <td>15.314133</td>\n",
       "    </tr>\n",
       "    <tr>\n",
       "      <th>Intl Calls</th>\n",
       "      <td>8.198059</td>\n",
       "    </tr>\n",
       "    <tr>\n",
       "      <th>Intl Mins</th>\n",
       "      <td>4.837372</td>\n",
       "    </tr>\n",
       "    <tr>\n",
       "      <th>Night Charge</th>\n",
       "      <td>1.523052</td>\n",
       "    </tr>\n",
       "    <tr>\n",
       "      <th>Night Calls</th>\n",
       "      <td>1.326017</td>\n",
       "    </tr>\n",
       "    <tr>\n",
       "      <th>Intl Charge</th>\n",
       "      <td>1.310123</td>\n",
       "    </tr>\n",
       "    <tr>\n",
       "      <th>Day Calls</th>\n",
       "      <td>0.731166</td>\n",
       "    </tr>\n",
       "    <tr>\n",
       "      <th>Eve Calls</th>\n",
       "      <td>0.008185</td>\n",
       "    </tr>\n",
       "  </tbody>\n",
       "</table>\n",
       "</div>"
      ],
      "text/plain": [
       "                          0\n",
       "Day Mins        1705.004986\n",
       "VMail Message    396.230247\n",
       "Day Charge       289.853145\n",
       "Eve Mins         180.204816\n",
       "Int'l Plan       144.736938\n",
       "CustServ Calls   141.636760\n",
       "Night Mins        33.851782\n",
       "Account Length    16.865716\n",
       "VMail Plan        16.461508\n",
       "Eve Charge        15.314133\n",
       "Intl Calls         8.198059\n",
       "Intl Mins          4.837372\n",
       "Night Charge       1.523052\n",
       "Night Calls        1.326017\n",
       "Intl Charge        1.310123\n",
       "Day Calls          0.731166\n",
       "Eve Calls          0.008185"
      ]
     },
     "execution_count": 14,
     "metadata": {},
     "output_type": "execute_result"
    }
   ],
   "source": [
    "from sklearn.feature_selection import chi2\n",
    "corrlation={}\n",
    "for i in range(train.shape[1]):\n",
    "    corrlation[train.columns[i]]=chi2(train,train_y)[0][i]\n",
    "pd.DataFrame.from_dict(corrlation,orient='index').sort_values(by=[0],ascending=False)"
   ]
  },
  {
   "cell_type": "code",
   "execution_count": 15,
   "metadata": {},
   "outputs": [
    {
     "name": "stdout",
     "output_type": "stream",
     "text": [
      "1 0.5296 0.1594\n",
      "2 0.6422 0.2377\n",
      "3 0.6422 0.2377\n",
      "4 0.7471 0.342\n",
      "5 0.7314 0.3739\n",
      "6 0.8123 0.6\n",
      "7 0.8319 0.5913\n",
      "8 0.8414 0.6\n",
      "9 0.8389 0.6029\n",
      "10 0.8447 0.6\n",
      "11 0.8722 0.6696\n",
      "12 0.9029 0.7478\n",
      "13 0.8972 0.7478\n",
      "14 0.8979 0.7478\n",
      "15 0.9012 0.7478\n",
      "16 0.9204 0.7536\n",
      "17 0.9094 0.7362\n",
      "______________________\n",
      "16 0.7536231884057971\n"
     ]
    },
    {
     "data": {
      "text/plain": [
       "Index([u'Eve Calls'], dtype='object')"
      ]
     },
     "execution_count": 15,
     "metadata": {},
     "output_type": "execute_result"
    }
   ],
   "source": [
    "from sklearn.feature_selection import SelectKBest\n",
    "from sklearn.feature_selection import chi2\n",
    "score=0\n",
    "index=1\n",
    "for i in range(1,train.shape[1]+1):\n",
    "    model=SelectKBest(chi2,k=i)\n",
    "    a_train=model.fit_transform(train,train_y)\n",
    "    \n",
    "    clf = GBC(random_state=0)\n",
    "    cv_score=cross_val_score(clf, a_train, train_y, cv=cv, scoring='recall').mean()\n",
    "    if score<cv_score:\n",
    "        score=cv_score\n",
    "        index=i\n",
    "    print i,round(cross_val_score(clf, a_train, train_y, cv=cv, scoring='precision').mean(),4),round(cv_score,4)\n",
    "print \"______________________\"\n",
    "print index,score\n",
    "# 被删除的特征\n",
    "model=SelectKBest(chi2,k=index).fit(train,train_y)\n",
    "train.columns[~model.get_support()]"
   ]
  },
  {
   "cell_type": "markdown",
   "metadata": {},
   "source": [
    "### 最大信息系数"
   ]
  },
  {
   "cell_type": "code",
   "execution_count": 16,
   "metadata": {},
   "outputs": [
    {
     "data": {
      "text/html": [
       "<div>\n",
       "<style scoped>\n",
       "    .dataframe tbody tr th:only-of-type {\n",
       "        vertical-align: middle;\n",
       "    }\n",
       "\n",
       "    .dataframe tbody tr th {\n",
       "        vertical-align: top;\n",
       "    }\n",
       "\n",
       "    .dataframe thead th {\n",
       "        text-align: right;\n",
       "    }\n",
       "</style>\n",
       "<table border=\"1\" class=\"dataframe\">\n",
       "  <thead>\n",
       "    <tr style=\"text-align: right;\">\n",
       "      <th></th>\n",
       "      <th>0</th>\n",
       "    </tr>\n",
       "  </thead>\n",
       "  <tbody>\n",
       "    <tr>\n",
       "      <th>Day Charge</th>\n",
       "      <td>0.164590</td>\n",
       "    </tr>\n",
       "    <tr>\n",
       "      <th>Day Mins</th>\n",
       "      <td>0.164590</td>\n",
       "    </tr>\n",
       "    <tr>\n",
       "      <th>Night Mins</th>\n",
       "      <td>0.086017</td>\n",
       "    </tr>\n",
       "    <tr>\n",
       "      <th>Eve Mins</th>\n",
       "      <td>0.085300</td>\n",
       "    </tr>\n",
       "    <tr>\n",
       "      <th>Eve Charge</th>\n",
       "      <td>0.081967</td>\n",
       "    </tr>\n",
       "    <tr>\n",
       "      <th>Night Charge</th>\n",
       "      <td>0.076459</td>\n",
       "    </tr>\n",
       "    <tr>\n",
       "      <th>CustServ Calls</th>\n",
       "      <td>0.060621</td>\n",
       "    </tr>\n",
       "    <tr>\n",
       "      <th>Intl Mins</th>\n",
       "      <td>0.051306</td>\n",
       "    </tr>\n",
       "    <tr>\n",
       "      <th>Intl Charge</th>\n",
       "      <td>0.051306</td>\n",
       "    </tr>\n",
       "    <tr>\n",
       "      <th>Account Length</th>\n",
       "      <td>0.046808</td>\n",
       "    </tr>\n",
       "    <tr>\n",
       "      <th>Night Calls</th>\n",
       "      <td>0.040287</td>\n",
       "    </tr>\n",
       "    <tr>\n",
       "      <th>Day Calls</th>\n",
       "      <td>0.038023</td>\n",
       "    </tr>\n",
       "    <tr>\n",
       "      <th>Int'l Plan</th>\n",
       "      <td>0.037261</td>\n",
       "    </tr>\n",
       "    <tr>\n",
       "      <th>Eve Calls</th>\n",
       "      <td>0.035034</td>\n",
       "    </tr>\n",
       "    <tr>\n",
       "      <th>VMail Message</th>\n",
       "      <td>0.021010</td>\n",
       "    </tr>\n",
       "    <tr>\n",
       "      <th>Intl Calls</th>\n",
       "      <td>0.017221</td>\n",
       "    </tr>\n",
       "    <tr>\n",
       "      <th>VMail Plan</th>\n",
       "      <td>0.007672</td>\n",
       "    </tr>\n",
       "  </tbody>\n",
       "</table>\n",
       "</div>"
      ],
      "text/plain": [
       "                       0\n",
       "Day Charge      0.164590\n",
       "Day Mins        0.164590\n",
       "Night Mins      0.086017\n",
       "Eve Mins        0.085300\n",
       "Eve Charge      0.081967\n",
       "Night Charge    0.076459\n",
       "CustServ Calls  0.060621\n",
       "Intl Mins       0.051306\n",
       "Intl Charge     0.051306\n",
       "Account Length  0.046808\n",
       "Night Calls     0.040287\n",
       "Day Calls       0.038023\n",
       "Int'l Plan      0.037261\n",
       "Eve Calls       0.035034\n",
       "VMail Message   0.021010\n",
       "Intl Calls      0.017221\n",
       "VMail Plan      0.007672"
      ]
     },
     "execution_count": 16,
     "metadata": {},
     "output_type": "execute_result"
    }
   ],
   "source": [
    "from minepy import MINE\n",
    "m=MINE()\n",
    "cols=train.columns\n",
    "corrlation={}\n",
    "for col in cols:\n",
    "    m.compute_score(train[col],train_y)\n",
    "    corrlation[col]=m.mic()\n",
    "pd.DataFrame.from_dict(corrlation,orient='index').sort_values(by=[0],ascending=False)"
   ]
  },
  {
   "cell_type": "code",
   "execution_count": 17,
   "metadata": {},
   "outputs": [
    {
     "name": "stdout",
     "output_type": "stream",
     "text": [
      "1 0.5255 0.1594\n",
      "2 0.531 0.1623\n",
      "3 0.6782 0.3652\n",
      "4 0.6247 0.3855\n",
      "5 0.7481 0.4783\n",
      "6 0.7133 0.4812\n",
      "7 0.6857 0.4696\n",
      "8 0.7821 0.5362\n",
      "9 0.7961 0.5565\n",
      "10 0.8052 0.6174\n",
      "11 0.8373 0.6232\n",
      "12 0.8354 0.6261\n",
      "13 0.8354 0.6261\n",
      "14 0.8987 0.7507\n",
      "15 0.9106 0.7362\n",
      "16 0.8887 0.7478\n",
      "17 0.9094 0.7362\n",
      "______________________\n",
      "14 0.7507246376811594\n"
     ]
    },
    {
     "data": {
      "text/plain": [
       "Index([u'Account Length', u'VMail Message', u'Eve Mins'], dtype='object')"
      ]
     },
     "execution_count": 17,
     "metadata": {},
     "output_type": "execute_result"
    }
   ],
   "source": [
    "# 每次运行时出现的结果可能不同\n",
    "from sklearn.feature_selection import SelectKBest\n",
    "from sklearn.feature_selection import mutual_info_classif\n",
    "score=0\n",
    "index=1\n",
    "for i in range(1,train.shape[1]+1):\n",
    "    model=SelectKBest(mutual_info_classif,k=i)\n",
    "    a_train=model.fit_transform(train,train_y)\n",
    "    \n",
    "    clf = GBC(random_state=0)\n",
    "    cv_score=cross_val_score(clf, a_train, train_y, cv=cv, scoring='recall').mean()\n",
    "    if score<cv_score:\n",
    "        score=cv_score\n",
    "        index=i\n",
    "    print i,round(cross_val_score(clf, a_train, train_y, cv=cv, scoring='precision').mean(),4),round(cv_score,4)\n",
    "print \"______________________\"\n",
    "print index,score\n",
    "# 被删除的特征\n",
    "model=SelectKBest(mutual_info_classif,k=index).fit(train,train_y)\n",
    "train.columns[~model.get_support()]"
   ]
  },
  {
   "cell_type": "markdown",
   "metadata": {},
   "source": [
    "### 基于相关系数的假设检验"
   ]
  },
  {
   "cell_type": "code",
   "execution_count": 18,
   "metadata": {},
   "outputs": [
    {
     "name": "stdout",
     "output_type": "stream",
     "text": [
      "1 0.0 0.0\n",
      "2 0.6214 0.1681\n",
      "3 0.623 0.3826\n",
      "4 0.6247 0.3855\n",
      "5 0.7059 0.4696\n",
      "6 0.6998 0.4696\n",
      "7 0.8133 0.5942\n",
      "8 0.8105 0.5942\n",
      "9 0.8478 0.6493\n",
      "10 0.8478 0.6493\n",
      "11 0.8822 0.7449\n",
      "12 0.9003 0.7391\n",
      "13 0.8973 0.7391\n",
      "14 0.9032 0.7478\n",
      "15 0.9012 0.7478\n",
      "16 0.9204 0.7536\n",
      "17 0.9094 0.7362\n",
      "______________________\n",
      "16 0.7536231884057971\n"
     ]
    },
    {
     "data": {
      "text/plain": [
       "Index([u'Eve Calls'], dtype='object')"
      ]
     },
     "execution_count": 18,
     "metadata": {},
     "output_type": "execute_result"
    }
   ],
   "source": [
    "from sklearn.feature_selection import SelectKBest\n",
    "from sklearn.feature_selection import f_classif\n",
    "score=0\n",
    "index=1\n",
    "for i in range(1,train.shape[1]+1):\n",
    "    model=SelectKBest(f_classif,k=i)\n",
    "    a_train=model.fit_transform(train,train_y)\n",
    "    \n",
    "    clf = GBC(random_state=0)\n",
    "    cv_score=cross_val_score(clf, a_train, train_y, cv=cv, scoring='recall').mean()\n",
    "    if score<cv_score:\n",
    "        score=cv_score\n",
    "        index=i\n",
    "    print i,round(cross_val_score(clf, a_train, train_y, cv=cv, scoring='precision').mean(),4),round(cv_score,4)\n",
    "print \"______________________\"\n",
    "print index,score\n",
    "model=SelectKBest(f_classif,k=index).fit(train,train_y)\n",
    "train.columns[~model.get_support()]"
   ]
  },
  {
   "cell_type": "markdown",
   "metadata": {},
   "source": [
    "### 基于GDBT的单变量特征选择"
   ]
  },
  {
   "cell_type": "code",
   "execution_count": 19,
   "metadata": {},
   "outputs": [
    {
     "name": "stderr",
     "output_type": "stream",
     "text": [
      "C:\\Users\\starcor\\AppData\\Local\\Continuum\\anaconda2\\lib\\site-packages\\ipykernel_launcher.py:6: FutureWarning: reshape is deprecated and will raise in a subsequent release. Please use .values.reshape(...) instead\n",
      "  \n",
      "C:\\Users\\starcor\\AppData\\Local\\Continuum\\anaconda2\\lib\\site-packages\\sklearn\\utils\\validation.py:578: DataConversionWarning: A column-vector y was passed when a 1d array was expected. Please change the shape of y to (n_samples, ), for example using ravel().\n",
      "  y = column_or_1d(y, warn=True)\n"
     ]
    },
    {
     "data": {
      "text/html": [
       "<div>\n",
       "<style scoped>\n",
       "    .dataframe tbody tr th:only-of-type {\n",
       "        vertical-align: middle;\n",
       "    }\n",
       "\n",
       "    .dataframe tbody tr th {\n",
       "        vertical-align: top;\n",
       "    }\n",
       "\n",
       "    .dataframe thead th {\n",
       "        text-align: right;\n",
       "    }\n",
       "</style>\n",
       "<table border=\"1\" class=\"dataframe\">\n",
       "  <thead>\n",
       "    <tr style=\"text-align: right;\">\n",
       "      <th></th>\n",
       "      <th>0</th>\n",
       "    </tr>\n",
       "  </thead>\n",
       "  <tbody>\n",
       "    <tr>\n",
       "      <th>CustServ Calls</th>\n",
       "      <td>0.1768</td>\n",
       "    </tr>\n",
       "    <tr>\n",
       "      <th>Day Charge</th>\n",
       "      <td>0.1594</td>\n",
       "    </tr>\n",
       "    <tr>\n",
       "      <th>Day Mins</th>\n",
       "      <td>0.1594</td>\n",
       "    </tr>\n",
       "    <tr>\n",
       "      <th>Eve Mins</th>\n",
       "      <td>0.0145</td>\n",
       "    </tr>\n",
       "    <tr>\n",
       "      <th>Eve Charge</th>\n",
       "      <td>0.0116</td>\n",
       "    </tr>\n",
       "    <tr>\n",
       "      <th>Night Mins</th>\n",
       "      <td>0.0087</td>\n",
       "    </tr>\n",
       "    <tr>\n",
       "      <th>Day Calls</th>\n",
       "      <td>0.0058</td>\n",
       "    </tr>\n",
       "    <tr>\n",
       "      <th>Night Charge</th>\n",
       "      <td>0.0058</td>\n",
       "    </tr>\n",
       "    <tr>\n",
       "      <th>Eve Calls</th>\n",
       "      <td>0.0029</td>\n",
       "    </tr>\n",
       "    <tr>\n",
       "      <th>Intl Calls</th>\n",
       "      <td>0.0029</td>\n",
       "    </tr>\n",
       "    <tr>\n",
       "      <th>Intl Mins</th>\n",
       "      <td>0.0029</td>\n",
       "    </tr>\n",
       "    <tr>\n",
       "      <th>Intl Charge</th>\n",
       "      <td>0.0029</td>\n",
       "    </tr>\n",
       "    <tr>\n",
       "      <th>Int'l Plan</th>\n",
       "      <td>0.0000</td>\n",
       "    </tr>\n",
       "    <tr>\n",
       "      <th>Night Calls</th>\n",
       "      <td>0.0000</td>\n",
       "    </tr>\n",
       "    <tr>\n",
       "      <th>Account Length</th>\n",
       "      <td>0.0000</td>\n",
       "    </tr>\n",
       "    <tr>\n",
       "      <th>VMail Message</th>\n",
       "      <td>0.0000</td>\n",
       "    </tr>\n",
       "    <tr>\n",
       "      <th>VMail Plan</th>\n",
       "      <td>0.0000</td>\n",
       "    </tr>\n",
       "  </tbody>\n",
       "</table>\n",
       "</div>"
      ],
      "text/plain": [
       "                     0\n",
       "CustServ Calls  0.1768\n",
       "Day Charge      0.1594\n",
       "Day Mins        0.1594\n",
       "Eve Mins        0.0145\n",
       "Eve Charge      0.0116\n",
       "Night Mins      0.0087\n",
       "Day Calls       0.0058\n",
       "Night Charge    0.0058\n",
       "Eve Calls       0.0029\n",
       "Intl Calls      0.0029\n",
       "Intl Mins       0.0029\n",
       "Intl Charge     0.0029\n",
       "Int'l Plan      0.0000\n",
       "Night Calls     0.0000\n",
       "Account Length  0.0000\n",
       "VMail Message   0.0000\n",
       "VMail Plan      0.0000"
      ]
     },
     "execution_count": 19,
     "metadata": {},
     "output_type": "execute_result"
    }
   ],
   "source": [
    "clf =GBC(random_state=0)\n",
    "scores=[]\n",
    "columns=train.columns\n",
    "corrlation={}\n",
    "for i in range(train.shape[1]):\n",
    "    score=cross_val_score(clf,train.values[:,i:i+1],train_y.reshape(-1,1),scoring='recall',\n",
    "                          cv=cv)\n",
    "    corrlation[columns[i]]=format(np.mean(score),'.4f')\n",
    "pd.DataFrame.from_dict(corrlation,orient='index').sort_values(by=[0],ascending=False)"
   ]
  },
  {
   "cell_type": "code",
   "execution_count": 20,
   "metadata": {},
   "outputs": [
    {
     "data": {
      "text/plain": [
       "(0.9094, 0.7391)"
      ]
     },
     "execution_count": 20,
     "metadata": {},
     "output_type": "execute_result"
    }
   ],
   "source": [
    "# 删除特征重要性倒数第一的特征\n",
    "train1=train.drop(['VMail Plan'],axis=1)\n",
    "clf =GBC(random_state=0)\n",
    "round(cross_val_score(clf, train1, train_y, cv=cv, scoring='precision').mean(),4),round(cross_val_score(clf, train1, train_y, cv=cv, scoring='recall').mean(),4)"
   ]
  },
  {
   "cell_type": "markdown",
   "metadata": {},
   "source": [
    "### 递归特征消除"
   ]
  },
  {
   "cell_type": "code",
   "execution_count": 21,
   "metadata": {},
   "outputs": [
    {
     "name": "stdout",
     "output_type": "stream",
     "text": [
      "Index([u'Account Length', u'Night Calls'], dtype='object') 0.744927536231884\n"
     ]
    }
   ],
   "source": [
    "# 通过交叉验证自动确定消除特征数目\n",
    "from sklearn.feature_selection import RFECV\n",
    "\n",
    "clf=RFECV(estimator=GBC(random_state=0),step=1,cv=cv,scoring='recall')\n",
    "clf.fit(train,train_y)\n",
    "# 被消除的特征\n",
    "print train.columns[~clf.support_],np.max(clf.grid_scores_)\n",
    "# 消除特征剩余个数对应得分\n",
    "#clf.grid_scores_"
   ]
  },
  {
   "cell_type": "code",
   "execution_count": 22,
   "metadata": {},
   "outputs": [
    {
     "data": {
      "text/plain": [
       "(0.8948, 0.7478)"
      ]
     },
     "execution_count": 22,
     "metadata": {},
     "output_type": "execute_result"
    }
   ],
   "source": [
    "# 综合前面的选择，删除两个特征\n",
    "train1=train.drop(['Night Calls','Account Length'],axis=1)\n",
    "clf =GBC(random_state=0)\n",
    "round(cross_val_score(clf, train1, train_y, cv=cv, scoring='precision').mean(),4),round(cross_val_score(clf, train1, train_y, cv=cv, scoring='recall').mean(),4)"
   ]
  },
  {
   "cell_type": "markdown",
   "metadata": {},
   "source": [
    "### 基于L1的LR特征选择"
   ]
  },
  {
   "cell_type": "code",
   "execution_count": 23,
   "metadata": {},
   "outputs": [
    {
     "name": "stdout",
     "output_type": "stream",
     "text": [
      "0.0006 0.7362318840579711\n",
      "0.00065 0.7362318840579711\n",
      "0.0007 0.7362318840579711\n",
      "0.00075 0.7362318840579711\n",
      "0.0008 0.7362318840579711\n",
      "0.00085 0.7362318840579711\n",
      "0.0009 0.7362318840579711\n",
      "0.00095 0.7362318840579711\n",
      "0.001 0.7362318840579711\n",
      "0.00105 0.7362318840579711\n",
      "0.0011 0.744927536231884\n",
      "0.00115 0.7507246376811595\n",
      "0.0012 0.744927536231884\n",
      "0.00125 0.7507246376811595\n",
      "0.0013 0.7507246376811595\n",
      "0.00135 0.7449275362318841\n",
      "0.0014 0.7333333333333334\n",
      "0.00145 0.7449275362318841\n",
      "0.0015 0.7362318840579711\n",
      "0.00155 0.7391304347826088\n",
      "\n",
      "0.00115 0.7507246376811595\n"
     ]
    }
   ],
   "source": [
    "# 每次运行结果不一样\n",
    "from sklearn.feature_selection import SelectFromModel\n",
    "\n",
    "score=0\n",
    "index=0\n",
    "clf1=LR(penalty=\"l1\").fit(train.values, train_y.values.reshape(-1,1))\n",
    "for i in range(60,160,5):\n",
    "    model = SelectFromModel(clf1,threshold=i/100000.0)\n",
    "    model.fit(train,train_y)\n",
    "    train1=model.transform(train)\n",
    "    clf =GBC(random_state=0)\n",
    "    cv_score=cross_val_score(clf, train1, train_y, cv=cv, scoring='recall').mean()\n",
    "    if score<cv_score:\n",
    "        score=cv_score\n",
    "        index=i/100000.0\n",
    "    print i/100000.0,cv_score\n",
    "print\n",
    "print index,score"
   ]
  },
  {
   "cell_type": "code",
   "execution_count": 24,
   "metadata": {},
   "outputs": [
    {
     "name": "stdout",
     "output_type": "stream",
     "text": [
      "Index([u'Account Length', u'Night Calls', u'Night Charge', u'Intl Charge'], dtype='object')\n"
     ]
    },
    {
     "data": {
      "text/plain": [
       "(0.9047, 0.7507)"
      ]
     },
     "execution_count": 24,
     "metadata": {},
     "output_type": "execute_result"
    }
   ],
   "source": [
    "clf1=LR(penalty=\"l1\").fit(train.values, train_y.values.reshape(-1,1))\n",
    "model = SelectFromModel(clf1,threshold=index)\n",
    "model.fit(train,train_y)\n",
    "train1=model.transform(train)\n",
    "\n",
    "clf =GBC(random_state=0)\n",
    "print train.columns[~model.get_support()]\n",
    "round(cross_val_score(clf, train1, train_y, cv=cv, scoring='precision').mean(),4),round(cross_val_score(clf, train1, train_y, cv=cv, scoring='recall').mean(),4)"
   ]
  },
  {
   "cell_type": "markdown",
   "metadata": {},
   "source": [
    "### 基于GDBT的特征选择"
   ]
  },
  {
   "cell_type": "code",
   "execution_count": 25,
   "metadata": {},
   "outputs": [
    {
     "name": "stdout",
     "output_type": "stream",
     "text": [
      "0.025 0.7391304347826088\n",
      "0.026 0.7391304347826088\n",
      "0.027 0.7391304347826088\n",
      "0.028 0.744927536231884\n",
      "0.029 0.7507246376811596\n",
      "0.03 0.7507246376811596\n",
      "0.031 0.7391304347826088\n",
      "0.032 0.7391304347826088\n",
      "0.033 0.7391304347826088\n",
      "0.034 0.7391304347826088\n",
      "\n",
      "0.029 0.7507246376811596\n"
     ]
    }
   ],
   "source": [
    "from sklearn.feature_selection import SelectFromModel\n",
    "\n",
    "score=0\n",
    "index=0\n",
    "clf1=GBC(random_state=0).fit(train.values, train_y.values.reshape(-1,1))\n",
    "for i in range(250,350,10):\n",
    "    model = SelectFromModel(clf1,threshold=i/10000.0)\n",
    "    model.fit(train,train_y)\n",
    "    train1=model.transform(train)\n",
    "    clf =GBC(random_state=0)\n",
    "    cv_score=cross_val_score(clf, train1, train_y, cv=cv, scoring='recall').mean()\n",
    "    if score<cv_score:\n",
    "        score=cv_score\n",
    "        index=i/10000.0\n",
    "    print i/10000.0,cv_score\n",
    "print\n",
    "print index,score"
   ]
  },
  {
   "cell_type": "code",
   "execution_count": 26,
   "metadata": {},
   "outputs": [
    {
     "name": "stdout",
     "output_type": "stream",
     "text": [
      "Index([u'Account Length', u'VMail Plan', u'Day Calls', u'Eve Calls'], dtype='object')\n"
     ]
    },
    {
     "data": {
      "text/plain": [
       "(0.9069, 0.7507)"
      ]
     },
     "execution_count": 26,
     "metadata": {},
     "output_type": "execute_result"
    }
   ],
   "source": [
    "model = SelectFromModel(clf1,threshold=index)\n",
    "model.fit(train,train_y)\n",
    "train1=model.transform(train)\n",
    "\n",
    "clf =GBC(random_state=0)\n",
    "print train.columns[~model.get_support()]\n",
    "round(cross_val_score(clf, train1, train_y, cv=cv, scoring='precision').mean(),4),round(cross_val_score(clf, train1, train_y, cv=cv, scoring='recall').mean(),4)"
   ]
  },
  {
   "cell_type": "markdown",
   "metadata": {},
   "source": [
    "#### 小结\n",
    "- 方差筛选\n",
    "    - discarded feature: None\n",
    "    - recall score:0.7362 \n",
    "- 卡方检验\n",
    "    - discarded feature: 'Eve Calls'\n",
    "    - recall score:0.7536231884057971\n",
    "- 互信息法\n",
    "    - discarded feature: 'Account Length', 'VMail Message', 'Eve Mins'\n",
    "    - recall score:0.7507246376811594\n",
    "- 基于相关系数的假设检验\n",
    "    - discarded feature: 'Eve Calls'\n",
    "    - recall score:0.7536231884057971\n",
    "- 基于GDBT的单变量特征选择\n",
    "    - discarded feature: 'VMail Plan'\n",
    "    - recall score:0.7391\n",
    "- 递归特征消除\n",
    "    - discarded feature: 'Night Calls','Account Length'\n",
    "    - recall score:0.7478\n",
    "- 基于L1的LR特征选择\n",
    "    - discarded feature: 'Account Length', 'Night Calls', 'Night Charge', 'Intl Charge'\n",
    "    - recall score:0.7507\n",
    "- 基于GDBT的特征选择\n",
    "    - discarded feature: 'Account Length', 'VMail Plan', 'Day Calls', 'Eve Calls'\n",
    "    - recall score:0.7507"
   ]
  },
  {
   "cell_type": "code",
   "execution_count": 11,
   "metadata": {},
   "outputs": [
    {
     "data": {
      "text/plain": [
       "(0.9204, 0.7536)"
      ]
     },
     "execution_count": 11,
     "metadata": {},
     "output_type": "execute_result"
    }
   ],
   "source": [
    "# 去除特征Eve Calls\n",
    "train1=train.drop(['Eve Calls'],axis=1)\n",
    "clf =GBC(random_state=0)\n",
    "round(cross_val_score(clf, train1, train_y, cv=cv, scoring='precision').mean(),4),round(cross_val_score(clf, train1, train_y, cv=cv, scoring='recall').mean(),4)"
   ]
  },
  {
   "cell_type": "code",
   "execution_count": 38,
   "metadata": {},
   "outputs": [
    {
     "data": {
      "text/plain": [
       "(0.9046, 0.7536)"
      ]
     },
     "execution_count": 38,
     "metadata": {},
     "output_type": "execute_result"
    }
   ],
   "source": [
    "# 去除特征Eve Calls,Night Calls\n",
    "train1=train.drop(['Eve Calls', 'Night Calls'],axis=1)\n",
    "clf =GBC(random_state=0)\n",
    "round(cross_val_score(clf, train1, train_y, cv=cv, scoring='precision').mean(),4),round(cross_val_score(clf, train1, train_y, cv=cv, scoring='recall').mean(),4)"
   ]
  },
  {
   "cell_type": "code",
   "execution_count": 12,
   "metadata": {},
   "outputs": [
    {
     "data": {
      "text/plain": [
       "(0.7753623188405797, 0.8492063492063492)"
      ]
     },
     "execution_count": 12,
     "metadata": {},
     "output_type": "execute_result"
    }
   ],
   "source": [
    "clf.fit(train1,train_y)\n",
    "test1=test.drop('Eve Calls',axis=1)\n",
    "pred=clf.predict(test1)\n",
    "metrics.recall_score(test_y,pred),metrics.precision_score(test_y,pred)"
   ]
  },
  {
   "cell_type": "code",
   "execution_count": 40,
   "metadata": {},
   "outputs": [
    {
     "data": {
      "text/plain": [
       "0.7753623188405797"
      ]
     },
     "execution_count": 40,
     "metadata": {},
     "output_type": "execute_result"
    }
   ],
   "source": [
    "clf.fit(train1,train_y)\n",
    "test1=test.drop(['Eve Calls','Night Calls'],axis=1)\n",
    "pred=clf.predict(test1)\n",
    "metrics.recall_score(test_y,pred)"
   ]
  },
  {
   "cell_type": "markdown",
   "metadata": {},
   "source": [
    "### GDBT调参"
   ]
  },
  {
   "cell_type": "code",
   "execution_count": 41,
   "metadata": {},
   "outputs": [
    {
     "data": {
      "text/plain": [
       "(0.7420289855072464, {'n_estimators': 78})"
      ]
     },
     "execution_count": 41,
     "metadata": {},
     "output_type": "execute_result"
    }
   ],
   "source": [
    "from sklearn.model_selection import GridSearchCV\n",
    "param_test1 = {'n_estimators':range(75,90,1)}\n",
    "gsearch1 = GridSearchCV(estimator = GBC(learning_rate=0.1,max_depth=4,random_state=0), \n",
    "                   param_grid = param_test1, scoring='recall',iid=False,cv=cv)\n",
    "gsearch1.fit(train1,train_y)\n",
    "gsearch1.best_score_,gsearch1.best_params_"
   ]
  },
  {
   "cell_type": "code",
   "execution_count": 42,
   "metadata": {},
   "outputs": [
    {
     "data": {
      "text/plain": [
       "(0.7565217391304347, {'max_depth': 5, 'min_samples_split': 2})"
      ]
     },
     "execution_count": 42,
     "metadata": {},
     "output_type": "execute_result"
    }
   ],
   "source": [
    "#调节参数max_depth和min_samples_split\n",
    "param_test2 = {'max_depth':range(3,9,2), 'min_samples_split':range(2,503,100)}\n",
    "gsearch2 = GridSearchCV(estimator =GBC(learning_rate=0.1, n_estimators=gsearch1.best_params_['n_estimators'],\n",
    "                                                          random_state=0), \n",
    "                    param_grid = param_test2, scoring='recall',iid=False, cv=cv)\n",
    "gsearch2.fit(train1,train_y)\n",
    "gsearch2.best_score_,gsearch2.best_params_"
   ]
  },
  {
   "cell_type": "code",
   "execution_count": 43,
   "metadata": {},
   "outputs": [
    {
     "data": {
      "text/plain": [
       "(0.7623188405797101, {'min_samples_leaf': 1, 'min_samples_split': 52})"
      ]
     },
     "execution_count": 43,
     "metadata": {},
     "output_type": "execute_result"
    }
   ],
   "source": [
    "#调节参数min_samples_split和min_samples_leaf\n",
    "param_test3 = {'min_samples_split':range(2,200,50), 'min_samples_leaf':range(1,100,10)}\n",
    "gsearch3 = GridSearchCV(estimator = GBC(learning_rate=0.1, n_estimators=gsearch1.best_params_['n_estimators'],\n",
    "                                                          max_depth=gsearch2.best_params_['max_depth'], random_state=0), \n",
    "                   param_grid = param_test3, scoring='recall',iid=False, cv=cv)\n",
    "gsearch3.fit(train1,train_y)\n",
    "gsearch3.best_score_,gsearch3.best_params_"
   ]
  },
  {
   "cell_type": "code",
   "execution_count": 13,
   "metadata": {},
   "outputs": [
    {
     "data": {
      "text/plain": [
       "(0.8711, 0.7565)"
      ]
     },
     "execution_count": 13,
     "metadata": {},
     "output_type": "execute_result"
    }
   ],
   "source": [
    "# clf = GBC(learning_rate=0.1, n_estimators=gsearch1.best_params_['n_estimators'],\n",
    "#                             max_depth=gsearch2.best_params_['max_depth'], \n",
    "#                             min_samples_leaf =gsearch3.best_params_['min_samples_leaf'],\n",
    "#                             min_samples_split =gsearch3.best_params_['min_samples_split'],\n",
    "#                         random_state=0)\n",
    "clf = GBC(learning_rate=0.1, n_estimators=78,\n",
    "                            max_depth=5, \n",
    "                            min_samples_leaf =1,\n",
    "                            min_samples_split =52,\n",
    "                        random_state=0)\n",
    "round(cross_val_score(clf, train1, train_y, cv=cv, scoring='precision').mean(),4),round(cross_val_score(clf, train1, train_y, cv=cv, scoring='recall').mean(),4)"
   ]
  },
  {
   "cell_type": "code",
   "execution_count": 14,
   "metadata": {},
   "outputs": [
    {
     "data": {
      "text/plain": [
       "(0.8043478260869565, 0.8740157480314961)"
      ]
     },
     "execution_count": 14,
     "metadata": {},
     "output_type": "execute_result"
    }
   ],
   "source": [
    "clf.fit(train1,train_y)\n",
    "pred=clf.predict(test1)\n",
    "metrics.recall_score(test_y,pred),metrics.precision_score(test_y,pred)"
   ]
  },
  {
   "cell_type": "markdown",
   "metadata": {},
   "source": [
    "#### smote算法过采样"
   ]
  },
  {
   "cell_type": "code",
   "execution_count": 33,
   "metadata": {},
   "outputs": [],
   "source": [
    "# 过抽样处理库SMOTE\n",
    "from imblearn.over_sampling import SMOTE \n",
    "\n",
    "# 建立SMOTE模型对象\n",
    "model_smote = SMOTE(random_state=2) \n",
    "# 输入数据并作过抽样处理\n",
    "x_smote_resampled, y_smote_resampled = model_smote.fit_sample(train,train_y) \n",
    "x_smote_resampled = pd.DataFrame(x_smote_resampled, columns=train.columns)\n",
    "y_smote_resampled = pd.DataFrame(y_smote_resampled,columns=['Churn?']) "
   ]
  },
  {
   "cell_type": "code",
   "execution_count": 34,
   "metadata": {},
   "outputs": [
    {
     "data": {
      "text/plain": [
       "(0.9661, 0.909)"
      ]
     },
     "execution_count": 34,
     "metadata": {},
     "output_type": "execute_result"
    }
   ],
   "source": [
    "# 去除特征Eve Calls\n",
    "train1=x_smote_resampled.drop(['Eve Calls'],axis=1)\n",
    "clf =GBC(random_state=0)\n",
    "round(cross_val_score(clf, train1, y_smote_resampled, cv=cv, scoring='precision').mean(),4),round(cross_val_score(clf, train1, y_smote_resampled, cv=cv, scoring='recall').mean(),4)"
   ]
  },
  {
   "cell_type": "code",
   "execution_count": 35,
   "metadata": {},
   "outputs": [
    {
     "data": {
      "text/plain": [
       "(0.8260869565217391, 0.7808219178082192)"
      ]
     },
     "execution_count": 35,
     "metadata": {},
     "output_type": "execute_result"
    }
   ],
   "source": [
    "clf = GBC(learning_rate=0.1, n_estimators=78,\n",
    "                            max_depth=5, \n",
    "                            min_samples_leaf =1,\n",
    "                            min_samples_split =52,\n",
    "                        random_state=0)\n",
    "clf.fit(train1,y_smote_resampled)\n",
    "test1=test.drop(['Eve Calls'],axis=1)\n",
    "pred=clf.predict(test1)\n",
    "metrics.recall_score(test_y,pred),metrics.precision_score(test_y,pred)"
   ]
  },
  {
   "cell_type": "markdown",
   "metadata": {},
   "source": [
    "####  异常值检测"
   ]
  },
  {
   "cell_type": "markdown",
   "metadata": {},
   "source": [
    "#### 基于聚类的小簇划分法及离群点划分法"
   ]
  },
  {
   "cell_type": "code",
   "execution_count": 90,
   "metadata": {},
   "outputs": [],
   "source": [
    "df=pd.concat([train,train_y],axis=1)\n",
    "df=df.reset_index()\n",
    "df=df.drop('index',axis=1)"
   ]
  },
  {
   "cell_type": "code",
   "execution_count": 91,
   "metadata": {},
   "outputs": [
    {
     "data": {
      "image/png": "[encoded data removed]",
      "text/plain": [
       "<matplotlib.figure.Figure at 0xcb37320>"
      ]
     },
     "metadata": {},
     "output_type": "display_data"
    }
   ],
   "source": [
    "# 首先确定最佳簇的个数\n",
    "#聚类+手肘法\n",
    "from sklearn.cluster import KMeans  \n",
    "  \n",
    "# 存放每次结果的误差平方和  \n",
    "SSE = []  \n",
    "for k in range(1,10):  \n",
    "    estimator = KMeans(n_clusters=k)  # 构造聚类器  \n",
    "    estimator.fit(df)  \n",
    "    SSE.append(estimator.inertia_)  \n",
    "X = range(1,10)  \n",
    "plt.xlabel('k')  \n",
    "plt.ylabel('SSE')  \n",
    "plt.plot(X,SSE,'o-')  \n",
    "plt.show()  "
   ]
  },
  {
   "cell_type": "code",
   "execution_count": 92,
   "metadata": {},
   "outputs": [
    {
     "data": {
      "image/png": "[encoded data removed]",
      "text/plain": [
       "<matplotlib.figure.Figure at 0xe062b38>"
      ]
     },
     "metadata": {},
     "output_type": "display_data"
    }
   ],
   "source": [
    "# 聚类+轮廓系数\n",
    "from sklearn.metrics import silhouette_score\n",
    "plt.rcParams['font.sans-serif']=['SimHei'] #用来正常显示中文标签\n",
    "plt.rcParams['axes.unicode_minus']=False #用来正常显示负号\n",
    "\n",
    "# 存放轮廓系数  \n",
    "Scores = []  \n",
    "for k in range(2,10):  \n",
    "    estimator = KMeans(n_clusters=k)  # 构造聚类器  \n",
    "    estimator.fit(df)  \n",
    "    Scores.append(silhouette_score(df,estimator.labels_,metric='euclidean'))  \n",
    "X = range(2,10)  \n",
    "plt.xlabel('k')  \n",
    "plt.ylabel(u'轮廓系数')  \n",
    "plt.plot(X,Scores,'o-')  \n",
    "plt.show()  "
   ]
  },
  {
   "cell_type": "code",
   "execution_count": 93,
   "metadata": {},
   "outputs": [
    {
     "name": "stdout",
     "output_type": "stream",
     "text": [
      "1    603\n",
      "0    603\n",
      "3    596\n",
      "2    531\n",
      "dtype: int64\n"
     ]
    },
    {
     "data": {
      "text/html": [
       "<div>\n",
       "<style scoped>\n",
       "    .dataframe tbody tr th:only-of-type {\n",
       "        vertical-align: middle;\n",
       "    }\n",
       "\n",
       "    .dataframe tbody tr th {\n",
       "        vertical-align: top;\n",
       "    }\n",
       "\n",
       "    .dataframe thead th {\n",
       "        text-align: right;\n",
       "    }\n",
       "</style>\n",
       "<table border=\"1\" class=\"dataframe\">\n",
       "  <thead>\n",
       "    <tr style=\"text-align: right;\">\n",
       "      <th></th>\n",
       "      <th>0</th>\n",
       "      <th>1</th>\n",
       "      <th>2</th>\n",
       "      <th>3</th>\n",
       "      <th>4</th>\n",
       "      <th>5</th>\n",
       "      <th>6</th>\n",
       "      <th>7</th>\n",
       "      <th>8</th>\n",
       "      <th>9</th>\n",
       "      <th>10</th>\n",
       "      <th>11</th>\n",
       "      <th>12</th>\n",
       "      <th>13</th>\n",
       "      <th>14</th>\n",
       "      <th>15</th>\n",
       "      <th>16</th>\n",
       "      <th>17</th>\n",
       "    </tr>\n",
       "  </thead>\n",
       "  <tbody>\n",
       "    <tr>\n",
       "      <th>0</th>\n",
       "      <td>100.968491</td>\n",
       "      <td>0.099502</td>\n",
       "      <td>0.296849</td>\n",
       "      <td>8.892206</td>\n",
       "      <td>226.186235</td>\n",
       "      <td>98.587065</td>\n",
       "      <td>38.452139</td>\n",
       "      <td>242.991045</td>\n",
       "      <td>99.361526</td>\n",
       "      <td>20.654345</td>\n",
       "      <td>192.931509</td>\n",
       "      <td>100.582090</td>\n",
       "      <td>8.681907</td>\n",
       "      <td>10.219071</td>\n",
       "      <td>4.514096</td>\n",
       "      <td>2.759751</td>\n",
       "      <td>1.582090</td>\n",
       "      <td>0.255390</td>\n",
       "    </tr>\n",
       "    <tr>\n",
       "      <th>1</th>\n",
       "      <td>99.734660</td>\n",
       "      <td>0.081260</td>\n",
       "      <td>0.280265</td>\n",
       "      <td>8.094527</td>\n",
       "      <td>176.302156</td>\n",
       "      <td>100.762852</td>\n",
       "      <td>29.972007</td>\n",
       "      <td>181.935158</td>\n",
       "      <td>100.122720</td>\n",
       "      <td>15.464627</td>\n",
       "      <td>257.558541</td>\n",
       "      <td>99.257048</td>\n",
       "      <td>11.590398</td>\n",
       "      <td>10.260531</td>\n",
       "      <td>4.422886</td>\n",
       "      <td>2.770846</td>\n",
       "      <td>1.515755</td>\n",
       "      <td>0.102819</td>\n",
       "    </tr>\n",
       "    <tr>\n",
       "      <th>2</th>\n",
       "      <td>101.834275</td>\n",
       "      <td>0.103578</td>\n",
       "      <td>0.276836</td>\n",
       "      <td>8.133710</td>\n",
       "      <td>198.356121</td>\n",
       "      <td>101.971751</td>\n",
       "      <td>33.721036</td>\n",
       "      <td>154.458945</td>\n",
       "      <td>101.011299</td>\n",
       "      <td>13.129171</td>\n",
       "      <td>163.166667</td>\n",
       "      <td>99.983051</td>\n",
       "      <td>7.342448</td>\n",
       "      <td>10.259510</td>\n",
       "      <td>4.472693</td>\n",
       "      <td>2.770621</td>\n",
       "      <td>1.585687</td>\n",
       "      <td>0.111111</td>\n",
       "    </tr>\n",
       "    <tr>\n",
       "      <th>3</th>\n",
       "      <td>100.370805</td>\n",
       "      <td>0.088926</td>\n",
       "      <td>0.268456</td>\n",
       "      <td>7.491611</td>\n",
       "      <td>120.915604</td>\n",
       "      <td>100.442953</td>\n",
       "      <td>20.556225</td>\n",
       "      <td>221.362919</td>\n",
       "      <td>100.273490</td>\n",
       "      <td>18.816174</td>\n",
       "      <td>183.908725</td>\n",
       "      <td>99.822148</td>\n",
       "      <td>8.276057</td>\n",
       "      <td>10.321477</td>\n",
       "      <td>4.536913</td>\n",
       "      <td>2.787181</td>\n",
       "      <td>1.595638</td>\n",
       "      <td>0.117450</td>\n",
       "    </tr>\n",
       "  </tbody>\n",
       "</table>\n",
       "</div>"
      ],
      "text/plain": [
       "           0         1         2         3           4           5   \\\n",
       "0  100.968491  0.099502  0.296849  8.892206  226.186235   98.587065   \n",
       "1   99.734660  0.081260  0.280265  8.094527  176.302156  100.762852   \n",
       "2  101.834275  0.103578  0.276836  8.133710  198.356121  101.971751   \n",
       "3  100.370805  0.088926  0.268456  7.491611  120.915604  100.442953   \n",
       "\n",
       "          6           7           8          9           10          11  \\\n",
       "0  38.452139  242.991045   99.361526  20.654345  192.931509  100.582090   \n",
       "1  29.972007  181.935158  100.122720  15.464627  257.558541   99.257048   \n",
       "2  33.721036  154.458945  101.011299  13.129171  163.166667   99.983051   \n",
       "3  20.556225  221.362919  100.273490  18.816174  183.908725   99.822148   \n",
       "\n",
       "          12         13        14        15        16        17  \n",
       "0   8.681907  10.219071  4.514096  2.759751  1.582090  0.255390  \n",
       "1  11.590398  10.260531  4.422886  2.770846  1.515755  0.102819  \n",
       "2   7.342448  10.259510  4.472693  2.770621  1.585687  0.111111  \n",
       "3   8.276057  10.321477  4.536913  2.787181  1.595638  0.117450  "
      ]
     },
     "execution_count": 93,
     "metadata": {},
     "output_type": "execute_result"
    }
   ],
   "source": [
    "k=4\n",
    "iteration=500\n",
    "model=KMeans(n_clusters=k,max_iter=iteration)\n",
    "model.fit(df)\n",
    "# 丢离远离其他簇的小簇\n",
    "print pd.Series(model.labels_).value_counts()\n",
    "pd.DataFrame(model.cluster_centers_)"
   ]
  },
  {
   "cell_type": "code",
   "execution_count": 94,
   "metadata": {},
   "outputs": [],
   "source": [
    "# 基于离群点得分检测异常点\n",
    "threshold=2\n",
    "df1=pd.concat([df,pd.Series(model.labels_,index=df.index)],axis=1)\n",
    "df1.columns=list(df.columns)+['cluster']\n",
    "\n",
    "norm=[]\n",
    "for i in range(k):\n",
    "    norm_tmp=df1[[x for x in df1.columns if x not in 'cluster']][df1.cluster==i]-model.cluster_centers_[i]\n",
    "    # 求出相对距离\n",
    "    norm_tmp=norm_tmp.apply(np.linalg.norm,axis=1)\n",
    "    # 求出绝对距离，相对距离/所以样本点到质心的相对距离的中位数\n",
    "    norm.append(norm_tmp/norm_tmp.median())\n",
    "norm=pd.concat(norm)"
   ]
  },
  {
   "cell_type": "code",
   "execution_count": 123,
   "metadata": {},
   "outputs": [],
   "source": [
    "# 删除异常点\n",
    "outlier_index=norm[norm>threshold].index\n",
    "normal_index=[x for x in list(df.index) if x not in list(outlier_index)]\n",
    "df2=df.loc[normal_index,:]\n",
    "train_y1=df2.pop(\"Churn?\")"
   ]
  },
  {
   "cell_type": "code",
   "execution_count": 130,
   "metadata": {},
   "outputs": [
    {
     "data": {
      "text/plain": [
       "(0.782608695652174, 0.8571428571428571)"
      ]
     },
     "execution_count": 130,
     "metadata": {},
     "output_type": "execute_result"
    }
   ],
   "source": [
    "clf = GBC(learning_rate=0.1, n_estimators=78,\n",
    "                            max_depth=5, \n",
    "                            min_samples_leaf =1,\n",
    "                            min_samples_split =52,\n",
    "                        random_state=0)\n",
    "train1=df2.drop(['Eve Calls'],axis=1)\n",
    "clf.fit(train1,train_y1)\n",
    "test1=test.drop(['Eve Calls'],axis=1)\n",
    "pred=clf.predict(test1)\n",
    "metrics.recall_score(test_y,pred),metrics.precision_score(test_y,pred)"
   ]
  },
  {
   "cell_type": "markdown",
   "metadata": {},
   "source": [
    "#### 特征组合"
   ]
  },
  {
   "cell_type": "code",
   "execution_count": 122,
   "metadata": {},
   "outputs": [
    {
     "data": {
      "text/plain": [
       "(0.8043478260869565, 0.8740157480314961)"
      ]
     },
     "execution_count": 122,
     "metadata": {},
     "output_type": "execute_result"
    }
   ],
   "source": [
    "clf = GBC(learning_rate=0.1, n_estimators=78,\n",
    "                            max_depth=5, \n",
    "                            min_samples_leaf =1,\n",
    "                            min_samples_split =52,\n",
    "                        random_state=0)\n",
    "train1=train.drop(['Eve Calls'],axis=1)\n",
    "clf.fit(train1,train_y)\n",
    "test1=test.drop(['Eve Calls'],axis=1)\n",
    "pred=clf.predict(test1)\n",
    "metrics.recall_score(test_y,pred),metrics.precision_score(test_y,pred)"
   ]
  },
  {
   "cell_type": "code",
   "execution_count": 123,
   "metadata": {},
   "outputs": [
    {
     "data": {
      "text/html": [
       "<div>\n",
       "<style scoped>\n",
       "    .dataframe tbody tr th:only-of-type {\n",
       "        vertical-align: middle;\n",
       "    }\n",
       "\n",
       "    .dataframe tbody tr th {\n",
       "        vertical-align: top;\n",
       "    }\n",
       "\n",
       "    .dataframe thead th {\n",
       "        text-align: right;\n",
       "    }\n",
       "</style>\n",
       "<table border=\"1\" class=\"dataframe\">\n",
       "  <thead>\n",
       "    <tr style=\"text-align: right;\">\n",
       "      <th></th>\n",
       "      <th>0</th>\n",
       "    </tr>\n",
       "  </thead>\n",
       "  <tbody>\n",
       "    <tr>\n",
       "      <th>Eve Mins</th>\n",
       "      <td>0.111695</td>\n",
       "    </tr>\n",
       "    <tr>\n",
       "      <th>Day Charge</th>\n",
       "      <td>0.094872</td>\n",
       "    </tr>\n",
       "    <tr>\n",
       "      <th>Night Mins</th>\n",
       "      <td>0.092004</td>\n",
       "    </tr>\n",
       "    <tr>\n",
       "      <th>Day Mins</th>\n",
       "      <td>0.091069</td>\n",
       "    </tr>\n",
       "    <tr>\n",
       "      <th>Eve Charge</th>\n",
       "      <td>0.090873</td>\n",
       "    </tr>\n",
       "    <tr>\n",
       "      <th>VMail Message</th>\n",
       "      <td>0.063791</td>\n",
       "    </tr>\n",
       "    <tr>\n",
       "      <th>CustServ Calls</th>\n",
       "      <td>0.063249</td>\n",
       "    </tr>\n",
       "    <tr>\n",
       "      <th>Intl Calls</th>\n",
       "      <td>0.061989</td>\n",
       "    </tr>\n",
       "    <tr>\n",
       "      <th>Night Charge</th>\n",
       "      <td>0.057310</td>\n",
       "    </tr>\n",
       "    <tr>\n",
       "      <th>Account Length</th>\n",
       "      <td>0.048341</td>\n",
       "    </tr>\n",
       "    <tr>\n",
       "      <th>Day Calls</th>\n",
       "      <td>0.045332</td>\n",
       "    </tr>\n",
       "    <tr>\n",
       "      <th>Night Calls</th>\n",
       "      <td>0.044551</td>\n",
       "    </tr>\n",
       "    <tr>\n",
       "      <th>Intl Charge</th>\n",
       "      <td>0.038173</td>\n",
       "    </tr>\n",
       "    <tr>\n",
       "      <th>Intl Mins</th>\n",
       "      <td>0.037274</td>\n",
       "    </tr>\n",
       "    <tr>\n",
       "      <th>Int'l Plan</th>\n",
       "      <td>0.036544</td>\n",
       "    </tr>\n",
       "    <tr>\n",
       "      <th>VMail Plan</th>\n",
       "      <td>0.022934</td>\n",
       "    </tr>\n",
       "  </tbody>\n",
       "</table>\n",
       "</div>"
      ],
      "text/plain": [
       "                       0\n",
       "Eve Mins        0.111695\n",
       "Day Charge      0.094872\n",
       "Night Mins      0.092004\n",
       "Day Mins        0.091069\n",
       "Eve Charge      0.090873\n",
       "VMail Message   0.063791\n",
       "CustServ Calls  0.063249\n",
       "Intl Calls      0.061989\n",
       "Night Charge    0.057310\n",
       "Account Length  0.048341\n",
       "Day Calls       0.045332\n",
       "Night Calls     0.044551\n",
       "Intl Charge     0.038173\n",
       "Intl Mins       0.037274\n",
       "Int'l Plan      0.036544\n",
       "VMail Plan      0.022934"
      ]
     },
     "execution_count": 123,
     "metadata": {},
     "output_type": "execute_result"
    }
   ],
   "source": [
    "pd.DataFrame(clf.feature_importances_,index=train1.columns).sort_values(by=0,ascending=False)"
   ]
  },
  {
   "cell_type": "code",
   "execution_count": 124,
   "metadata": {},
   "outputs": [],
   "source": [
    "data_tmp=pd.concat([data,y],axis=1)"
   ]
  },
  {
   "cell_type": "code",
   "execution_count": 125,
   "metadata": {},
   "outputs": [],
   "source": [
    "# 交叉特征\n",
    "data_tmp['Charge']=data_tmp['Day Charge']+data_tmp['Eve Charge']+data_tmp['Night Charge']\n",
    "data_tmp['Mins']=data_tmp['Day Mins']+data_tmp['Eve Mins']+data_tmp['Night Mins']\n",
    "data_tmp['Calls']=data_tmp['Day Calls']+data_tmp['Eve Calls']+data_tmp['Night Calls']-data_tmp['CustServ Calls']\n",
    "\n",
    "cols=['Day Charge','Eve Charge','Night Charge','Day Mins','Eve Mins','Night Mins','Day Calls','Eve Calls','Night Calls']\n",
    "for col in cols:\n",
    "    del data_tmp[col]"
   ]
  },
  {
   "cell_type": "code",
   "execution_count": 126,
   "metadata": {},
   "outputs": [
    {
     "data": {
      "text/html": [
       "<div>\n",
       "<style scoped>\n",
       "    .dataframe tbody tr th:only-of-type {\n",
       "        vertical-align: middle;\n",
       "    }\n",
       "\n",
       "    .dataframe tbody tr th {\n",
       "        vertical-align: top;\n",
       "    }\n",
       "\n",
       "    .dataframe thead th {\n",
       "        text-align: right;\n",
       "    }\n",
       "</style>\n",
       "<table border=\"1\" class=\"dataframe\">\n",
       "  <thead>\n",
       "    <tr style=\"text-align: right;\">\n",
       "      <th></th>\n",
       "      <th>Account Length</th>\n",
       "      <th>Int'l Plan</th>\n",
       "      <th>VMail Plan</th>\n",
       "      <th>VMail Message</th>\n",
       "      <th>Intl Mins</th>\n",
       "      <th>Intl Calls</th>\n",
       "      <th>Intl Charge</th>\n",
       "      <th>CustServ Calls</th>\n",
       "      <th>Churn?</th>\n",
       "      <th>Charge</th>\n",
       "      <th>Mins</th>\n",
       "      <th>Calls</th>\n",
       "    </tr>\n",
       "  </thead>\n",
       "  <tbody>\n",
       "    <tr>\n",
       "      <th>0</th>\n",
       "      <td>128</td>\n",
       "      <td>0</td>\n",
       "      <td>1</td>\n",
       "      <td>25</td>\n",
       "      <td>10.0</td>\n",
       "      <td>3</td>\n",
       "      <td>2.70</td>\n",
       "      <td>1</td>\n",
       "      <td>0</td>\n",
       "      <td>72.86</td>\n",
       "      <td>707.2</td>\n",
       "      <td>299</td>\n",
       "    </tr>\n",
       "    <tr>\n",
       "      <th>1</th>\n",
       "      <td>107</td>\n",
       "      <td>0</td>\n",
       "      <td>1</td>\n",
       "      <td>26</td>\n",
       "      <td>13.7</td>\n",
       "      <td>3</td>\n",
       "      <td>3.70</td>\n",
       "      <td>1</td>\n",
       "      <td>0</td>\n",
       "      <td>55.54</td>\n",
       "      <td>611.5</td>\n",
       "      <td>328</td>\n",
       "    </tr>\n",
       "    <tr>\n",
       "      <th>2</th>\n",
       "      <td>137</td>\n",
       "      <td>0</td>\n",
       "      <td>0</td>\n",
       "      <td>0</td>\n",
       "      <td>12.2</td>\n",
       "      <td>5</td>\n",
       "      <td>3.29</td>\n",
       "      <td>0</td>\n",
       "      <td>0</td>\n",
       "      <td>59.00</td>\n",
       "      <td>527.2</td>\n",
       "      <td>328</td>\n",
       "    </tr>\n",
       "    <tr>\n",
       "      <th>3</th>\n",
       "      <td>84</td>\n",
       "      <td>1</td>\n",
       "      <td>0</td>\n",
       "      <td>0</td>\n",
       "      <td>6.6</td>\n",
       "      <td>7</td>\n",
       "      <td>1.78</td>\n",
       "      <td>2</td>\n",
       "      <td>0</td>\n",
       "      <td>65.02</td>\n",
       "      <td>558.2</td>\n",
       "      <td>246</td>\n",
       "    </tr>\n",
       "    <tr>\n",
       "      <th>4</th>\n",
       "      <td>75</td>\n",
       "      <td>1</td>\n",
       "      <td>0</td>\n",
       "      <td>0</td>\n",
       "      <td>10.1</td>\n",
       "      <td>3</td>\n",
       "      <td>2.73</td>\n",
       "      <td>3</td>\n",
       "      <td>0</td>\n",
       "      <td>49.36</td>\n",
       "      <td>501.9</td>\n",
       "      <td>353</td>\n",
       "    </tr>\n",
       "  </tbody>\n",
       "</table>\n",
       "</div>"
      ],
      "text/plain": [
       "   Account Length  Int'l Plan  VMail Plan  VMail Message  Intl Mins  \\\n",
       "0             128           0           1             25       10.0   \n",
       "1             107           0           1             26       13.7   \n",
       "2             137           0           0              0       12.2   \n",
       "3              84           1           0              0        6.6   \n",
       "4              75           1           0              0       10.1   \n",
       "\n",
       "   Intl Calls  Intl Charge  CustServ Calls  Churn?  Charge   Mins  Calls  \n",
       "0           3         2.70               1       0   72.86  707.2    299  \n",
       "1           3         3.70               1       0   55.54  611.5    328  \n",
       "2           5         3.29               0       0   59.00  527.2    328  \n",
       "3           7         1.78               2       0   65.02  558.2    246  \n",
       "4           3         2.73               3       0   49.36  501.9    353  "
      ]
     },
     "execution_count": 126,
     "metadata": {},
     "output_type": "execute_result"
    }
   ],
   "source": [
    "data_tmp.head()"
   ]
  },
  {
   "cell_type": "code",
   "execution_count": 127,
   "metadata": {},
   "outputs": [
    {
     "data": {
      "text/plain": [
       "(0.855072463768116, 0.9147286821705426)"
      ]
     },
     "execution_count": 127,
     "metadata": {},
     "output_type": "execute_result"
    }
   ],
   "source": [
    "#划分训练集和测试集\n",
    "y=data_tmp.pop('Churn?')\n",
    "train,test,train_y,test_y=train_test_split(data_tmp,y,test_size=0.3,random_state=0)\n",
    "\n",
    "clf = GBC(learning_rate=0.1, n_estimators=78,\n",
    "                            max_depth=5, \n",
    "                            min_samples_leaf =1,\n",
    "                            min_samples_split =52,\n",
    "                        random_state=0)\n",
    "clf.fit(train,train_y)\n",
    "pred=clf.predict(test)\n",
    "metrics.recall_score(test_y,pred),metrics.precision_score(test_y,pred)"
   ]
  },
  {
   "cell_type": "markdown",
   "metadata": {},
   "source": [
    "#### 随机森林调参"
   ]
  },
  {
   "cell_type": "code",
   "execution_count": 23,
   "metadata": {},
   "outputs": [
    {
     "name": "stderr",
     "output_type": "stream",
     "text": [
      "C:\\Users\\starcor\\AppData\\Local\\Continuum\\anaconda2\\lib\\site-packages\\sklearn\\model_selection\\_search.py:761: DeprecationWarning: The grid_scores_ attribute was deprecated in version 0.18 in favor of the more elaborate cv_results_ attribute. The grid_scores_ attribute will not be available from 0.20\n",
      "  DeprecationWarning)\n"
     ]
    },
    {
     "data": {
      "text/plain": [
       "([mean: 0.82899, std: 0.01923, params: {'n_estimators': 55},\n",
       "  mean: 0.82609, std: 0.01588, params: {'n_estimators': 60},\n",
       "  mean: 0.83188, std: 0.02355, params: {'n_estimators': 65},\n",
       "  mean: 0.83478, std: 0.02355, params: {'n_estimators': 70},\n",
       "  mean: 0.83768, std: 0.02493, params: {'n_estimators': 75},\n",
       "  mean: 0.83478, std: 0.02355, params: {'n_estimators': 80},\n",
       "  mean: 0.83478, std: 0.02169, params: {'n_estimators': 85}],\n",
       " 0.8376811594202899,\n",
       " {'n_estimators': 75})"
      ]
     },
     "execution_count": 23,
     "metadata": {},
     "output_type": "execute_result"
    }
   ],
   "source": [
    "from sklearn.ensemble import RandomForestClassifier as RF\n",
    "from sklearn.model_selection import GridSearchCV\n",
    "\n",
    "# 调节参数n_estimators\n",
    "param_test1 = {'n_estimators':range(55,90,5)}\n",
    "gsearch1 = GridSearchCV(estimator = RF(random_state=0), param_grid = param_test1, scoring='recall',iid=False,cv=cv)\n",
    "gsearch1.fit(train,train_y)\n",
    "gsearch1.grid_scores_,gsearch1.best_score_,gsearch1.best_params_"
   ]
  },
  {
   "cell_type": "code",
   "execution_count": 26,
   "metadata": {},
   "outputs": [
    {
     "name": "stderr",
     "output_type": "stream",
     "text": [
      "C:\\Users\\starcor\\AppData\\Local\\Continuum\\anaconda2\\lib\\site-packages\\sklearn\\model_selection\\_search.py:761: DeprecationWarning: The grid_scores_ attribute was deprecated in version 0.18 in favor of the more elaborate cv_results_ attribute. The grid_scores_ attribute will not be available from 0.20\n",
      "  DeprecationWarning)\n"
     ]
    },
    {
     "data": {
      "text/plain": [
       "([mean: 0.40000, std: 0.03735, params: {'min_samples_split': 2, 'max_depth': 3},\n",
       "  mean: 0.39420, std: 0.04798, params: {'min_samples_split': 22, 'max_depth': 3},\n",
       "  mean: 0.39420, std: 0.04037, params: {'min_samples_split': 42, 'max_depth': 3},\n",
       "  mean: 0.38841, std: 0.03823, params: {'min_samples_split': 62, 'max_depth': 3},\n",
       "  mean: 0.38841, std: 0.03228, params: {'min_samples_split': 82, 'max_depth': 3},\n",
       "  mean: 0.50725, std: 0.03779, params: {'min_samples_split': 2, 'max_depth': 4},\n",
       "  mean: 0.50435, std: 0.07413, params: {'min_samples_split': 22, 'max_depth': 4},\n",
       "  mean: 0.49275, std: 0.05869, params: {'min_samples_split': 42, 'max_depth': 4},\n",
       "  mean: 0.44638, std: 0.01085, params: {'min_samples_split': 62, 'max_depth': 4},\n",
       "  mean: 0.40870, std: 0.04037, params: {'min_samples_split': 82, 'max_depth': 4},\n",
       "  mean: 0.70145, std: 0.04453, params: {'min_samples_split': 2, 'max_depth': 5},\n",
       "  mean: 0.68986, std: 0.04902, params: {'min_samples_split': 22, 'max_depth': 5},\n",
       "  mean: 0.67246, std: 0.03953, params: {'min_samples_split': 42, 'max_depth': 5},\n",
       "  mean: 0.60000, std: 0.02984, params: {'min_samples_split': 62, 'max_depth': 5},\n",
       "  mean: 0.52754, std: 0.04987, params: {'min_samples_split': 82, 'max_depth': 5},\n",
       "  mean: 0.78261, std: 0.03995, params: {'min_samples_split': 2, 'max_depth': 6},\n",
       "  mean: 0.74783, std: 0.04357, params: {'min_samples_split': 22, 'max_depth': 6},\n",
       "  mean: 0.74783, std: 0.07135, params: {'min_samples_split': 42, 'max_depth': 6},\n",
       "  mean: 0.68116, std: 0.05575, params: {'min_samples_split': 62, 'max_depth': 6},\n",
       "  mean: 0.57971, std: 0.05423, params: {'min_samples_split': 82, 'max_depth': 6},\n",
       "  mean: 0.80870, std: 0.01690, params: {'min_samples_split': 2, 'max_depth': 7},\n",
       "  mean: 0.80000, std: 0.01923, params: {'min_samples_split': 22, 'max_depth': 7},\n",
       "  mean: 0.79130, std: 0.02169, params: {'min_samples_split': 42, 'max_depth': 7},\n",
       "  mean: 0.74783, std: 0.03953, params: {'min_samples_split': 62, 'max_depth': 7},\n",
       "  mean: 0.68116, std: 0.04850, params: {'min_samples_split': 82, 'max_depth': 7}],\n",
       " 0.808695652173913,\n",
       " {'max_depth': 7, 'min_samples_split': 2})"
      ]
     },
     "execution_count": 26,
     "metadata": {},
     "output_type": "execute_result"
    }
   ],
   "source": [
    "# 调节参数max_depth和min_samples_split\n",
    "param_test2 = {'max_depth':range(3,8,1), 'min_samples_split':range(2,100,20)}\n",
    "gsearch2 = GridSearchCV(estimator =RF(n_estimators=gsearch1.best_params_['n_estimators'],random_state=0), param_grid = param_test2, scoring='recall',iid=False, cv=cv)\n",
    "gsearch2.fit(train,train_y)\n",
    "gsearch2.grid_scores_,gsearch2.best_score_,gsearch2.best_params_"
   ]
  },
  {
   "cell_type": "code",
   "execution_count": 27,
   "metadata": {},
   "outputs": [
    {
     "name": "stderr",
     "output_type": "stream",
     "text": [
      "C:\\Users\\starcor\\AppData\\Local\\Continuum\\anaconda2\\lib\\site-packages\\sklearn\\model_selection\\_search.py:761: DeprecationWarning: The grid_scores_ attribute was deprecated in version 0.18 in favor of the more elaborate cv_results_ attribute. The grid_scores_ attribute will not be available from 0.20\n",
      "  DeprecationWarning)\n"
     ]
    },
    {
     "data": {
      "text/plain": [
       "([mean: 0.80870, std: 0.01690, params: {'min_samples_split': 2, 'min_samples_leaf': 1},\n",
       "  mean: 0.76232, std: 0.04357, params: {'min_samples_split': 52, 'min_samples_leaf': 1},\n",
       "  mean: 0.54783, std: 0.04710, params: {'min_samples_split': 102, 'min_samples_leaf': 1},\n",
       "  mean: 0.50435, std: 0.04240, params: {'min_samples_split': 152, 'min_samples_leaf': 1},\n",
       "  mean: 0.72174, std: 0.07525, params: {'min_samples_split': 2, 'min_samples_leaf': 11},\n",
       "  mean: 0.70435, std: 0.05695, params: {'min_samples_split': 52, 'min_samples_leaf': 11},\n",
       "  mean: 0.51304, std: 0.06052, params: {'min_samples_split': 102, 'min_samples_leaf': 11},\n",
       "  mean: 0.48696, std: 0.06121, params: {'min_samples_split': 152, 'min_samples_leaf': 11},\n",
       "  mean: 0.59130, std: 0.04528, params: {'min_samples_split': 2, 'min_samples_leaf': 21},\n",
       "  mean: 0.57971, std: 0.03305, params: {'min_samples_split': 52, 'min_samples_leaf': 21},\n",
       "  mean: 0.44058, std: 0.02840, params: {'min_samples_split': 102, 'min_samples_leaf': 21},\n",
       "  mean: 0.42609, std: 0.04160, params: {'min_samples_split': 152, 'min_samples_leaf': 21},\n",
       "  mean: 0.50725, std: 0.01588, params: {'min_samples_split': 2, 'min_samples_leaf': 31},\n",
       "  mean: 0.50725, std: 0.01588, params: {'min_samples_split': 52, 'min_samples_leaf': 31},\n",
       "  mean: 0.40290, std: 0.02493, params: {'min_samples_split': 102, 'min_samples_leaf': 31},\n",
       "  mean: 0.40580, std: 0.02750, params: {'min_samples_split': 152, 'min_samples_leaf': 31},\n",
       "  mean: 0.37681, std: 0.03889, params: {'min_samples_split': 2, 'min_samples_leaf': 41},\n",
       "  mean: 0.37681, std: 0.03889, params: {'min_samples_split': 52, 'min_samples_leaf': 41},\n",
       "  mean: 0.37681, std: 0.04099, params: {'min_samples_split': 102, 'min_samples_leaf': 41},\n",
       "  mean: 0.37101, std: 0.04357, params: {'min_samples_split': 152, 'min_samples_leaf': 41},\n",
       "  mean: 0.35362, std: 0.05153, params: {'min_samples_split': 2, 'min_samples_leaf': 51},\n",
       "  mean: 0.35362, std: 0.05153, params: {'min_samples_split': 52, 'min_samples_leaf': 51},\n",
       "  mean: 0.35362, std: 0.05153, params: {'min_samples_split': 102, 'min_samples_leaf': 51},\n",
       "  mean: 0.35362, std: 0.05153, params: {'min_samples_split': 152, 'min_samples_leaf': 51},\n",
       "  mean: 0.35072, std: 0.05376, params: {'min_samples_split': 2, 'min_samples_leaf': 61},\n",
       "  mean: 0.35072, std: 0.05376, params: {'min_samples_split': 52, 'min_samples_leaf': 61},\n",
       "  mean: 0.35072, std: 0.05376, params: {'min_samples_split': 102, 'min_samples_leaf': 61},\n",
       "  mean: 0.34783, std: 0.05020, params: {'min_samples_split': 152, 'min_samples_leaf': 61},\n",
       "  mean: 0.33623, std: 0.06244, params: {'min_samples_split': 2, 'min_samples_leaf': 71},\n",
       "  mean: 0.33623, std: 0.06244, params: {'min_samples_split': 52, 'min_samples_leaf': 71},\n",
       "  mean: 0.33623, std: 0.06244, params: {'min_samples_split': 102, 'min_samples_leaf': 71},\n",
       "  mean: 0.33043, std: 0.05530, params: {'min_samples_split': 152, 'min_samples_leaf': 71},\n",
       "  mean: 0.32174, std: 0.04970, params: {'min_samples_split': 2, 'min_samples_leaf': 81},\n",
       "  mean: 0.32174, std: 0.04970, params: {'min_samples_split': 52, 'min_samples_leaf': 81},\n",
       "  mean: 0.32174, std: 0.04970, params: {'min_samples_split': 102, 'min_samples_leaf': 81},\n",
       "  mean: 0.32174, std: 0.04970, params: {'min_samples_split': 152, 'min_samples_leaf': 81},\n",
       "  mean: 0.31014, std: 0.05392, params: {'min_samples_split': 2, 'min_samples_leaf': 91},\n",
       "  mean: 0.31014, std: 0.05392, params: {'min_samples_split': 52, 'min_samples_leaf': 91},\n",
       "  mean: 0.31014, std: 0.05392, params: {'min_samples_split': 102, 'min_samples_leaf': 91},\n",
       "  mean: 0.31014, std: 0.05392, params: {'min_samples_split': 152, 'min_samples_leaf': 91}],\n",
       " 0.808695652173913,\n",
       " {'min_samples_leaf': 1, 'min_samples_split': 2})"
      ]
     },
     "execution_count": 27,
     "metadata": {},
     "output_type": "execute_result"
    }
   ],
   "source": [
    "# 调节参数min_samples_split和min_samples_leaf\n",
    "param_test3 = {'min_samples_split':range(2,200,50), 'min_samples_leaf':range(1,100,10)}\n",
    "gsearch3 = GridSearchCV(estimator = RF(n_estimators=gsearch1.best_params_['n_estimators'],max_depth=gsearch2.best_params_['max_depth'], random_state=0), param_grid = param_test3, scoring='recall',iid=False, cv=cv)\n",
    "gsearch3.fit(train,train_y)\n",
    "gsearch3.grid_scores_,gsearch3.best_score_,gsearch3.best_params_"
   ]
  },
  {
   "cell_type": "code",
   "execution_count": 32,
   "metadata": {},
   "outputs": [
    {
     "name": "stderr",
     "output_type": "stream",
     "text": [
      "C:\\Users\\starcor\\AppData\\Local\\Continuum\\anaconda2\\lib\\site-packages\\sklearn\\model_selection\\_search.py:761: DeprecationWarning: The grid_scores_ attribute was deprecated in version 0.18 in favor of the more elaborate cv_results_ attribute. The grid_scores_ attribute will not be available from 0.20\n",
      "  DeprecationWarning)\n"
     ]
    },
    {
     "data": {
      "text/plain": [
       "([mean: 0.35072, std: 0.05606, params: {'max_features': 1},\n",
       "  mean: 0.72174, std: 0.05376, params: {'max_features': 2},\n",
       "  mean: 0.80870, std: 0.01690, params: {'max_features': 3},\n",
       "  mean: 0.82609, std: 0.02425, params: {'max_features': 4},\n",
       "  mean: 0.82899, std: 0.02319, params: {'max_features': 5},\n",
       "  mean: 0.82899, std: 0.02956, params: {'max_features': 6},\n",
       "  mean: 0.82029, std: 0.02688, params: {'max_features': 7},\n",
       "  mean: 0.81739, std: 0.02355, params: {'max_features': 8},\n",
       "  mean: 0.82319, std: 0.02956, params: {'max_features': 9},\n",
       "  mean: 0.81739, std: 0.02984, params: {'max_features': 10},\n",
       "  mean: 0.81739, std: 0.02984, params: {'max_features': 11}],\n",
       " {'max_features': 5},\n",
       " 0.8289855072463768)"
      ]
     },
     "execution_count": 32,
     "metadata": {},
     "output_type": "execute_result"
    }
   ],
   "source": [
    "# 调节参数max_features\n",
    "param_test4 = {'max_features':range(1,train.shape[1]+1,1)}\n",
    "gsearch4 = GridSearchCV(estimator = RF( n_estimators=gsearch1.best_params_['n_estimators'],max_depth=gsearch2.best_params_['max_depth'], min_samples_leaf =gsearch3.best_params_['min_samples_leaf'], min_samples_split =gsearch3.best_params_['min_samples_split'], random_state=0), param_grid = param_test4, scoring='recall',iid=False, cv=cv)\n",
    "gsearch4.fit(train,train_y)\n",
    "gsearch4.grid_scores_, gsearch4.best_params_, gsearch4.best_score_"
   ]
  },
  {
   "cell_type": "code",
   "execution_count": 34,
   "metadata": {},
   "outputs": [
    {
     "data": {
      "text/plain": [
       "0.8478260869565217"
      ]
     },
     "execution_count": 34,
     "metadata": {},
     "output_type": "execute_result"
    }
   ],
   "source": [
    "# 调参后的Random Forest\n",
    "clf=RF(n_estimators=gsearch1.best_params_['n_estimators'],max_depth=gsearch2.best_params_['max_depth'], \n",
    "       min_samples_leaf =gsearch3.best_params_['min_samples_leaf'], min_samples_split =gsearch3.best_params_['min_samples_split'],\n",
    "       max_features=gsearch4.best_params_['max_features'],random_state=0)\n",
    "clf.fit(train,train_y)\n",
    "pred=clf.predict(test)\n",
    "metrics.recall_score(test_y,pred)"
   ]
  },
  {
   "cell_type": "markdown",
   "metadata": {},
   "source": [
    "#### 模型融合"
   ]
  },
  {
   "cell_type": "code",
   "execution_count": 162,
   "metadata": {},
   "outputs": [
    {
     "data": {
      "text/plain": [
       "((2333, 11), (2333, 1), (1000, 11), (1000, 1))"
      ]
     },
     "execution_count": 162,
     "metadata": {},
     "output_type": "execute_result"
    }
   ],
   "source": [
    "train.shape,train_y.shape,test.shape,test_y.shape"
   ]
  },
  {
   "cell_type": "code",
   "execution_count": 129,
   "metadata": {},
   "outputs": [],
   "source": [
    "train=train.reset_index()\n",
    "train.drop('index',axis=1,inplace=True)\n",
    "\n",
    "train_y=train_y.reset_index()\n",
    "train_y.drop('index',axis=1,inplace=True)\n",
    "\n",
    "test=test.reset_index()\n",
    "test.drop('index',axis=1,inplace=True)\n",
    "\n",
    "test_y=test_y.reset_index()\n",
    "test_y.drop('index',axis=1,inplace=True)"
   ]
  },
  {
   "cell_type": "code",
   "execution_count": 143,
   "metadata": {},
   "outputs": [],
   "source": [
    "def ensemble_model(model,train,train_y,test,n_folds=5,random_state=0):\n",
    "    \n",
    "    num_train, num_test = train.shape[0], test.shape[0]\n",
    "    L1_train = np.zeros((num_train,)) \n",
    "    L1_test = np.zeros((num_test,))\n",
    "    L1_test_all = np.zeros((num_test, n_folds))\n",
    "    KF = KFold(n_splits = n_folds, random_state=random_state)\n",
    "    \n",
    "    for i, (train_index, val_index) in enumerate(KF.split(train)):\n",
    "        x_train, y_train = train[train_index], train_y[train_index]\n",
    "        x_val, y_val = train[val_index], train_y[val_index]\n",
    "        model.fit(x_train,y_train)\n",
    "        L1_train[val_index] = model.predict(x_val)\n",
    "        L1_test_all[:, i] = model.predict(test)\n",
    "    L1_test = np.mean(L1_test_all, axis=1)\n",
    "    \n",
    "    return L1_train,L1_test"
   ]
  },
  {
   "cell_type": "code",
   "execution_count": 144,
   "metadata": {},
   "outputs": [
    {
     "name": "stderr",
     "output_type": "stream",
     "text": [
      "C:\\Users\\starcor\\AppData\\Local\\Continuum\\anaconda2\\lib\\site-packages\\ipykernel_launcher.py:12: DataConversionWarning: A column-vector y was passed when a 1d array was expected. Please change the shape of y to (n_samples,), for example using ravel().\n",
      "  if sys.path[0] == '':\n"
     ]
    }
   ],
   "source": [
    "model=GBC(learning_rate=0.1, n_estimators=78,max_depth=5, min_samples_leaf =1,min_samples_split =52,random_state=0)\n",
    "gbc_train,gbc_test=ensemble_model(model,train.values,train_y.values,test.values)\n",
    "\n",
    "model=RF(n_estimators=75,max_depth=7,min_samples_leaf =1, min_samples_split =2, max_features=5,random_state=0)\n",
    "rf_train,rf_test=ensemble_model(model,train.values,train_y.values,test.values)"
   ]
  },
  {
   "cell_type": "code",
   "execution_count": 146,
   "metadata": {},
   "outputs": [],
   "source": [
    "input_train=[gbc_train,rf_train] \n",
    "input_test=[gbc_test,rf_test]\n",
    "\n",
    "stacked_train = np.concatenate([f.reshape(-1, 1) for f in input_train], axis=1)\n",
    "stacked_test = np.concatenate([f.reshape(-1, 1) for f in input_test], axis=1)"
   ]
  },
  {
   "cell_type": "markdown",
   "metadata": {},
   "source": [
    "#### tuning"
   ]
  },
  {
   "cell_type": "code",
   "execution_count": 163,
   "metadata": {},
   "outputs": [],
   "source": [
    "train1=stacked_train"
   ]
  },
  {
   "cell_type": "code",
   "execution_count": 166,
   "metadata": {},
   "outputs": [
    {
     "data": {
      "text/plain": [
       "(0.8318840579710145, {'n_estimators': 21})"
      ]
     },
     "execution_count": 166,
     "metadata": {},
     "output_type": "execute_result"
    }
   ],
   "source": [
    "from sklearn.model_selection import GridSearchCV\n",
    "param_test1 = {'n_estimators':range(1,42,5)}\n",
    "gsearch1 = GridSearchCV(estimator = GBC(learning_rate=0.1,random_state=0), \n",
    "                   param_grid = param_test1, scoring='recall',iid=False,cv=cv)\n",
    "gsearch1.fit(train1,train_y)\n",
    "gsearch1.best_score_,gsearch1.best_params_"
   ]
  },
  {
   "cell_type": "code",
   "execution_count": 169,
   "metadata": {},
   "outputs": [
    {
     "data": {
      "text/plain": [
       "(0.8347826086956521, {'max_depth': 3, 'min_samples_split': 250})"
      ]
     },
     "execution_count": 169,
     "metadata": {},
     "output_type": "execute_result"
    }
   ],
   "source": [
    "#调节参数max_depth和min_samples_split\n",
    "param_test2 = {'max_depth':range(3,9,1), 'min_samples_split':range(200,503,50)}\n",
    "gsearch2 = GridSearchCV(estimator =GBC(learning_rate=0.1, n_estimators=gsearch1.best_params_['n_estimators'],\n",
    "                                                          random_state=0), \n",
    "                    param_grid = param_test2, scoring='recall',iid=False, cv=cv)\n",
    "gsearch2.fit(train1,train_y)\n",
    "gsearch2.best_score_,gsearch2.best_params_"
   ]
  },
  {
   "cell_type": "code",
   "execution_count": 172,
   "metadata": {},
   "outputs": [
    {
     "data": {
      "text/plain": [
       "(0.8347826086956521, {'min_samples_leaf': 1, 'min_samples_split': 260})"
      ]
     },
     "execution_count": 172,
     "metadata": {},
     "output_type": "execute_result"
    }
   ],
   "source": [
    "#调节参数min_samples_split和min_samples_leaf\n",
    "param_test3 = {'min_samples_split':range(200,350,20), 'min_samples_leaf':range(1,10,1)}\n",
    "gsearch3 = GridSearchCV(estimator = GBC(learning_rate=0.1, n_estimators=gsearch1.best_params_['n_estimators'],\n",
    "                                                          max_depth=gsearch2.best_params_['max_depth'], random_state=0), \n",
    "                   param_grid = param_test3, scoring='recall',iid=False, cv=cv)\n",
    "gsearch3.fit(train1,train_y)\n",
    "gsearch3.best_score_,gsearch3.best_params_"
   ]
  },
  {
   "cell_type": "code",
   "execution_count": 173,
   "metadata": {},
   "outputs": [],
   "source": [
    "clf = GBC(learning_rate=0.1, n_estimators=gsearch1.best_params_['n_estimators'],\n",
    "                            max_depth=gsearch2.best_params_['max_depth'], \n",
    "                            min_samples_leaf =gsearch3.best_params_['min_samples_leaf'],\n",
    "                            min_samples_split =gsearch3.best_params_['min_samples_split'],\n",
    "                        random_state=0)"
   ]
  },
  {
   "cell_type": "code",
   "execution_count": 174,
   "metadata": {},
   "outputs": [
    {
     "data": {
      "text/plain": [
       "(0.8478260869565217, 0.9669421487603306)"
      ]
     },
     "execution_count": 174,
     "metadata": {},
     "output_type": "execute_result"
    }
   ],
   "source": [
    "clf.fit(stacked_train, y_train)\n",
    "pred=clf.predict(stacked_test)\n",
    "metrics.recall_score(test_y,pred),metrics.precision_score(test_y,pred)"
   ]
  },
  {
   "cell_type": "code",
   "execution_count": 175,
   "metadata": {},
   "outputs": [
    {
     "data": {
      "text/plain": [
       "<bound method GradientBoostingClassifier.get_params of GradientBoostingClassifier(criterion='friedman_mse', init=None,\n",
       "              learning_rate=0.1, loss='deviance', max_depth=3,\n",
       "              max_features=None, max_leaf_nodes=None,\n",
       "              min_impurity_decrease=0.0, min_impurity_split=None,\n",
       "              min_samples_leaf=1, min_samples_split=260,\n",
       "              min_weight_fraction_leaf=0.0, n_estimators=21,\n",
       "              presort='auto', random_state=0, subsample=1.0, verbose=0,\n",
       "              warm_start=False)>"
      ]
     },
     "execution_count": 175,
     "metadata": {},
     "output_type": "execute_result"
    }
   ],
   "source": [
    "clf.get_params"
   ]
  },
  {
   "cell_type": "code",
   "execution_count": null,
   "metadata": {},
   "outputs": [],
   "source": []
  }
 ],
 "metadata": {
  "kernelspec": {
   "display_name": "Python 2",
   "language": "python",
   "name": "python2"
  },
  "language_info": {
   "codemirror_mode": {
    "name": "ipython",
    "version": 2
   },
   "file_extension": ".py",
   "mimetype": "text/x-python",
   "name": "python",
   "nbconvert_exporter": "python",
   "pygments_lexer": "ipython2",
   "version": "2.7.14"
  }
 },
 "nbformat": 4,
 "nbformat_minor": 2
}
