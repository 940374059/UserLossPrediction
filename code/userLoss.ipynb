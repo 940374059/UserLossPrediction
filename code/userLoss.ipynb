{
 "cells": [
  {
   "cell_type": "markdown",
   "metadata": {},
   "source": [
    "## 数据字段说明\n",
    "<br>\n",
    "\n",
    " | 变量名   | State  | Account Length | Area Code | Phone    | Int'l Plan       | VMail Plan \t   | VMail Message | Day Mins   | Day Calls    | Day Charge   | Eve Mins   | Eve Calls    | Eve Charge \t | Night Mins | Night Calls  | Night Charge | Intl Mins  | Intl Calls   | Intl Charge  | CustServ Calls | Churn?         | \n",
    " | ------   | ------ | ------         | ------    | ------   | ------           | ------           | ------        | ------     | ------       | ------       | ------     | ------       | ------       | ------     | ------       | ------       | ------     | ------       | ------       | ------         | ------         |\n",
    " | 变量解释 | 州     | 未知           | 区号      | 电话号码 | 是否为该计划用户 | 是否为该计划用户 | VMail消息量   | 每天通话量 | 白天通话次数 | 白天通话费用 | 傍晚通话量 | 傍晚通话次数 | 傍晚通话费用 | 夜间通话量 | 夜间通话次数 | 夜间通话费用 | 国际通话量 | 国际通话次数 | 国际通话费用 | 客服通话次数   | 是否为流失客户 | \n",
    "\n",
    "<br>\n",
    " 数据很简单,每行代表一个预订的电话用户。 每列包含客户属性，例如电话号码，在一天中不同时间使用的通话分钟，服务产生的费用，生命周期帐户持续时间以及客户是否仍然是客户。"
   ]
  },
  {
   "cell_type": "markdown",
   "metadata": {},
   "source": [
    "## 改进日志\n",
    "- 0619,GDBT效果最好，未标准化\n",
    "recall score:0.7609 \n",
    "\n",
    "- 0620，基于卡方分布、最大信息系数选择特征，删了一个特征，训练集GDBT精确率提高0.5%，随机森林模型召回率提高了3%，精确率提高了0.5%\n",
    "recall score:0.7609\n",
    "\n",
    "- 0621,使用了好几种方式特征选择，有基于GDBT单变量特征选择、递归特征消除、基于L1正则化筛选特征、基于GDBT特征重要性特征选择，GDBT召回率提高了0.2%,最后对GDBT模型调参，召回率提高了1%\n",
    "    <br>precision score: 0.8740\n",
    "    <br>recall score:0.8043\n",
    "- 0625,使用smote算法过采样，召回率提高了1.5%\n",
    "    <br>precision score: 0.7740\n",
    "    <br>recall score:0.8188"
   ]
  },
  {
   "cell_type": "code",
   "execution_count": 1,
   "metadata": {},
   "outputs": [],
   "source": [
    "import pandas as pd\n",
    "import numpy as np\n",
    "import matplotlib.pyplot as plt\n",
    "\n",
    "from sklearn.preprocessing import StandardScaler\n",
    "from sklearn.model_selection import train_test_split\n",
    "from sklearn.model_selection import cross_val_score\n",
    "from sklearn import metrics\n",
    "\n",
    "from sklearn.svm import SVC\n",
    "from sklearn.ensemble import RandomForestClassifier as RF\n",
    "from sklearn.neighbors import KNeighborsClassifier as KNN\n",
    "from sklearn.linear_model import LogisticRegression as LR\n",
    "from sklearn.ensemble import GradientBoostingClassifier as GBC"
   ]
  },
  {
   "cell_type": "code",
   "execution_count": 2,
   "metadata": {
    "scrolled": true
   },
   "outputs": [
    {
     "name": "stdout",
     "output_type": "stream",
     "text": [
      "(3333, 21)\n"
     ]
    },
    {
     "data": {
      "text/html": [
       "<div>\n",
       "<style scoped>\n",
       "    .dataframe tbody tr th:only-of-type {\n",
       "        vertical-align: middle;\n",
       "    }\n",
       "\n",
       "    .dataframe tbody tr th {\n",
       "        vertical-align: top;\n",
       "    }\n",
       "\n",
       "    .dataframe thead th {\n",
       "        text-align: right;\n",
       "    }\n",
       "</style>\n",
       "<table border=\"1\" class=\"dataframe\">\n",
       "  <thead>\n",
       "    <tr style=\"text-align: right;\">\n",
       "      <th></th>\n",
       "      <th>State</th>\n",
       "      <th>Account Length</th>\n",
       "      <th>Area Code</th>\n",
       "      <th>Phone</th>\n",
       "      <th>Int'l Plan</th>\n",
       "      <th>VMail Plan</th>\n",
       "      <th>VMail Message</th>\n",
       "      <th>Day Mins</th>\n",
       "      <th>Day Calls</th>\n",
       "      <th>Day Charge</th>\n",
       "      <th>...</th>\n",
       "      <th>Eve Calls</th>\n",
       "      <th>Eve Charge</th>\n",
       "      <th>Night Mins</th>\n",
       "      <th>Night Calls</th>\n",
       "      <th>Night Charge</th>\n",
       "      <th>Intl Mins</th>\n",
       "      <th>Intl Calls</th>\n",
       "      <th>Intl Charge</th>\n",
       "      <th>CustServ Calls</th>\n",
       "      <th>Churn?</th>\n",
       "    </tr>\n",
       "  </thead>\n",
       "  <tbody>\n",
       "    <tr>\n",
       "      <th>0</th>\n",
       "      <td>KS</td>\n",
       "      <td>128</td>\n",
       "      <td>415</td>\n",
       "      <td>382-4657</td>\n",
       "      <td>no</td>\n",
       "      <td>yes</td>\n",
       "      <td>25</td>\n",
       "      <td>265.1</td>\n",
       "      <td>110</td>\n",
       "      <td>45.07</td>\n",
       "      <td>...</td>\n",
       "      <td>99</td>\n",
       "      <td>16.78</td>\n",
       "      <td>244.7</td>\n",
       "      <td>91</td>\n",
       "      <td>11.01</td>\n",
       "      <td>10.0</td>\n",
       "      <td>3</td>\n",
       "      <td>2.70</td>\n",
       "      <td>1</td>\n",
       "      <td>False.</td>\n",
       "    </tr>\n",
       "    <tr>\n",
       "      <th>1</th>\n",
       "      <td>OH</td>\n",
       "      <td>107</td>\n",
       "      <td>415</td>\n",
       "      <td>371-7191</td>\n",
       "      <td>no</td>\n",
       "      <td>yes</td>\n",
       "      <td>26</td>\n",
       "      <td>161.6</td>\n",
       "      <td>123</td>\n",
       "      <td>27.47</td>\n",
       "      <td>...</td>\n",
       "      <td>103</td>\n",
       "      <td>16.62</td>\n",
       "      <td>254.4</td>\n",
       "      <td>103</td>\n",
       "      <td>11.45</td>\n",
       "      <td>13.7</td>\n",
       "      <td>3</td>\n",
       "      <td>3.70</td>\n",
       "      <td>1</td>\n",
       "      <td>False.</td>\n",
       "    </tr>\n",
       "    <tr>\n",
       "      <th>2</th>\n",
       "      <td>NJ</td>\n",
       "      <td>137</td>\n",
       "      <td>415</td>\n",
       "      <td>358-1921</td>\n",
       "      <td>no</td>\n",
       "      <td>no</td>\n",
       "      <td>0</td>\n",
       "      <td>243.4</td>\n",
       "      <td>114</td>\n",
       "      <td>41.38</td>\n",
       "      <td>...</td>\n",
       "      <td>110</td>\n",
       "      <td>10.30</td>\n",
       "      <td>162.6</td>\n",
       "      <td>104</td>\n",
       "      <td>7.32</td>\n",
       "      <td>12.2</td>\n",
       "      <td>5</td>\n",
       "      <td>3.29</td>\n",
       "      <td>0</td>\n",
       "      <td>False.</td>\n",
       "    </tr>\n",
       "    <tr>\n",
       "      <th>3</th>\n",
       "      <td>OH</td>\n",
       "      <td>84</td>\n",
       "      <td>408</td>\n",
       "      <td>375-9999</td>\n",
       "      <td>yes</td>\n",
       "      <td>no</td>\n",
       "      <td>0</td>\n",
       "      <td>299.4</td>\n",
       "      <td>71</td>\n",
       "      <td>50.90</td>\n",
       "      <td>...</td>\n",
       "      <td>88</td>\n",
       "      <td>5.26</td>\n",
       "      <td>196.9</td>\n",
       "      <td>89</td>\n",
       "      <td>8.86</td>\n",
       "      <td>6.6</td>\n",
       "      <td>7</td>\n",
       "      <td>1.78</td>\n",
       "      <td>2</td>\n",
       "      <td>False.</td>\n",
       "    </tr>\n",
       "    <tr>\n",
       "      <th>4</th>\n",
       "      <td>OK</td>\n",
       "      <td>75</td>\n",
       "      <td>415</td>\n",
       "      <td>330-6626</td>\n",
       "      <td>yes</td>\n",
       "      <td>no</td>\n",
       "      <td>0</td>\n",
       "      <td>166.7</td>\n",
       "      <td>113</td>\n",
       "      <td>28.34</td>\n",
       "      <td>...</td>\n",
       "      <td>122</td>\n",
       "      <td>12.61</td>\n",
       "      <td>186.9</td>\n",
       "      <td>121</td>\n",
       "      <td>8.41</td>\n",
       "      <td>10.1</td>\n",
       "      <td>3</td>\n",
       "      <td>2.73</td>\n",
       "      <td>3</td>\n",
       "      <td>False.</td>\n",
       "    </tr>\n",
       "  </tbody>\n",
       "</table>\n",
       "<p>5 rows × 21 columns</p>\n",
       "</div>"
      ],
      "text/plain": [
       "  State  Account Length  Area Code     Phone Int'l Plan VMail Plan  \\\n",
       "0    KS             128        415  382-4657         no        yes   \n",
       "1    OH             107        415  371-7191         no        yes   \n",
       "2    NJ             137        415  358-1921         no         no   \n",
       "3    OH              84        408  375-9999        yes         no   \n",
       "4    OK              75        415  330-6626        yes         no   \n",
       "\n",
       "   VMail Message  Day Mins  Day Calls  Day Charge   ...    Eve Calls  \\\n",
       "0             25     265.1        110       45.07   ...           99   \n",
       "1             26     161.6        123       27.47   ...          103   \n",
       "2              0     243.4        114       41.38   ...          110   \n",
       "3              0     299.4         71       50.90   ...           88   \n",
       "4              0     166.7        113       28.34   ...          122   \n",
       "\n",
       "   Eve Charge  Night Mins  Night Calls  Night Charge  Intl Mins  Intl Calls  \\\n",
       "0       16.78       244.7           91         11.01       10.0           3   \n",
       "1       16.62       254.4          103         11.45       13.7           3   \n",
       "2       10.30       162.6          104          7.32       12.2           5   \n",
       "3        5.26       196.9           89          8.86        6.6           7   \n",
       "4       12.61       186.9          121          8.41       10.1           3   \n",
       "\n",
       "   Intl Charge  CustServ Calls  Churn?  \n",
       "0         2.70               1  False.  \n",
       "1         3.70               1  False.  \n",
       "2         3.29               0  False.  \n",
       "3         1.78               2  False.  \n",
       "4         2.73               3  False.  \n",
       "\n",
       "[5 rows x 21 columns]"
      ]
     },
     "execution_count": 2,
     "metadata": {},
     "output_type": "execute_result"
    }
   ],
   "source": [
    "data=pd.read_csv(\"../input/churn.csv\")\n",
    "print data.shape\n",
    "data.head()"
   ]
  },
  {
   "cell_type": "code",
   "execution_count": 3,
   "metadata": {},
   "outputs": [
    {
     "data": {
      "text/plain": [
       "float64    8\n",
       "int64      8\n",
       "object     5\n",
       "dtype: int64"
      ]
     },
     "execution_count": 3,
     "metadata": {},
     "output_type": "execute_result"
    }
   ],
   "source": [
    "# 查看特征列类型分布\n",
    "data.dtypes.value_counts()"
   ]
  },
  {
   "cell_type": "code",
   "execution_count": 4,
   "metadata": {},
   "outputs": [
    {
     "data": {
      "text/plain": [
       "State         object\n",
       "Phone         object\n",
       "Int'l Plan    object\n",
       "VMail Plan    object\n",
       "Churn?        object\n",
       "dtype: object"
      ]
     },
     "execution_count": 4,
     "metadata": {},
     "output_type": "execute_result"
    }
   ],
   "source": [
    "# 查看具体哪些特征列是object类型\n",
    "data.dtypes[data.dtypes=='object']"
   ]
  },
  {
   "cell_type": "code",
   "execution_count": 5,
   "metadata": {},
   "outputs": [],
   "source": [
    "# 删除无关特征\n",
    "# data=data.drop(['State','Phone'],axis=1)\n",
    "data=data.drop(['State','Area Code','Phone'],axis=1)"
   ]
  },
  {
   "cell_type": "code",
   "execution_count": 6,
   "metadata": {},
   "outputs": [],
   "source": [
    "# 类型转换\n",
    "data['Churn?']=data['Churn?'].map(lambda x: 1 if x=='True.' else 0)\n",
    "cols = [\"Int'l Plan\",\"VMail Plan\"]\n",
    "for col in cols:\n",
    "    data[col]=data[col].map(lambda x: 1 if x=='yes' else 0)"
   ]
  },
  {
   "cell_type": "code",
   "execution_count": 7,
   "metadata": {},
   "outputs": [
    {
     "data": {
      "text/plain": [
       "Account Length    0\n",
       "Intl Charge       0\n",
       "Intl Calls        0\n",
       "Intl Mins         0\n",
       "Night Charge      0\n",
       "Night Calls       0\n",
       "Night Mins        0\n",
       "Eve Charge        0\n",
       "Eve Calls         0\n",
       "Eve Mins          0\n",
       "Day Charge        0\n",
       "Day Calls         0\n",
       "Day Mins          0\n",
       "VMail Message     0\n",
       "VMail Plan        0\n",
       "Int'l Plan        0\n",
       "CustServ Calls    0\n",
       "Churn?            0\n",
       "dtype: int64"
      ]
     },
     "execution_count": 7,
     "metadata": {},
     "output_type": "execute_result"
    }
   ],
   "source": [
    "# 检查缺失值\n",
    "data.isnull().sum().sort_values()"
   ]
  },
  {
   "cell_type": "code",
   "execution_count": 8,
   "metadata": {},
   "outputs": [],
   "source": [
    "#划分训练集和测试集\n",
    "y=data.pop('Churn?')\n",
    "train,test,train_y,test_y=train_test_split(data,y,test_size=0.3,random_state=0)"
   ]
  },
  {
   "cell_type": "code",
   "execution_count": 10,
   "metadata": {},
   "outputs": [],
   "source": [
    "# 评价函数\n",
    "from sklearn.model_selection import StratifiedKFold\n",
    "cv=StratifiedKFold(n_splits=5, random_state=0, shuffle=False)\n",
    "def train_cv(X,y,clf):\n",
    "    print(\"precision score: %.4f\"%cross_val_score(clf, X, y, cv=cv, scoring='precision').mean())\n",
    "    print(\"recall score:%.4f \"%cross_val_score(clf, X, y, cv=cv,scoring='recall').mean())"
   ]
  },
  {
   "cell_type": "code",
   "execution_count": 10,
   "metadata": {},
   "outputs": [
    {
     "name": "stdout",
     "output_type": "stream",
     "text": [
      "precision score: 0.5336\n",
      "recall score:0.1594 \n",
      "\n"
     ]
    },
    {
     "name": "stderr",
     "output_type": "stream",
     "text": [
      "C:\\Users\\starcor\\AppData\\Local\\Continuum\\anaconda2\\lib\\site-packages\\sklearn\\metrics\\classification.py:1135: UndefinedMetricWarning: Precision is ill-defined and being set to 0.0 due to no predicted samples.\n",
      "  'precision', 'predicted', average, warn_for)\n"
     ]
    },
    {
     "name": "stdout",
     "output_type": "stream",
     "text": [
      "precision score: 0.0000\n",
      "recall score:0.0000 \n",
      "\n",
      "precision score: 0.6611\n",
      "recall score:0.2957 \n",
      "\n",
      "precision score: 0.8932\n",
      "recall score:0.6261 \n",
      "\n",
      "precision score: 0.9094\n",
      "recall score:0.7362 \n",
      "\n"
     ]
    }
   ],
   "source": [
    "train_cv(train,train_y,LR())\n",
    "print\n",
    "train_cv(train,train_y,SVC(random_state=0))\n",
    "print\n",
    "train_cv(train,train_y,KNN())\n",
    "print\n",
    "train_cv(train,train_y,RF(random_state=0))\n",
    "print\n",
    "train_cv(train,train_y,GBC(random_state=0))\n",
    "print"
   ]
  },
  {
   "cell_type": "code",
   "execution_count": 11,
   "metadata": {},
   "outputs": [
    {
     "data": {
      "text/plain": [
       "0.7608695652173914"
      ]
     },
     "execution_count": 11,
     "metadata": {},
     "output_type": "execute_result"
    }
   ],
   "source": [
    "clf=GBC(random_state=0).fit(train,train_y)\n",
    "pred=clf.predict(test)\n",
    "metrics.recall_score(test_y,pred)"
   ]
  },
  {
   "cell_type": "markdown",
   "metadata": {},
   "source": [
    "### 方差筛选"
   ]
  },
  {
   "cell_type": "code",
   "execution_count": 12,
   "metadata": {},
   "outputs": [
    {
     "data": {
      "text/plain": [
       "array([8.43618159e-02, 2.01931364e-01, 5.73576300e-01, 1.74627960e+00,\n",
       "       5.25428868e+00, 6.09123500e+00, 7.86880277e+00, 1.88390007e+01,\n",
       "       8.53937717e+01, 1.86393707e+02, 3.92249779e+02, 4.02504989e+02,\n",
       "       4.04660520e+02, 1.60401178e+03, 2.59458766e+03, 2.60742285e+03,\n",
       "       2.95479183e+03])"
      ]
     },
     "execution_count": 12,
     "metadata": {},
     "output_type": "execute_result"
    }
   ],
   "source": [
    "from sklearn.feature_selection import VarianceThreshold\n",
    "selector = VarianceThreshold()\n",
    "selector.fit(train)\n",
    "np.sort(selector.variances_)"
   ]
  },
  {
   "cell_type": "code",
   "execution_count": 13,
   "metadata": {},
   "outputs": [
    {
     "name": "stdout",
     "output_type": "stream",
     "text": [
      "precision score: 0.9094\n",
      "recall score:0.7362 \n",
      "\n",
      "precision score: 0.8932\n",
      "recall score:0.6261 \n",
      "____________________\n",
      "precision score: 0.9094\n",
      "recall score:0.7362 \n",
      "\n",
      "precision score: 0.8932\n",
      "recall score:0.6261 \n",
      "____________________\n",
      "precision score: 0.9094\n",
      "recall score:0.7362 \n",
      "\n",
      "precision score: 0.8932\n",
      "recall score:0.6261 \n",
      "____________________\n"
     ]
    }
   ],
   "source": [
    "for i in range(10,61,20):\n",
    "    selector = VarianceThreshold(threshold=i/100)\n",
    "    selector.fit(train)\n",
    "    train1=selector.transform(train)\n",
    "\n",
    "    train_cv(train1,train_y,GBC(random_state=0))\n",
    "    print\n",
    "    train_cv(train1,train_y,RF(random_state=0))\n",
    "    print \"____________________\""
   ]
  },
  {
   "cell_type": "markdown",
   "metadata": {},
   "source": [
    "### 卡方检验"
   ]
  },
  {
   "cell_type": "code",
   "execution_count": 14,
   "metadata": {},
   "outputs": [
    {
     "data": {
      "text/html": [
       "<div>\n",
       "<style scoped>\n",
       "    .dataframe tbody tr th:only-of-type {\n",
       "        vertical-align: middle;\n",
       "    }\n",
       "\n",
       "    .dataframe tbody tr th {\n",
       "        vertical-align: top;\n",
       "    }\n",
       "\n",
       "    .dataframe thead th {\n",
       "        text-align: right;\n",
       "    }\n",
       "</style>\n",
       "<table border=\"1\" class=\"dataframe\">\n",
       "  <thead>\n",
       "    <tr style=\"text-align: right;\">\n",
       "      <th></th>\n",
       "      <th>0</th>\n",
       "    </tr>\n",
       "  </thead>\n",
       "  <tbody>\n",
       "    <tr>\n",
       "      <th>Day Mins</th>\n",
       "      <td>1705.004986</td>\n",
       "    </tr>\n",
       "    <tr>\n",
       "      <th>VMail Message</th>\n",
       "      <td>396.230247</td>\n",
       "    </tr>\n",
       "    <tr>\n",
       "      <th>Day Charge</th>\n",
       "      <td>289.853145</td>\n",
       "    </tr>\n",
       "    <tr>\n",
       "      <th>Eve Mins</th>\n",
       "      <td>180.204816</td>\n",
       "    </tr>\n",
       "    <tr>\n",
       "      <th>Int'l Plan</th>\n",
       "      <td>144.736938</td>\n",
       "    </tr>\n",
       "    <tr>\n",
       "      <th>CustServ Calls</th>\n",
       "      <td>141.636760</td>\n",
       "    </tr>\n",
       "    <tr>\n",
       "      <th>Night Mins</th>\n",
       "      <td>33.851782</td>\n",
       "    </tr>\n",
       "    <tr>\n",
       "      <th>Account Length</th>\n",
       "      <td>16.865716</td>\n",
       "    </tr>\n",
       "    <tr>\n",
       "      <th>VMail Plan</th>\n",
       "      <td>16.461508</td>\n",
       "    </tr>\n",
       "    <tr>\n",
       "      <th>Eve Charge</th>\n",
       "      <td>15.314133</td>\n",
       "    </tr>\n",
       "    <tr>\n",
       "      <th>Intl Calls</th>\n",
       "      <td>8.198059</td>\n",
       "    </tr>\n",
       "    <tr>\n",
       "      <th>Intl Mins</th>\n",
       "      <td>4.837372</td>\n",
       "    </tr>\n",
       "    <tr>\n",
       "      <th>Night Charge</th>\n",
       "      <td>1.523052</td>\n",
       "    </tr>\n",
       "    <tr>\n",
       "      <th>Night Calls</th>\n",
       "      <td>1.326017</td>\n",
       "    </tr>\n",
       "    <tr>\n",
       "      <th>Intl Charge</th>\n",
       "      <td>1.310123</td>\n",
       "    </tr>\n",
       "    <tr>\n",
       "      <th>Day Calls</th>\n",
       "      <td>0.731166</td>\n",
       "    </tr>\n",
       "    <tr>\n",
       "      <th>Eve Calls</th>\n",
       "      <td>0.008185</td>\n",
       "    </tr>\n",
       "  </tbody>\n",
       "</table>\n",
       "</div>"
      ],
      "text/plain": [
       "                          0\n",
       "Day Mins        1705.004986\n",
       "VMail Message    396.230247\n",
       "Day Charge       289.853145\n",
       "Eve Mins         180.204816\n",
       "Int'l Plan       144.736938\n",
       "CustServ Calls   141.636760\n",
       "Night Mins        33.851782\n",
       "Account Length    16.865716\n",
       "VMail Plan        16.461508\n",
       "Eve Charge        15.314133\n",
       "Intl Calls         8.198059\n",
       "Intl Mins          4.837372\n",
       "Night Charge       1.523052\n",
       "Night Calls        1.326017\n",
       "Intl Charge        1.310123\n",
       "Day Calls          0.731166\n",
       "Eve Calls          0.008185"
      ]
     },
     "execution_count": 14,
     "metadata": {},
     "output_type": "execute_result"
    }
   ],
   "source": [
    "from sklearn.feature_selection import chi2\n",
    "corrlation={}\n",
    "for i in range(train.shape[1]):\n",
    "    corrlation[train.columns[i]]=chi2(train,train_y)[0][i]\n",
    "pd.DataFrame.from_dict(corrlation,orient='index').sort_values(by=[0],ascending=False)"
   ]
  },
  {
   "cell_type": "code",
   "execution_count": 15,
   "metadata": {},
   "outputs": [
    {
     "name": "stdout",
     "output_type": "stream",
     "text": [
      "1 0.5296 0.1594\n",
      "2 0.6422 0.2377\n",
      "3 0.6422 0.2377\n",
      "4 0.7471 0.342\n",
      "5 0.7314 0.3739\n",
      "6 0.8123 0.6\n",
      "7 0.8319 0.5913\n",
      "8 0.8414 0.6\n",
      "9 0.8389 0.6029\n",
      "10 0.8447 0.6\n",
      "11 0.8722 0.6696\n",
      "12 0.9029 0.7478\n",
      "13 0.8972 0.7478\n",
      "14 0.8979 0.7478\n",
      "15 0.9012 0.7478\n",
      "16 0.9204 0.7536\n",
      "17 0.9094 0.7362\n",
      "______________________\n",
      "16 0.7536231884057971\n"
     ]
    },
    {
     "data": {
      "text/plain": [
       "Index([u'Eve Calls'], dtype='object')"
      ]
     },
     "execution_count": 15,
     "metadata": {},
     "output_type": "execute_result"
    }
   ],
   "source": [
    "from sklearn.feature_selection import SelectKBest\n",
    "from sklearn.feature_selection import chi2\n",
    "score=0\n",
    "index=1\n",
    "for i in range(1,train.shape[1]+1):\n",
    "    model=SelectKBest(chi2,k=i)\n",
    "    a_train=model.fit_transform(train,train_y)\n",
    "    \n",
    "    clf = GBC(random_state=0)\n",
    "    cv_score=cross_val_score(clf, a_train, train_y, cv=cv, scoring='recall').mean()\n",
    "    if score<cv_score:\n",
    "        score=cv_score\n",
    "        index=i\n",
    "    print i,round(cross_val_score(clf, a_train, train_y, cv=cv, scoring='precision').mean(),4),round(cv_score,4)\n",
    "print \"______________________\"\n",
    "print index,score\n",
    "# 被删除的特征\n",
    "model=SelectKBest(chi2,k=index).fit(train,train_y)\n",
    "train.columns[~model.get_support()]"
   ]
  },
  {
   "cell_type": "markdown",
   "metadata": {},
   "source": [
    "### 最大信息系数"
   ]
  },
  {
   "cell_type": "code",
   "execution_count": 16,
   "metadata": {},
   "outputs": [
    {
     "data": {
      "text/html": [
       "<div>\n",
       "<style scoped>\n",
       "    .dataframe tbody tr th:only-of-type {\n",
       "        vertical-align: middle;\n",
       "    }\n",
       "\n",
       "    .dataframe tbody tr th {\n",
       "        vertical-align: top;\n",
       "    }\n",
       "\n",
       "    .dataframe thead th {\n",
       "        text-align: right;\n",
       "    }\n",
       "</style>\n",
       "<table border=\"1\" class=\"dataframe\">\n",
       "  <thead>\n",
       "    <tr style=\"text-align: right;\">\n",
       "      <th></th>\n",
       "      <th>0</th>\n",
       "    </tr>\n",
       "  </thead>\n",
       "  <tbody>\n",
       "    <tr>\n",
       "      <th>Day Charge</th>\n",
       "      <td>0.164590</td>\n",
       "    </tr>\n",
       "    <tr>\n",
       "      <th>Day Mins</th>\n",
       "      <td>0.164590</td>\n",
       "    </tr>\n",
       "    <tr>\n",
       "      <th>Night Mins</th>\n",
       "      <td>0.086017</td>\n",
       "    </tr>\n",
       "    <tr>\n",
       "      <th>Eve Mins</th>\n",
       "      <td>0.085300</td>\n",
       "    </tr>\n",
       "    <tr>\n",
       "      <th>Eve Charge</th>\n",
       "      <td>0.081967</td>\n",
       "    </tr>\n",
       "    <tr>\n",
       "      <th>Night Charge</th>\n",
       "      <td>0.076459</td>\n",
       "    </tr>\n",
       "    <tr>\n",
       "      <th>CustServ Calls</th>\n",
       "      <td>0.060621</td>\n",
       "    </tr>\n",
       "    <tr>\n",
       "      <th>Intl Mins</th>\n",
       "      <td>0.051306</td>\n",
       "    </tr>\n",
       "    <tr>\n",
       "      <th>Intl Charge</th>\n",
       "      <td>0.051306</td>\n",
       "    </tr>\n",
       "    <tr>\n",
       "      <th>Account Length</th>\n",
       "      <td>0.046808</td>\n",
       "    </tr>\n",
       "    <tr>\n",
       "      <th>Night Calls</th>\n",
       "      <td>0.040287</td>\n",
       "    </tr>\n",
       "    <tr>\n",
       "      <th>Day Calls</th>\n",
       "      <td>0.038023</td>\n",
       "    </tr>\n",
       "    <tr>\n",
       "      <th>Int'l Plan</th>\n",
       "      <td>0.037261</td>\n",
       "    </tr>\n",
       "    <tr>\n",
       "      <th>Eve Calls</th>\n",
       "      <td>0.035034</td>\n",
       "    </tr>\n",
       "    <tr>\n",
       "      <th>VMail Message</th>\n",
       "      <td>0.021010</td>\n",
       "    </tr>\n",
       "    <tr>\n",
       "      <th>Intl Calls</th>\n",
       "      <td>0.017221</td>\n",
       "    </tr>\n",
       "    <tr>\n",
       "      <th>VMail Plan</th>\n",
       "      <td>0.007672</td>\n",
       "    </tr>\n",
       "  </tbody>\n",
       "</table>\n",
       "</div>"
      ],
      "text/plain": [
       "                       0\n",
       "Day Charge      0.164590\n",
       "Day Mins        0.164590\n",
       "Night Mins      0.086017\n",
       "Eve Mins        0.085300\n",
       "Eve Charge      0.081967\n",
       "Night Charge    0.076459\n",
       "CustServ Calls  0.060621\n",
       "Intl Mins       0.051306\n",
       "Intl Charge     0.051306\n",
       "Account Length  0.046808\n",
       "Night Calls     0.040287\n",
       "Day Calls       0.038023\n",
       "Int'l Plan      0.037261\n",
       "Eve Calls       0.035034\n",
       "VMail Message   0.021010\n",
       "Intl Calls      0.017221\n",
       "VMail Plan      0.007672"
      ]
     },
     "execution_count": 16,
     "metadata": {},
     "output_type": "execute_result"
    }
   ],
   "source": [
    "from minepy import MINE\n",
    "m=MINE()\n",
    "cols=train.columns\n",
    "corrlation={}\n",
    "for col in cols:\n",
    "    m.compute_score(train[col],train_y)\n",
    "    corrlation[col]=m.mic()\n",
    "pd.DataFrame.from_dict(corrlation,orient='index').sort_values(by=[0],ascending=False)"
   ]
  },
  {
   "cell_type": "code",
   "execution_count": 17,
   "metadata": {},
   "outputs": [
    {
     "name": "stdout",
     "output_type": "stream",
     "text": [
      "1 0.5255 0.1594\n",
      "2 0.531 0.1623\n",
      "3 0.6782 0.3652\n",
      "4 0.6247 0.3855\n",
      "5 0.7481 0.4783\n",
      "6 0.7133 0.4812\n",
      "7 0.6857 0.4696\n",
      "8 0.7821 0.5362\n",
      "9 0.7961 0.5565\n",
      "10 0.8052 0.6174\n",
      "11 0.8373 0.6232\n",
      "12 0.8354 0.6261\n",
      "13 0.8354 0.6261\n",
      "14 0.8987 0.7507\n",
      "15 0.9106 0.7362\n",
      "16 0.8887 0.7478\n",
      "17 0.9094 0.7362\n",
      "______________________\n",
      "14 0.7507246376811594\n"
     ]
    },
    {
     "data": {
      "text/plain": [
       "Index([u'Account Length', u'VMail Message', u'Eve Mins'], dtype='object')"
      ]
     },
     "execution_count": 17,
     "metadata": {},
     "output_type": "execute_result"
    }
   ],
   "source": [
    "# 每次运行时出现的结果可能不同\n",
    "from sklearn.feature_selection import SelectKBest\n",
    "from sklearn.feature_selection import mutual_info_classif\n",
    "score=0\n",
    "index=1\n",
    "for i in range(1,train.shape[1]+1):\n",
    "    model=SelectKBest(mutual_info_classif,k=i)\n",
    "    a_train=model.fit_transform(train,train_y)\n",
    "    \n",
    "    clf = GBC(random_state=0)\n",
    "    cv_score=cross_val_score(clf, a_train, train_y, cv=cv, scoring='recall').mean()\n",
    "    if score<cv_score:\n",
    "        score=cv_score\n",
    "        index=i\n",
    "    print i,round(cross_val_score(clf, a_train, train_y, cv=cv, scoring='precision').mean(),4),round(cv_score,4)\n",
    "print \"______________________\"\n",
    "print index,score\n",
    "# 被删除的特征\n",
    "model=SelectKBest(mutual_info_classif,k=index).fit(train,train_y)\n",
    "train.columns[~model.get_support()]"
   ]
  },
  {
   "cell_type": "markdown",
   "metadata": {},
   "source": [
    "### 基于相关系数的假设检验"
   ]
  },
  {
   "cell_type": "code",
   "execution_count": 18,
   "metadata": {},
   "outputs": [
    {
     "name": "stdout",
     "output_type": "stream",
     "text": [
      "1 0.0 0.0\n",
      "2 0.6214 0.1681\n",
      "3 0.623 0.3826\n",
      "4 0.6247 0.3855\n",
      "5 0.7059 0.4696\n",
      "6 0.6998 0.4696\n",
      "7 0.8133 0.5942\n",
      "8 0.8105 0.5942\n",
      "9 0.8478 0.6493\n",
      "10 0.8478 0.6493\n",
      "11 0.8822 0.7449\n",
      "12 0.9003 0.7391\n",
      "13 0.8973 0.7391\n",
      "14 0.9032 0.7478\n",
      "15 0.9012 0.7478\n",
      "16 0.9204 0.7536\n",
      "17 0.9094 0.7362\n",
      "______________________\n",
      "16 0.7536231884057971\n"
     ]
    },
    {
     "data": {
      "text/plain": [
       "Index([u'Eve Calls'], dtype='object')"
      ]
     },
     "execution_count": 18,
     "metadata": {},
     "output_type": "execute_result"
    }
   ],
   "source": [
    "from sklearn.feature_selection import SelectKBest\n",
    "from sklearn.feature_selection import f_classif\n",
    "score=0\n",
    "index=1\n",
    "for i in range(1,train.shape[1]+1):\n",
    "    model=SelectKBest(f_classif,k=i)\n",
    "    a_train=model.fit_transform(train,train_y)\n",
    "    \n",
    "    clf = GBC(random_state=0)\n",
    "    cv_score=cross_val_score(clf, a_train, train_y, cv=cv, scoring='recall').mean()\n",
    "    if score<cv_score:\n",
    "        score=cv_score\n",
    "        index=i\n",
    "    print i,round(cross_val_score(clf, a_train, train_y, cv=cv, scoring='precision').mean(),4),round(cv_score,4)\n",
    "print \"______________________\"\n",
    "print index,score\n",
    "model=SelectKBest(f_classif,k=index).fit(train,train_y)\n",
    "train.columns[~model.get_support()]"
   ]
  },
  {
   "cell_type": "markdown",
   "metadata": {},
   "source": [
    "### 基于GDBT的单变量特征选择"
   ]
  },
  {
   "cell_type": "code",
   "execution_count": 19,
   "metadata": {},
   "outputs": [
    {
     "name": "stderr",
     "output_type": "stream",
     "text": [
      "C:\\Users\\starcor\\AppData\\Local\\Continuum\\anaconda2\\lib\\site-packages\\ipykernel_launcher.py:6: FutureWarning: reshape is deprecated and will raise in a subsequent release. Please use .values.reshape(...) instead\n",
      "  \n",
      "C:\\Users\\starcor\\AppData\\Local\\Continuum\\anaconda2\\lib\\site-packages\\sklearn\\utils\\validation.py:578: DataConversionWarning: A column-vector y was passed when a 1d array was expected. Please change the shape of y to (n_samples, ), for example using ravel().\n",
      "  y = column_or_1d(y, warn=True)\n"
     ]
    },
    {
     "data": {
      "text/html": [
       "<div>\n",
       "<style scoped>\n",
       "    .dataframe tbody tr th:only-of-type {\n",
       "        vertical-align: middle;\n",
       "    }\n",
       "\n",
       "    .dataframe tbody tr th {\n",
       "        vertical-align: top;\n",
       "    }\n",
       "\n",
       "    .dataframe thead th {\n",
       "        text-align: right;\n",
       "    }\n",
       "</style>\n",
       "<table border=\"1\" class=\"dataframe\">\n",
       "  <thead>\n",
       "    <tr style=\"text-align: right;\">\n",
       "      <th></th>\n",
       "      <th>0</th>\n",
       "    </tr>\n",
       "  </thead>\n",
       "  <tbody>\n",
       "    <tr>\n",
       "      <th>CustServ Calls</th>\n",
       "      <td>0.1768</td>\n",
       "    </tr>\n",
       "    <tr>\n",
       "      <th>Day Charge</th>\n",
       "      <td>0.1594</td>\n",
       "    </tr>\n",
       "    <tr>\n",
       "      <th>Day Mins</th>\n",
       "      <td>0.1594</td>\n",
       "    </tr>\n",
       "    <tr>\n",
       "      <th>Eve Mins</th>\n",
       "      <td>0.0145</td>\n",
       "    </tr>\n",
       "    <tr>\n",
       "      <th>Eve Charge</th>\n",
       "      <td>0.0116</td>\n",
       "    </tr>\n",
       "    <tr>\n",
       "      <th>Night Mins</th>\n",
       "      <td>0.0087</td>\n",
       "    </tr>\n",
       "    <tr>\n",
       "      <th>Day Calls</th>\n",
       "      <td>0.0058</td>\n",
       "    </tr>\n",
       "    <tr>\n",
       "      <th>Night Charge</th>\n",
       "      <td>0.0058</td>\n",
       "    </tr>\n",
       "    <tr>\n",
       "      <th>Eve Calls</th>\n",
       "      <td>0.0029</td>\n",
       "    </tr>\n",
       "    <tr>\n",
       "      <th>Intl Calls</th>\n",
       "      <td>0.0029</td>\n",
       "    </tr>\n",
       "    <tr>\n",
       "      <th>Intl Mins</th>\n",
       "      <td>0.0029</td>\n",
       "    </tr>\n",
       "    <tr>\n",
       "      <th>Intl Charge</th>\n",
       "      <td>0.0029</td>\n",
       "    </tr>\n",
       "    <tr>\n",
       "      <th>Int'l Plan</th>\n",
       "      <td>0.0000</td>\n",
       "    </tr>\n",
       "    <tr>\n",
       "      <th>Night Calls</th>\n",
       "      <td>0.0000</td>\n",
       "    </tr>\n",
       "    <tr>\n",
       "      <th>Account Length</th>\n",
       "      <td>0.0000</td>\n",
       "    </tr>\n",
       "    <tr>\n",
       "      <th>VMail Message</th>\n",
       "      <td>0.0000</td>\n",
       "    </tr>\n",
       "    <tr>\n",
       "      <th>VMail Plan</th>\n",
       "      <td>0.0000</td>\n",
       "    </tr>\n",
       "  </tbody>\n",
       "</table>\n",
       "</div>"
      ],
      "text/plain": [
       "                     0\n",
       "CustServ Calls  0.1768\n",
       "Day Charge      0.1594\n",
       "Day Mins        0.1594\n",
       "Eve Mins        0.0145\n",
       "Eve Charge      0.0116\n",
       "Night Mins      0.0087\n",
       "Day Calls       0.0058\n",
       "Night Charge    0.0058\n",
       "Eve Calls       0.0029\n",
       "Intl Calls      0.0029\n",
       "Intl Mins       0.0029\n",
       "Intl Charge     0.0029\n",
       "Int'l Plan      0.0000\n",
       "Night Calls     0.0000\n",
       "Account Length  0.0000\n",
       "VMail Message   0.0000\n",
       "VMail Plan      0.0000"
      ]
     },
     "execution_count": 19,
     "metadata": {},
     "output_type": "execute_result"
    }
   ],
   "source": [
    "clf =GBC(random_state=0)\n",
    "scores=[]\n",
    "columns=train.columns\n",
    "corrlation={}\n",
    "for i in range(train.shape[1]):\n",
    "    score=cross_val_score(clf,train.values[:,i:i+1],train_y.reshape(-1,1),scoring='recall',\n",
    "                          cv=cv)\n",
    "    corrlation[columns[i]]=format(np.mean(score),'.4f')\n",
    "pd.DataFrame.from_dict(corrlation,orient='index').sort_values(by=[0],ascending=False)"
   ]
  },
  {
   "cell_type": "code",
   "execution_count": 20,
   "metadata": {},
   "outputs": [
    {
     "data": {
      "text/plain": [
       "(0.9094, 0.7391)"
      ]
     },
     "execution_count": 20,
     "metadata": {},
     "output_type": "execute_result"
    }
   ],
   "source": [
    "# 删除特征重要性倒数第一的特征\n",
    "train1=train.drop(['VMail Plan'],axis=1)\n",
    "clf =GBC(random_state=0)\n",
    "round(cross_val_score(clf, train1, train_y, cv=cv, scoring='precision').mean(),4),round(cross_val_score(clf, train1, train_y, cv=cv, scoring='recall').mean(),4)"
   ]
  },
  {
   "cell_type": "markdown",
   "metadata": {},
   "source": [
    "### 递归特征消除"
   ]
  },
  {
   "cell_type": "code",
   "execution_count": 21,
   "metadata": {},
   "outputs": [
    {
     "name": "stdout",
     "output_type": "stream",
     "text": [
      "Index([u'Account Length', u'Night Calls'], dtype='object') 0.744927536231884\n"
     ]
    }
   ],
   "source": [
    "# 通过交叉验证自动确定消除特征数目\n",
    "from sklearn.feature_selection import RFECV\n",
    "\n",
    "clf=RFECV(estimator=GBC(random_state=0),step=1,cv=cv,scoring='recall')\n",
    "clf.fit(train,train_y)\n",
    "# 被消除的特征\n",
    "print train.columns[~clf.support_],np.max(clf.grid_scores_)\n",
    "# 消除特征剩余个数对应得分\n",
    "#clf.grid_scores_"
   ]
  },
  {
   "cell_type": "code",
   "execution_count": 22,
   "metadata": {},
   "outputs": [
    {
     "data": {
      "text/plain": [
       "(0.8948, 0.7478)"
      ]
     },
     "execution_count": 22,
     "metadata": {},
     "output_type": "execute_result"
    }
   ],
   "source": [
    "# 综合前面的选择，删除两个特征\n",
    "train1=train.drop(['Night Calls','Account Length'],axis=1)\n",
    "clf =GBC(random_state=0)\n",
    "round(cross_val_score(clf, train1, train_y, cv=cv, scoring='precision').mean(),4),round(cross_val_score(clf, train1, train_y, cv=cv, scoring='recall').mean(),4)"
   ]
  },
  {
   "cell_type": "markdown",
   "metadata": {},
   "source": [
    "### 基于L1的LR特征选择"
   ]
  },
  {
   "cell_type": "code",
   "execution_count": 23,
   "metadata": {},
   "outputs": [
    {
     "name": "stdout",
     "output_type": "stream",
     "text": [
      "0.0006 0.7362318840579711\n",
      "0.00065 0.7362318840579711\n",
      "0.0007 0.7362318840579711\n",
      "0.00075 0.7362318840579711\n",
      "0.0008 0.7362318840579711\n",
      "0.00085 0.7362318840579711\n",
      "0.0009 0.7362318840579711\n",
      "0.00095 0.7362318840579711\n",
      "0.001 0.7362318840579711\n",
      "0.00105 0.7362318840579711\n",
      "0.0011 0.744927536231884\n",
      "0.00115 0.7507246376811595\n",
      "0.0012 0.744927536231884\n",
      "0.00125 0.7507246376811595\n",
      "0.0013 0.7507246376811595\n",
      "0.00135 0.7449275362318841\n",
      "0.0014 0.7333333333333334\n",
      "0.00145 0.7449275362318841\n",
      "0.0015 0.7362318840579711\n",
      "0.00155 0.7391304347826088\n",
      "\n",
      "0.00115 0.7507246376811595\n"
     ]
    }
   ],
   "source": [
    "# 每次运行结果不一样\n",
    "from sklearn.feature_selection import SelectFromModel\n",
    "\n",
    "score=0\n",
    "index=0\n",
    "clf1=LR(penalty=\"l1\").fit(train.values, train_y.values.reshape(-1,1))\n",
    "for i in range(60,160,5):\n",
    "    model = SelectFromModel(clf1,threshold=i/100000.0)\n",
    "    model.fit(train,train_y)\n",
    "    train1=model.transform(train)\n",
    "    clf =GBC(random_state=0)\n",
    "    cv_score=cross_val_score(clf, train1, train_y, cv=cv, scoring='recall').mean()\n",
    "    if score<cv_score:\n",
    "        score=cv_score\n",
    "        index=i/100000.0\n",
    "    print i/100000.0,cv_score\n",
    "print\n",
    "print index,score"
   ]
  },
  {
   "cell_type": "code",
   "execution_count": 24,
   "metadata": {},
   "outputs": [
    {
     "name": "stdout",
     "output_type": "stream",
     "text": [
      "Index([u'Account Length', u'Night Calls', u'Night Charge', u'Intl Charge'], dtype='object')\n"
     ]
    },
    {
     "data": {
      "text/plain": [
       "(0.9047, 0.7507)"
      ]
     },
     "execution_count": 24,
     "metadata": {},
     "output_type": "execute_result"
    }
   ],
   "source": [
    "clf1=LR(penalty=\"l1\").fit(train.values, train_y.values.reshape(-1,1))\n",
    "model = SelectFromModel(clf1,threshold=index)\n",
    "model.fit(train,train_y)\n",
    "train1=model.transform(train)\n",
    "\n",
    "clf =GBC(random_state=0)\n",
    "print train.columns[~model.get_support()]\n",
    "round(cross_val_score(clf, train1, train_y, cv=cv, scoring='precision').mean(),4),round(cross_val_score(clf, train1, train_y, cv=cv, scoring='recall').mean(),4)"
   ]
  },
  {
   "cell_type": "markdown",
   "metadata": {},
   "source": [
    "### 基于GDBT的特征选择"
   ]
  },
  {
   "cell_type": "code",
   "execution_count": 25,
   "metadata": {},
   "outputs": [
    {
     "name": "stdout",
     "output_type": "stream",
     "text": [
      "0.025 0.7391304347826088\n",
      "0.026 0.7391304347826088\n",
      "0.027 0.7391304347826088\n",
      "0.028 0.744927536231884\n",
      "0.029 0.7507246376811596\n",
      "0.03 0.7507246376811596\n",
      "0.031 0.7391304347826088\n",
      "0.032 0.7391304347826088\n",
      "0.033 0.7391304347826088\n",
      "0.034 0.7391304347826088\n",
      "\n",
      "0.029 0.7507246376811596\n"
     ]
    }
   ],
   "source": [
    "from sklearn.feature_selection import SelectFromModel\n",
    "\n",
    "score=0\n",
    "index=0\n",
    "clf1=GBC(random_state=0).fit(train.values, train_y.values.reshape(-1,1))\n",
    "for i in range(250,350,10):\n",
    "    model = SelectFromModel(clf1,threshold=i/10000.0)\n",
    "    model.fit(train,train_y)\n",
    "    train1=model.transform(train)\n",
    "    clf =GBC(random_state=0)\n",
    "    cv_score=cross_val_score(clf, train1, train_y, cv=cv, scoring='recall').mean()\n",
    "    if score<cv_score:\n",
    "        score=cv_score\n",
    "        index=i/10000.0\n",
    "    print i/10000.0,cv_score\n",
    "print\n",
    "print index,score"
   ]
  },
  {
   "cell_type": "code",
   "execution_count": 26,
   "metadata": {},
   "outputs": [
    {
     "name": "stdout",
     "output_type": "stream",
     "text": [
      "Index([u'Account Length', u'VMail Plan', u'Day Calls', u'Eve Calls'], dtype='object')\n"
     ]
    },
    {
     "data": {
      "text/plain": [
       "(0.9069, 0.7507)"
      ]
     },
     "execution_count": 26,
     "metadata": {},
     "output_type": "execute_result"
    }
   ],
   "source": [
    "model = SelectFromModel(clf1,threshold=index)\n",
    "model.fit(train,train_y)\n",
    "train1=model.transform(train)\n",
    "\n",
    "clf =GBC(random_state=0)\n",
    "print train.columns[~model.get_support()]\n",
    "round(cross_val_score(clf, train1, train_y, cv=cv, scoring='precision').mean(),4),round(cross_val_score(clf, train1, train_y, cv=cv, scoring='recall').mean(),4)"
   ]
  },
  {
   "cell_type": "markdown",
   "metadata": {},
   "source": [
    "#### 小结\n",
    "- 方差筛选\n",
    "    - discarded feature: None\n",
    "    - recall score:0.7362 \n",
    "- 卡方检验\n",
    "    - discarded feature: 'Eve Calls'\n",
    "    - recall score:0.7536231884057971\n",
    "- 互信息法\n",
    "    - discarded feature: 'Account Length', 'VMail Message', 'Eve Mins'\n",
    "    - recall score:0.7507246376811594\n",
    "- 基于相关系数的假设检验\n",
    "    - discarded feature: 'Eve Calls'\n",
    "    - recall score:0.7536231884057971\n",
    "- 基于GDBT的单变量特征选择\n",
    "    - discarded feature: 'VMail Plan'\n",
    "    - recall score:0.7391\n",
    "- 递归特征消除\n",
    "    - discarded feature: 'Night Calls','Account Length'\n",
    "    - recall score:0.7478\n",
    "- 基于L1的LR特征选择\n",
    "    - discarded feature: 'Account Length', 'Night Calls', 'Night Charge', 'Intl Charge'\n",
    "    - recall score:0.7507\n",
    "- 基于GDBT的特征选择\n",
    "    - discarded feature: 'Account Length', 'VMail Plan', 'Day Calls', 'Eve Calls'\n",
    "    - recall score:0.7507"
   ]
  },
  {
   "cell_type": "code",
   "execution_count": 11,
   "metadata": {},
   "outputs": [
    {
     "data": {
      "text/plain": [
       "(0.9204, 0.7536)"
      ]
     },
     "execution_count": 11,
     "metadata": {},
     "output_type": "execute_result"
    }
   ],
   "source": [
    "# 去除特征Eve Calls\n",
    "train1=train.drop(['Eve Calls'],axis=1)\n",
    "clf =GBC(random_state=0)\n",
    "round(cross_val_score(clf, train1, train_y, cv=cv, scoring='precision').mean(),4),round(cross_val_score(clf, train1, train_y, cv=cv, scoring='recall').mean(),4)"
   ]
  },
  {
   "cell_type": "code",
   "execution_count": 38,
   "metadata": {},
   "outputs": [
    {
     "data": {
      "text/plain": [
       "(0.9046, 0.7536)"
      ]
     },
     "execution_count": 38,
     "metadata": {},
     "output_type": "execute_result"
    }
   ],
   "source": [
    "# 去除特征Eve Calls,Night Calls\n",
    "train1=train.drop(['Eve Calls', 'Night Calls'],axis=1)\n",
    "clf =GBC(random_state=0)\n",
    "round(cross_val_score(clf, train1, train_y, cv=cv, scoring='precision').mean(),4),round(cross_val_score(clf, train1, train_y, cv=cv, scoring='recall').mean(),4)"
   ]
  },
  {
   "cell_type": "code",
   "execution_count": 12,
   "metadata": {},
   "outputs": [
    {
     "data": {
      "text/plain": [
       "(0.7753623188405797, 0.8492063492063492)"
      ]
     },
     "execution_count": 12,
     "metadata": {},
     "output_type": "execute_result"
    }
   ],
   "source": [
    "clf.fit(train1,train_y)\n",
    "test1=test.drop('Eve Calls',axis=1)\n",
    "pred=clf.predict(test1)\n",
    "metrics.recall_score(test_y,pred),metrics.precision_score(test_y,pred)"
   ]
  },
  {
   "cell_type": "code",
   "execution_count": 40,
   "metadata": {},
   "outputs": [
    {
     "data": {
      "text/plain": [
       "0.7753623188405797"
      ]
     },
     "execution_count": 40,
     "metadata": {},
     "output_type": "execute_result"
    }
   ],
   "source": [
    "clf.fit(train1,train_y)\n",
    "test1=test.drop(['Eve Calls','Night Calls'],axis=1)\n",
    "pred=clf.predict(test1)\n",
    "metrics.recall_score(test_y,pred)"
   ]
  },
  {
   "cell_type": "markdown",
   "metadata": {},
   "source": [
    "### GDBT调参"
   ]
  },
  {
   "cell_type": "code",
   "execution_count": 41,
   "metadata": {},
   "outputs": [
    {
     "data": {
      "text/plain": [
       "(0.7420289855072464, {'n_estimators': 78})"
      ]
     },
     "execution_count": 41,
     "metadata": {},
     "output_type": "execute_result"
    }
   ],
   "source": [
    "from sklearn.model_selection import GridSearchCV\n",
    "param_test1 = {'n_estimators':range(75,90,1)}\n",
    "gsearch1 = GridSearchCV(estimator = GBC(learning_rate=0.1,max_depth=4,random_state=0), \n",
    "                   param_grid = param_test1, scoring='recall',iid=False,cv=cv)\n",
    "gsearch1.fit(train1,train_y)\n",
    "gsearch1.best_score_,gsearch1.best_params_"
   ]
  },
  {
   "cell_type": "code",
   "execution_count": 42,
   "metadata": {},
   "outputs": [
    {
     "data": {
      "text/plain": [
       "(0.7565217391304347, {'max_depth': 5, 'min_samples_split': 2})"
      ]
     },
     "execution_count": 42,
     "metadata": {},
     "output_type": "execute_result"
    }
   ],
   "source": [
    "#调节参数max_depth和min_samples_split\n",
    "param_test2 = {'max_depth':range(3,9,2), 'min_samples_split':range(2,503,100)}\n",
    "gsearch2 = GridSearchCV(estimator =GBC(learning_rate=0.1, n_estimators=gsearch1.best_params_['n_estimators'],\n",
    "                                                          random_state=0), \n",
    "                    param_grid = param_test2, scoring='recall',iid=False, cv=cv)\n",
    "gsearch2.fit(train1,train_y)\n",
    "gsearch2.best_score_,gsearch2.best_params_"
   ]
  },
  {
   "cell_type": "code",
   "execution_count": 43,
   "metadata": {},
   "outputs": [
    {
     "data": {
      "text/plain": [
       "(0.7623188405797101, {'min_samples_leaf': 1, 'min_samples_split': 52})"
      ]
     },
     "execution_count": 43,
     "metadata": {},
     "output_type": "execute_result"
    }
   ],
   "source": [
    "#调节参数min_samples_split和min_samples_leaf\n",
    "param_test3 = {'min_samples_split':range(2,200,50), 'min_samples_leaf':range(1,100,10)}\n",
    "gsearch3 = GridSearchCV(estimator = GBC(learning_rate=0.1, n_estimators=gsearch1.best_params_['n_estimators'],\n",
    "                                                          max_depth=gsearch2.best_params_['max_depth'], random_state=0), \n",
    "                   param_grid = param_test3, scoring='recall',iid=False, cv=cv)\n",
    "gsearch3.fit(train1,train_y)\n",
    "gsearch3.best_score_,gsearch3.best_params_"
   ]
  },
  {
   "cell_type": "code",
   "execution_count": 13,
   "metadata": {},
   "outputs": [
    {
     "data": {
      "text/plain": [
       "(0.8711, 0.7565)"
      ]
     },
     "execution_count": 13,
     "metadata": {},
     "output_type": "execute_result"
    }
   ],
   "source": [
    "# clf = GBC(learning_rate=0.1, n_estimators=gsearch1.best_params_['n_estimators'],\n",
    "#                             max_depth=gsearch2.best_params_['max_depth'], \n",
    "#                             min_samples_leaf =gsearch3.best_params_['min_samples_leaf'],\n",
    "#                             min_samples_split =gsearch3.best_params_['min_samples_split'],\n",
    "#                         random_state=0)\n",
    "clf = GBC(learning_rate=0.1, n_estimators=78,\n",
    "                            max_depth=5, \n",
    "                            min_samples_leaf =1,\n",
    "                            min_samples_split =52,\n",
    "                        random_state=0)\n",
    "round(cross_val_score(clf, train1, train_y, cv=cv, scoring='precision').mean(),4),round(cross_val_score(clf, train1, train_y, cv=cv, scoring='recall').mean(),4)"
   ]
  },
  {
   "cell_type": "code",
   "execution_count": 14,
   "metadata": {},
   "outputs": [
    {
     "data": {
      "text/plain": [
       "(0.8043478260869565, 0.8740157480314961)"
      ]
     },
     "execution_count": 14,
     "metadata": {},
     "output_type": "execute_result"
    }
   ],
   "source": [
    "clf.fit(train1,train_y)\n",
    "pred=clf.predict(test1)\n",
    "metrics.recall_score(test_y,pred),metrics.precision_score(test_y,pred)"
   ]
  },
  {
   "cell_type": "markdown",
   "metadata": {},
   "source": [
    "#### smote算法过采样"
   ]
  },
  {
   "cell_type": "code",
   "execution_count": 16,
   "metadata": {},
   "outputs": [],
   "source": [
    "# 过抽样处理库SMOTE\n",
    "from imblearn.over_sampling import SMOTE \n",
    "\n",
    "# 建立SMOTE模型对象\n",
    "model_smote = SMOTE() \n",
    "# 输入数据并作过抽样处理\n",
    "x_smote_resampled, y_smote_resampled = model_smote.fit_sample(train,train_y) \n",
    "x_smote_resampled = pd.DataFrame(x_smote_resampled, columns=train.columns)\n",
    "y_smote_resampled = pd.DataFrame(y_smote_resampled,columns=['Churn?']) "
   ]
  },
  {
   "cell_type": "code",
   "execution_count": 17,
   "metadata": {},
   "outputs": [
    {
     "name": "stderr",
     "output_type": "stream",
     "text": [
      "C:\\Users\\starcor\\AppData\\Local\\Continuum\\anaconda2\\lib\\site-packages\\sklearn\\utils\\validation.py:578: DataConversionWarning: A column-vector y was passed when a 1d array was expected. Please change the shape of y to (n_samples, ), for example using ravel().\n",
      "  y = column_or_1d(y, warn=True)\n"
     ]
    },
    {
     "data": {
      "text/plain": [
       "(0.9659, 0.902)"
      ]
     },
     "execution_count": 17,
     "metadata": {},
     "output_type": "execute_result"
    }
   ],
   "source": [
    "# 去除特征Eve Calls\n",
    "train1=x_smote_resampled.drop(['Eve Calls'],axis=1)\n",
    "clf =GBC(random_state=0)\n",
    "round(cross_val_score(clf, train1, y_smote_resampled, cv=cv, scoring='precision').mean(),4),round(cross_val_score(clf, train1, y_smote_resampled, cv=cv, scoring='recall').mean(),4)"
   ]
  },
  {
   "cell_type": "code",
   "execution_count": 18,
   "metadata": {},
   "outputs": [
    {
     "data": {
      "text/plain": [
       "(0.8188405797101449, 0.773972602739726)"
      ]
     },
     "execution_count": 18,
     "metadata": {},
     "output_type": "execute_result"
    }
   ],
   "source": [
    "clf = GBC(learning_rate=0.1, n_estimators=78,\n",
    "                            max_depth=5, \n",
    "                            min_samples_leaf =1,\n",
    "                            min_samples_split =52,\n",
    "                        random_state=0)\n",
    "clf.fit(train1,y_smote_resampled)\n",
    "test1=test.drop(['Eve Calls'],axis=1)\n",
    "pred=clf.predict(test1)\n",
    "metrics.recall_score(test_y,pred),metrics.precision_score(test_y,pred)"
   ]
  },
  {
   "cell_type": "markdown",
   "metadata": {},
   "source": [
    "####  异常值检测"
   ]
  },
  {
   "cell_type": "code",
   "execution_count": 31,
   "metadata": {},
   "outputs": [
    {
     "data": {
      "image/png": "[encoded data removed]",
      "text/plain": [
       "<matplotlib.figure.Figure at 0xc3043c8>"
      ]
     },
     "metadata": {},
     "output_type": "display_data"
    }
   ],
   "source": [
    "#聚类+手肘法\n",
    "from sklearn.cluster import KMeans  \n",
    "  \n",
    "df = pd.concat([train,train_y],axis=1)\n",
    "# 存放每次结果的误差平方和  \n",
    "SSE = []  \n",
    "for k in range(1,10):  \n",
    "    estimator = KMeans(n_clusters=k)  # 构造聚类器  \n",
    "    estimator.fit(df)  \n",
    "    SSE.append(estimator.inertia_)  \n",
    "X = range(1,10)  \n",
    "plt.xlabel('k')  \n",
    "plt.ylabel('SSE')  \n",
    "plt.plot(X,SSE,'o-')  \n",
    "plt.show()  "
   ]
  },
  {
   "cell_type": "code",
   "execution_count": 33,
   "metadata": {},
   "outputs": [
    {
     "data": {
      "image/png": "[encoded data removed]",
      "text/plain": [
       "<matplotlib.figure.Figure at 0xd53e9e8>"
      ]
     },
     "metadata": {},
     "output_type": "display_data"
    }
   ],
   "source": [
    "# 聚类+轮廓系数\n",
    "from sklearn.metrics import silhouette_score\n",
    "plt.rcParams['font.sans-serif']=['SimHei'] #用来正常显示中文标签\n",
    "plt.rcParams['axes.unicode_minus']=False #用来正常显示负号\n",
    "\n",
    "# 存放轮廓系数  \n",
    "Scores = []  \n",
    "for k in range(2,10):  \n",
    "    estimator = KMeans(n_clusters=k)  # 构造聚类器  \n",
    "    estimator.fit(df)  \n",
    "    Scores.append(silhouette_score(df,estimator.labels_,metric='euclidean'))  \n",
    "X = range(2,10)  \n",
    "plt.xlabel('k')  \n",
    "plt.ylabel(u'轮廓系数')  \n",
    "plt.plot(X,Scores,'o-')  \n",
    "plt.show()  "
   ]
  },
  {
   "cell_type": "code",
   "execution_count": 81,
   "metadata": {},
   "outputs": [],
   "source": [
    "df = pd.concat([train,train_y],axis=1).reset_index()"
   ]
  },
  {
   "cell_type": "code",
   "execution_count": 84,
   "metadata": {},
   "outputs": [],
   "source": [
    "df=df.drop('index',axis=1)"
   ]
  },
  {
   "cell_type": "code",
   "execution_count": 86,
   "metadata": {},
   "outputs": [
    {
     "data": {
      "text/plain": [
       "(2333, 18)"
      ]
     },
     "execution_count": 86,
     "metadata": {},
     "output_type": "execute_result"
    }
   ],
   "source": [
    "df.shape"
   ]
  },
  {
   "cell_type": "code",
   "execution_count": 80,
   "metadata": {},
   "outputs": [
    {
     "data": {
      "image/png": "[encoded data removed]",
      "text/plain": [
       "<matplotlib.figure.Figure at 0x112bf9e8>"
      ]
     },
     "metadata": {},
     "output_type": "display_data"
    }
   ],
   "source": [
    "plt.scatter(df.index.values, df.loc[:,'Night Calls'].values, marker='o')\n",
    "plt.show()"
   ]
  },
  {
   "cell_type": "code",
   "execution_count": 43,
   "metadata": {},
   "outputs": [
    {
     "data": {
      "text/plain": [
       "<matplotlib.collections.PathCollection at 0x10d88b00>"
      ]
     },
     "execution_count": 43,
     "metadata": {},
     "output_type": "execute_result"
    },
    {
     "data": {
      "image/png": "[encoded data removed]",
      "text/plain": [
       "<matplotlib.figure.Figure at 0xdc134a8>"
      ]
     },
     "metadata": {},
     "output_type": "display_data"
    }
   ],
   "source": [
    "kmeans = KMeans(n_clusters=4)\n",
    "kmeans.fit(df)\n",
    "y_kmeans = kmeans.predict(df)\n",
    "\n",
    "centers = kmeans.cluster_centers_\n",
    "plt.scatter(centers[:, 0], centers[:, 1], c='black', s=200, alpha=0.5)"
   ]
  },
  {
   "cell_type": "code",
   "execution_count": null,
   "metadata": {},
   "outputs": [],
   "source": []
  }
 ],
 "metadata": {
  "kernelspec": {
   "display_name": "Python 2",
   "language": "python",
   "name": "python2"
  },
  "language_info": {
   "codemirror_mode": {
    "name": "ipython",
    "version": 2
   },
   "file_extension": ".py",
   "mimetype": "text/x-python",
   "name": "python",
   "nbconvert_exporter": "python",
   "pygments_lexer": "ipython2",
   "version": "2.7.14"
  }
 },
 "nbformat": 4,
 "nbformat_minor": 2
}
